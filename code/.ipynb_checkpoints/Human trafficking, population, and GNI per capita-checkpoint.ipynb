{
 "cells": [
  {
   "cell_type": "markdown",
   "id": "f17893b3-026a-4ae8-b281-a92a65ae3fe9",
   "metadata": {},
   "source": [
    "# Human traficking, GNI per capita, and population"
   ]
  },
  {
   "cell_type": "markdown",
   "id": "81ffb179-4cd7-4205-b082-69699b8ceed0",
   "metadata": {
    "jp-MarkdownHeadingCollapsed": true
   },
   "source": [
    "## Introduction"
   ]
  },
  {
   "cell_type": "markdown",
   "id": "2854df9c-ab0f-433f-9452-d3c9dc33470b",
   "metadata": {},
   "source": [
    "Human trafficking is often defined as the coercion of a person into labor, servitude, slavery, commercial sex, or organ removal. It is a global problem that impacts victims from all ages and socioeconomic backgrounds.\n",
    "<br>\n",
    "In this notebook, we use world development statistics from [Gapminder](https://www.gapminder.org/about/) and the [Counter Trafficking Data Collaborative](https://www.ctdatacollaborative.org/) to answer two questions:\n",
    "* Is a victim’s economic background connected to the way they were recruited?\n",
    "* Is a victim’s majority at entry connected to the country of exploitation’s population?"
   ]
  },
  {
   "cell_type": "markdown",
   "id": "623514a6-0c9e-4972-be1b-2da448fda964",
   "metadata": {
    "jp-MarkdownHeadingCollapsed": true
   },
   "source": [
    "## Considerations"
   ]
  },
  {
   "cell_type": "markdown",
   "id": "55212456-33cf-4405-848c-0479a6d6ac10",
   "metadata": {},
   "source": [
    "It is important to consider that:\n",
    "* We use a victim's majority at entry--minor, adult--as an indicator of their age when they first became involved with human trafficking. Note that victims may not be immediately exploited at this time--for instance, they may be being groomed. Also, note that there are other age metrics, such as age interval at report, majority at report, and majority at exploitation. However, we chose to work with the majority at entry metric hoping to find situations early in the trafficking process.\n",
    "* We use GNI per capita to measure a victim's economic background based on the year they submitted a report and their reported country of citizenship.\n",
    "* The country of exploitation's population is a metric also queried using the victim's year of report and their reported country of exploitation.\n",
    "* \"Other\" recruiters--parties not classified as family, friends, or intimate partners--include traffickers, smugglers, and contractors, to mention a few [1]."
   ]
  },
  {
   "cell_type": "markdown",
   "id": "d5a6a1ee-64ea-4b66-acad-b382bf4b4aa7",
   "metadata": {
    "jp-MarkdownHeadingCollapsed": true
   },
   "source": [
    "## Data cleaning"
   ]
  },
  {
   "cell_type": "markdown",
   "id": "3d606cd0-5c16-4615-8d96-b91c65b772d4",
   "metadata": {
    "jp-MarkdownHeadingCollapsed": true
   },
   "source": [
    "### Dataset 1: The Global K-anonymized Dataset"
   ]
  },
  {
   "cell_type": "code",
   "execution_count": 7,
   "id": "ec5f26fb-a69b-4fb1-aeb3-7174cb2743df",
   "metadata": {},
   "outputs": [],
   "source": [
    "import pandas as pd"
   ]
  },
  {
   "cell_type": "code",
   "execution_count": 8,
   "id": "f24ec035-677a-4252-b8bb-f2c640b4271b",
   "metadata": {},
   "outputs": [],
   "source": [
    "ht = pd.read_excel(\"../data/The Global K-anon Dataset 15 July 2021.xlsx\")"
   ]
  },
  {
   "cell_type": "code",
   "execution_count": 9,
   "id": "4019b73d-3186-4157-8f78-1c260c26c017",
   "metadata": {},
   "outputs": [
    {
     "name": "stdout",
     "output_type": "stream",
     "text": [
      "<class 'pandas.core.frame.DataFrame'>\n",
      "RangeIndex: 97750 entries, 0 to 97749\n",
      "Data columns (total 64 columns):\n",
      " #   Column                                                                                           Non-Null Count  Dtype  \n",
      "---  ------                                                                                           --------------  -----  \n",
      " 0   By using this data you agree to the Terms of Use: https://www.ctdatacollaborative.org/terms-use  0 non-null      float64\n",
      " 1   yearOfRegistration                                                                               95739 non-null  float64\n",
      " 2   Datasource                                                                                       97750 non-null  object \n",
      " 3   gender                                                                                           89612 non-null  object \n",
      " 4   ageBroad                                                                                         50967 non-null  object \n",
      " 5   majorityStatus                                                                                   71246 non-null  object \n",
      " 6   majorityStatusAtExploit                                                                          21286 non-null  object \n",
      " 7   majorityEntry                                                                                    7252 non-null   object \n",
      " 8   citizenship                                                                                      53290 non-null  object \n",
      " 9   meansOfControlDebtBondage                                                                        8235 non-null   float64\n",
      " 10  meansOfControlTakesEarnings                                                                      11438 non-null  float64\n",
      " 11  meansOfControlRestrictsFinancialAccess                                                           4331 non-null   float64\n",
      " 12  meansOfControlThreats                                                                            15527 non-null  float64\n",
      " 13  meansOfControlPsychologicalAbuse                                                                 14736 non-null  float64\n",
      " 14  meansOfControlPhysicalAbuse                                                                      11933 non-null  float64\n",
      " 15  meansOfControlSexualAbuse                                                                        9013 non-null   float64\n",
      " 16  meansOfControlFalsePromises                                                                      8124 non-null   float64\n",
      " 17  meansOfControlPsychoactiveSubstances                                                             10972 non-null  float64\n",
      " 18  meansOfControlRestrictsMovement                                                                  14113 non-null  float64\n",
      " 19  meansOfControlRestrictsMedicalCare                                                               5971 non-null   float64\n",
      " 20  meansOfControlExcessiveWorkingHours                                                              8629 non-null   float64\n",
      " 21  meansOfControlUsesChildren                                                                       3909 non-null   float64\n",
      " 22  meansOfControlThreatOfLawEnforcement                                                             8923 non-null   float64\n",
      " 23  meansOfControlWithholdsNecessities                                                               8886 non-null   float64\n",
      " 24  meansOfControlWithholdsDocuments                                                                 8284 non-null   float64\n",
      " 25  meansOfControlOther                                                                              11604 non-null  float64\n",
      " 26  meansOfControlNotSpecified                                                                       83783 non-null  float64\n",
      " 27  meansOfControlConcatenated                                                                       58315 non-null  object \n",
      " 28  isForcedLabour                                                                                   65647 non-null  float64\n",
      " 29  isSexualExploit                                                                                  65401 non-null  float64\n",
      " 30  isOtherExploit                                                                                   73421 non-null  float64\n",
      " 31  isSexAndLabour                                                                                   62568 non-null  float64\n",
      " 32  isForcedMarriage                                                                                 13504 non-null  float64\n",
      " 33  isForcedMilitary                                                                                 13836 non-null  float64\n",
      " 34  isOrganRemoval                                                                                   13836 non-null  float64\n",
      " 35  isSlaveryAndPractices                                                                            8876 non-null   float64\n",
      " 36  typeOfExploitConcatenated                                                                        66289 non-null  object \n",
      " 37  typeOfLabourAgriculture                                                                          61606 non-null  float64\n",
      " 38  typeOfLabourAquafarming                                                                          61577 non-null  float64\n",
      " 39  typeOfLabourBegging                                                                              61564 non-null  float64\n",
      " 40  typeOfLabourConstruction                                                                         61886 non-null  float64\n",
      " 41  typeOfLabourDomesticWork                                                                         63695 non-null  float64\n",
      " 42  typeOfLabourHospitality                                                                          62718 non-null  float64\n",
      " 43  typeOfLabourIllicitActivities                                                                    61486 non-null  float64\n",
      " 44  typeOfLabourManufacturing                                                                        61676 non-null  float64\n",
      " 45  typeOfLabourMiningOrDrilling                                                                     61564 non-null  float64\n",
      " 46  typeOfLabourPeddling                                                                             61486 non-null  float64\n",
      " 47  typeOfLabourTransportation                                                                       61564 non-null  float64\n",
      " 48  typeOfLabourOther                                                                                62725 non-null  float64\n",
      " 49  typeOfLabourNotSpecified                                                                         63216 non-null  float64\n",
      " 50  typeOfLabourConcatenated                                                                         16613 non-null  object \n",
      " 51  typeOfSexProstitution                                                                            39662 non-null  float64\n",
      " 52  typeOfSexPornography                                                                             30732 non-null  float64\n",
      " 53  typeOfSexRemoteInteractiveServices                                                               30732 non-null  float64\n",
      " 54  typeOfSexPrivateSexualServices                                                                   29167 non-null  float64\n",
      " 55  typeOfSexConcatenated                                                                            15758 non-null  object \n",
      " 56  isAbduction                                                                                      30422 non-null  float64\n",
      " 57  RecruiterRelationship                                                                            59185 non-null  object \n",
      " 58  CountryOfExploitation                                                                            73492 non-null  object \n",
      " 59  recruiterRelationIntimatePartner                                                                 57963 non-null  float64\n",
      " 60  recruiterRelationFriend                                                                          57963 non-null  float64\n",
      " 61  recruiterRelationFamily                                                                          57963 non-null  float64\n",
      " 62  recruiterRelationOther                                                                           57963 non-null  float64\n",
      " 63  recruiterRelationUnknown                                                                         97514 non-null  float64\n",
      "dtypes: float64(51), object(13)\n",
      "memory usage: 47.7+ MB\n"
     ]
    }
   ],
   "source": [
    "ht.info()"
   ]
  },
  {
   "cell_type": "markdown",
   "id": "389ef7dc-df44-419e-b1d6-5c108537e6e9",
   "metadata": {},
   "source": [
    "From all the columns in the human trafficking dataset, we will need:\n",
    "* \"yearOfRegistration\", the year a report was filed. Not necessarily when a victim entered human trafficking or was exploited. Still, it gives a good estimate of the year at which the victim entered human trafficking. We will use this metric to query the economic prosperity of a victim's country of citizenship and the population of the victim's country of exploitation.\n",
    "* \"ageBroad\", \"majorityStatus\", \"majorityStatusAtExploit\", and \"majorityEntry\". We will combine these columns into \"majorityEntry\", which is the age at which a victim entered human traffic and the metric of interest.\n",
    "* \"citizenship\", to query the economic prosperity of a victim's country of citizenship.\n",
    "* \"CountryOfExploitation\", to query the population of a victim's country of exploitation.\n",
    "* \"recruiterRelationIntimatePartner\", \"recruiterRelationFriend\", \"recruiterRelationFamily\", and \"recruiterRelationOther\". Note that \"recruiterRelationOther\" tells us if the recruiter is a stranger--a trafficker, contractor, smuggler, etc."
   ]
  },
  {
   "cell_type": "code",
   "execution_count": 10,
   "id": "ede601ae-f084-4ddf-b8d7-57b4fd43158f",
   "metadata": {},
   "outputs": [],
   "source": [
    "cols = [\n",
    "    \"yearOfRegistration\",\n",
    "    \"ageBroad\",\n",
    "    \"majorityStatus\",\n",
    "    \"majorityStatusAtExploit\",\n",
    "    \"majorityEntry\",\n",
    "    \"citizenship\",\n",
    "    \"CountryOfExploitation\",\n",
    "    \"recruiterRelationIntimatePartner\",\n",
    "    \"recruiterRelationFriend\",\n",
    "    \"recruiterRelationFamily\",\n",
    "    \"recruiterRelationOther\"\n",
    "]\n",
    "ht = ht.loc[:, cols]"
   ]
  },
  {
   "cell_type": "code",
   "execution_count": 11,
   "id": "1036149b-635a-45e4-9f69-5a026c3b0796",
   "metadata": {},
   "outputs": [
    {
     "name": "stdout",
     "output_type": "stream",
     "text": [
      "<class 'pandas.core.frame.DataFrame'>\n",
      "RangeIndex: 97750 entries, 0 to 97749\n",
      "Data columns (total 11 columns):\n",
      " #   Column                            Non-Null Count  Dtype  \n",
      "---  ------                            --------------  -----  \n",
      " 0   yearOfRegistration                95739 non-null  float64\n",
      " 1   ageBroad                          50967 non-null  object \n",
      " 2   majorityStatus                    71246 non-null  object \n",
      " 3   majorityStatusAtExploit           21286 non-null  object \n",
      " 4   majorityEntry                     7252 non-null   object \n",
      " 5   citizenship                       53290 non-null  object \n",
      " 6   CountryOfExploitation             73492 non-null  object \n",
      " 7   recruiterRelationIntimatePartner  57963 non-null  float64\n",
      " 8   recruiterRelationFriend           57963 non-null  float64\n",
      " 9   recruiterRelationFamily           57963 non-null  float64\n",
      " 10  recruiterRelationOther            57963 non-null  float64\n",
      "dtypes: float64(5), object(6)\n",
      "memory usage: 8.2+ MB\n"
     ]
    }
   ],
   "source": [
    "ht.info()"
   ]
  },
  {
   "cell_type": "markdown",
   "id": "ad869c5f-c374-43f1-93b3-144bdb26e900",
   "metadata": {},
   "source": [
    "Next, we rename the columns."
   ]
  },
  {
   "cell_type": "code",
   "execution_count": 12,
   "id": "d3c4d110-a8db-4082-b698-133e6a99cb84",
   "metadata": {},
   "outputs": [],
   "source": [
    "ht.columns = [\n",
    "    \"year_of_registration\",\n",
    "    \"age_broad\",\n",
    "    \"majority_status\",\n",
    "    \"majority_status_at_exploit\",\n",
    "    \"majority_entry\",\n",
    "    \"citizenship\",\n",
    "    \"country_of_exploitation\",\n",
    "    \"recruiter_relation_intimate_partner\",\n",
    "    \"recruiter_relation_friend\",\n",
    "    \"recruiter_relation_family\",\n",
    "    \"recruiter_relation_other\"\n",
    "]"
   ]
  },
  {
   "cell_type": "code",
   "execution_count": 13,
   "id": "878aba46-a19f-44ff-b84b-011e9a091165",
   "metadata": {},
   "outputs": [
    {
     "name": "stdout",
     "output_type": "stream",
     "text": [
      "<class 'pandas.core.frame.DataFrame'>\n",
      "RangeIndex: 97750 entries, 0 to 97749\n",
      "Data columns (total 11 columns):\n",
      " #   Column                               Non-Null Count  Dtype  \n",
      "---  ------                               --------------  -----  \n",
      " 0   year_of_registration                 95739 non-null  float64\n",
      " 1   age_broad                            50967 non-null  object \n",
      " 2   majority_status                      71246 non-null  object \n",
      " 3   majority_status_at_exploit           21286 non-null  object \n",
      " 4   majority_entry                       7252 non-null   object \n",
      " 5   citizenship                          53290 non-null  object \n",
      " 6   country_of_exploitation              73492 non-null  object \n",
      " 7   recruiter_relation_intimate_partner  57963 non-null  float64\n",
      " 8   recruiter_relation_friend            57963 non-null  float64\n",
      " 9   recruiter_relation_family            57963 non-null  float64\n",
      " 10  recruiter_relation_other             57963 non-null  float64\n",
      "dtypes: float64(5), object(6)\n",
      "memory usage: 8.2+ MB\n"
     ]
    }
   ],
   "source": [
    "ht.info()"
   ]
  },
  {
   "cell_type": "markdown",
   "id": "a1022eea-b792-483b-861f-a87aab1516d1",
   "metadata": {},
   "source": [
    "From these ~100k entries, we only need `ht` rows associated with non-null \"year_of_registration\" values."
   ]
  },
  {
   "cell_type": "code",
   "execution_count": 14,
   "id": "5c9b1aaf-eca4-482a-8f2d-dec17ba9435d",
   "metadata": {},
   "outputs": [],
   "source": [
    "ht = ht[ht[\"year_of_registration\"].notnull()]"
   ]
  },
  {
   "cell_type": "code",
   "execution_count": 15,
   "id": "28af7d4b-900e-4c4d-8d24-15cd4d8484a2",
   "metadata": {},
   "outputs": [
    {
     "name": "stdout",
     "output_type": "stream",
     "text": [
      "<class 'pandas.core.frame.DataFrame'>\n",
      "Index: 95739 entries, 0 to 95738\n",
      "Data columns (total 11 columns):\n",
      " #   Column                               Non-Null Count  Dtype  \n",
      "---  ------                               --------------  -----  \n",
      " 0   year_of_registration                 95739 non-null  float64\n",
      " 1   age_broad                            48972 non-null  object \n",
      " 2   majority_status                      69251 non-null  object \n",
      " 3   majority_status_at_exploit           21286 non-null  object \n",
      " 4   majority_entry                       7252 non-null   object \n",
      " 5   citizenship                          52626 non-null  object \n",
      " 6   country_of_exploitation              72812 non-null  object \n",
      " 7   recruiter_relation_intimate_partner  55952 non-null  float64\n",
      " 8   recruiter_relation_friend            55952 non-null  float64\n",
      " 9   recruiter_relation_family            55952 non-null  float64\n",
      " 10  recruiter_relation_other             55952 non-null  float64\n",
      "dtypes: float64(5), object(6)\n",
      "memory usage: 8.8+ MB\n"
     ]
    }
   ],
   "source": [
    "ht.info()"
   ]
  },
  {
   "cell_type": "markdown",
   "id": "13d4048a-e949-478a-a2d6-89c1dab42d62",
   "metadata": {},
   "source": [
    "Since we are only interested in the majority status--adult or minor--when the victim entered the trafficking process, we merge the \"age_broad\", \"majority_status\" and \"majority_status_at_exploit\" columns into the \"majority_entry\" column.\n",
    "<br>\n",
    "Note that \"age_broad\" represents a victim's age range. \"majority_status\" represents a victim's majority when filing a report, \"majority_status_at_exploit\" when first exploited, and \"majority_entry\" when entering the trafficking process. Note that exploitation may not occur immediately after entering the trafficking process.\n",
    "<br>\n",
    "We merge these columns into \"majority_entry\" by preserving its values and replacing them if:\n",
    "* The associated \"age_broad\" is \"0--8\" or \"9--17\".\n",
    "* The associated \"majority_status\" or \"majority_status_atExploit\" is \"Minor\".\n",
    "\n",
    "The logic is that, if a victim is a minor at the time of report or while exploited, they were a minor when entering the trafficking process. On the other hand, if a victim's report is filed when they are adults, it cannot be assumed they were adults or minors when first exploited."
   ]
  },
  {
   "cell_type": "code",
   "execution_count": 16,
   "id": "220ada0f-8c57-4d4c-a844-7aba32a3bade",
   "metadata": {},
   "outputs": [],
   "source": [
    "filter = (\n",
    "    (ht[\"majority_entry\"] != \"Minor\") &\n",
    "    (\n",
    "        ht[\"age_broad\"].isin([\"0--8\", \"9--17\"]) |\n",
    "        (ht[\"majority_status\"] == \"Minor\") |\n",
    "        (ht[\"majority_status_at_exploit\"] == \"Minor\")\n",
    "    )\n",
    ")\n",
    "ht.loc[filter, \"majority_entry\"] = \"Minor\""
   ]
  },
  {
   "cell_type": "code",
   "execution_count": 17,
   "id": "26e5377e-6a3c-4a5e-ba13-77ab064ad298",
   "metadata": {},
   "outputs": [
    {
     "name": "stdout",
     "output_type": "stream",
     "text": [
      "<class 'pandas.core.series.Series'>\n",
      "Index: 95739 entries, 0 to 95738\n",
      "Series name: majority_entry\n",
      "Non-Null Count  Dtype \n",
      "--------------  ----- \n",
      "27267 non-null  object\n",
      "dtypes: object(1)\n",
      "memory usage: 1.5+ MB\n"
     ]
    }
   ],
   "source": [
    "ht[\"majority_entry\"].info()"
   ]
  },
  {
   "cell_type": "markdown",
   "id": "f5ee1bc1-8f91-48cb-9229-e4040810f782",
   "metadata": {},
   "source": [
    "This merging expanded the \"majority_entry\" column from 7252 to 28328 non-null objects.\n",
    "<br>\n",
    "Now, the \"age_broad\", \"majority_status\" and \"majority_status_at_exploit\" columns are no longer needed.\n",
    "<br>\n",
    "Note that the \"age_broad\" column contains age ranges. This information may appear more valuable than a victim's majority. However, \"age_broad\" data does not always convey the victim's age when entering human trafficking, something we are interested in. Hence, we opt for working with \"majority_entry\" values instead of age ranges."
   ]
  },
  {
   "cell_type": "code",
   "execution_count": 18,
   "id": "b316b509-2fba-48dc-8c2b-f10dd054bc1b",
   "metadata": {},
   "outputs": [],
   "source": [
    "ht.drop(inplace=True, columns=[\"age_broad\", \"majority_status\", \"majority_status_at_exploit\"])"
   ]
  },
  {
   "cell_type": "code",
   "execution_count": 19,
   "id": "b54e93d1-9cb0-4243-bbfd-6958ec8c2f4d",
   "metadata": {},
   "outputs": [
    {
     "name": "stdout",
     "output_type": "stream",
     "text": [
      "<class 'pandas.core.frame.DataFrame'>\n",
      "Index: 95739 entries, 0 to 95738\n",
      "Data columns (total 8 columns):\n",
      " #   Column                               Non-Null Count  Dtype  \n",
      "---  ------                               --------------  -----  \n",
      " 0   year_of_registration                 95739 non-null  float64\n",
      " 1   majority_entry                       27267 non-null  object \n",
      " 2   citizenship                          52626 non-null  object \n",
      " 3   country_of_exploitation              72812 non-null  object \n",
      " 4   recruiter_relation_intimate_partner  55952 non-null  float64\n",
      " 5   recruiter_relation_friend            55952 non-null  float64\n",
      " 6   recruiter_relation_family            55952 non-null  float64\n",
      " 7   recruiter_relation_other             55952 non-null  float64\n",
      "dtypes: float64(5), object(3)\n",
      "memory usage: 6.6+ MB\n"
     ]
    }
   ],
   "source": [
    "ht.info()"
   ]
  },
  {
   "cell_type": "code",
   "execution_count": 20,
   "id": "7b530d00-238c-4ba5-8332-1bffd3630039",
   "metadata": {},
   "outputs": [
    {
     "data": {
      "text/html": [
       "<div>\n",
       "<style scoped>\n",
       "    .dataframe tbody tr th:only-of-type {\n",
       "        vertical-align: middle;\n",
       "    }\n",
       "\n",
       "    .dataframe tbody tr th {\n",
       "        vertical-align: top;\n",
       "    }\n",
       "\n",
       "    .dataframe thead th {\n",
       "        text-align: right;\n",
       "    }\n",
       "</style>\n",
       "<table border=\"1\" class=\"dataframe\">\n",
       "  <thead>\n",
       "    <tr style=\"text-align: right;\">\n",
       "      <th></th>\n",
       "      <th>year_of_registration</th>\n",
       "      <th>majority_entry</th>\n",
       "      <th>citizenship</th>\n",
       "      <th>country_of_exploitation</th>\n",
       "      <th>recruiter_relation_intimate_partner</th>\n",
       "      <th>recruiter_relation_friend</th>\n",
       "      <th>recruiter_relation_family</th>\n",
       "      <th>recruiter_relation_other</th>\n",
       "    </tr>\n",
       "  </thead>\n",
       "  <tbody>\n",
       "    <tr>\n",
       "      <th>0</th>\n",
       "      <td>2002.0</td>\n",
       "      <td>NaN</td>\n",
       "      <td>CO</td>\n",
       "      <td>NaN</td>\n",
       "      <td>0.0</td>\n",
       "      <td>0.0</td>\n",
       "      <td>0.0</td>\n",
       "      <td>0.0</td>\n",
       "    </tr>\n",
       "    <tr>\n",
       "      <th>1</th>\n",
       "      <td>2002.0</td>\n",
       "      <td>NaN</td>\n",
       "      <td>CO</td>\n",
       "      <td>NaN</td>\n",
       "      <td>0.0</td>\n",
       "      <td>0.0</td>\n",
       "      <td>0.0</td>\n",
       "      <td>0.0</td>\n",
       "    </tr>\n",
       "    <tr>\n",
       "      <th>2</th>\n",
       "      <td>2002.0</td>\n",
       "      <td>NaN</td>\n",
       "      <td>CO</td>\n",
       "      <td>NaN</td>\n",
       "      <td>0.0</td>\n",
       "      <td>0.0</td>\n",
       "      <td>0.0</td>\n",
       "      <td>0.0</td>\n",
       "    </tr>\n",
       "    <tr>\n",
       "      <th>3</th>\n",
       "      <td>2002.0</td>\n",
       "      <td>NaN</td>\n",
       "      <td>CO</td>\n",
       "      <td>NaN</td>\n",
       "      <td>0.0</td>\n",
       "      <td>0.0</td>\n",
       "      <td>0.0</td>\n",
       "      <td>0.0</td>\n",
       "    </tr>\n",
       "    <tr>\n",
       "      <th>4</th>\n",
       "      <td>2002.0</td>\n",
       "      <td>NaN</td>\n",
       "      <td>CO</td>\n",
       "      <td>NaN</td>\n",
       "      <td>0.0</td>\n",
       "      <td>0.0</td>\n",
       "      <td>0.0</td>\n",
       "      <td>0.0</td>\n",
       "    </tr>\n",
       "  </tbody>\n",
       "</table>\n",
       "</div>"
      ],
      "text/plain": [
       "   year_of_registration majority_entry citizenship country_of_exploitation  \\\n",
       "0                2002.0            NaN          CO                     NaN   \n",
       "1                2002.0            NaN          CO                     NaN   \n",
       "2                2002.0            NaN          CO                     NaN   \n",
       "3                2002.0            NaN          CO                     NaN   \n",
       "4                2002.0            NaN          CO                     NaN   \n",
       "\n",
       "   recruiter_relation_intimate_partner  recruiter_relation_friend  \\\n",
       "0                                  0.0                        0.0   \n",
       "1                                  0.0                        0.0   \n",
       "2                                  0.0                        0.0   \n",
       "3                                  0.0                        0.0   \n",
       "4                                  0.0                        0.0   \n",
       "\n",
       "   recruiter_relation_family  recruiter_relation_other  \n",
       "0                        0.0                       0.0  \n",
       "1                        0.0                       0.0  \n",
       "2                        0.0                       0.0  \n",
       "3                        0.0                       0.0  \n",
       "4                        0.0                       0.0  "
      ]
     },
     "execution_count": 20,
     "metadata": {},
     "output_type": "execute_result"
    }
   ],
   "source": [
    "ht.head()"
   ]
  },
  {
   "cell_type": "markdown",
   "id": "1d0c6a87-4e38-4b3f-99f4-a167dbc1d3d0",
   "metadata": {},
   "source": [
    "Now, note that the human trafficking dataset uses the the ISO alpha-2 notation for countries--HT for Haiti--and the other datasets we will be referencing--on population and GNI per capita--use countries' full name in English. Hence, we modify the human trafficking data frame to match the other datasets' country notation."
   ]
  },
  {
   "cell_type": "code",
   "execution_count": 21,
   "id": "d53f4628-39a7-416b-b327-e7db0ff5645f",
   "metadata": {},
   "outputs": [],
   "source": [
    "import pycountry"
   ]
  },
  {
   "cell_type": "code",
   "execution_count": 22,
   "id": "35bae8ee-600b-4729-8739-b4869bfed2d3",
   "metadata": {},
   "outputs": [],
   "source": [
    "map = {c.alpha_2: c.common_name if hasattr(c, \"common_name\") else c.name for c in pycountry.countries}\n",
    "ht[\"citizenship\"].replace(inplace=True, to_replace=map)\n",
    "ht[\"country_of_exploitation\"].replace(inplace=True, to_replace=map)"
   ]
  },
  {
   "cell_type": "code",
   "execution_count": 23,
   "id": "585bef95-21e3-4905-8224-de58d680ffa7",
   "metadata": {},
   "outputs": [
    {
     "data": {
      "text/html": [
       "<div>\n",
       "<style scoped>\n",
       "    .dataframe tbody tr th:only-of-type {\n",
       "        vertical-align: middle;\n",
       "    }\n",
       "\n",
       "    .dataframe tbody tr th {\n",
       "        vertical-align: top;\n",
       "    }\n",
       "\n",
       "    .dataframe thead th {\n",
       "        text-align: right;\n",
       "    }\n",
       "</style>\n",
       "<table border=\"1\" class=\"dataframe\">\n",
       "  <thead>\n",
       "    <tr style=\"text-align: right;\">\n",
       "      <th></th>\n",
       "      <th>year_of_registration</th>\n",
       "      <th>majority_entry</th>\n",
       "      <th>citizenship</th>\n",
       "      <th>country_of_exploitation</th>\n",
       "      <th>recruiter_relation_intimate_partner</th>\n",
       "      <th>recruiter_relation_friend</th>\n",
       "      <th>recruiter_relation_family</th>\n",
       "      <th>recruiter_relation_other</th>\n",
       "    </tr>\n",
       "  </thead>\n",
       "  <tbody>\n",
       "    <tr>\n",
       "      <th>91407</th>\n",
       "      <td>2019.0</td>\n",
       "      <td>Minor</td>\n",
       "      <td>NaN</td>\n",
       "      <td>United States</td>\n",
       "      <td>NaN</td>\n",
       "      <td>NaN</td>\n",
       "      <td>NaN</td>\n",
       "      <td>NaN</td>\n",
       "    </tr>\n",
       "    <tr>\n",
       "      <th>34059</th>\n",
       "      <td>2016.0</td>\n",
       "      <td>Adult</td>\n",
       "      <td>Ukraine</td>\n",
       "      <td>Russian Federation</td>\n",
       "      <td>0.0</td>\n",
       "      <td>0.0</td>\n",
       "      <td>0.0</td>\n",
       "      <td>1.0</td>\n",
       "    </tr>\n",
       "    <tr>\n",
       "      <th>44311</th>\n",
       "      <td>2017.0</td>\n",
       "      <td>NaN</td>\n",
       "      <td>Ukraine</td>\n",
       "      <td>Russian Federation</td>\n",
       "      <td>0.0</td>\n",
       "      <td>0.0</td>\n",
       "      <td>0.0</td>\n",
       "      <td>0.0</td>\n",
       "    </tr>\n",
       "    <tr>\n",
       "      <th>35363</th>\n",
       "      <td>2016.0</td>\n",
       "      <td>NaN</td>\n",
       "      <td>Philippines</td>\n",
       "      <td>NaN</td>\n",
       "      <td>0.0</td>\n",
       "      <td>0.0</td>\n",
       "      <td>0.0</td>\n",
       "      <td>1.0</td>\n",
       "    </tr>\n",
       "    <tr>\n",
       "      <th>54707</th>\n",
       "      <td>2018.0</td>\n",
       "      <td>Minor</td>\n",
       "      <td>Moldova</td>\n",
       "      <td>NaN</td>\n",
       "      <td>0.0</td>\n",
       "      <td>0.0</td>\n",
       "      <td>0.0</td>\n",
       "      <td>0.0</td>\n",
       "    </tr>\n",
       "  </tbody>\n",
       "</table>\n",
       "</div>"
      ],
      "text/plain": [
       "       year_of_registration majority_entry  citizenship  \\\n",
       "91407                2019.0          Minor          NaN   \n",
       "34059                2016.0          Adult      Ukraine   \n",
       "44311                2017.0            NaN      Ukraine   \n",
       "35363                2016.0            NaN  Philippines   \n",
       "54707                2018.0          Minor      Moldova   \n",
       "\n",
       "      country_of_exploitation  recruiter_relation_intimate_partner  \\\n",
       "91407           United States                                  NaN   \n",
       "34059      Russian Federation                                  0.0   \n",
       "44311      Russian Federation                                  0.0   \n",
       "35363                     NaN                                  0.0   \n",
       "54707                     NaN                                  0.0   \n",
       "\n",
       "       recruiter_relation_friend  recruiter_relation_family  \\\n",
       "91407                        NaN                        NaN   \n",
       "34059                        0.0                        0.0   \n",
       "44311                        0.0                        0.0   \n",
       "35363                        0.0                        0.0   \n",
       "54707                        0.0                        0.0   \n",
       "\n",
       "       recruiter_relation_other  \n",
       "91407                       NaN  \n",
       "34059                       1.0  \n",
       "44311                       0.0  \n",
       "35363                       1.0  \n",
       "54707                       0.0  "
      ]
     },
     "execution_count": 23,
     "metadata": {},
     "output_type": "execute_result"
    }
   ],
   "source": [
    "ht.sample(5)"
   ]
  },
  {
   "cell_type": "markdown",
   "id": "4b59b0b7-0e8a-445d-a161-6a4862fe7acd",
   "metadata": {},
   "source": [
    "Now, the \"citizenship\" colum in our human trafficking data frame is compatible with the other datasets we will use.\n",
    "<br>\n",
    "We will continue cleaning the human trafficking data frame after cleaning the other datasets."
   ]
  },
  {
   "cell_type": "markdown",
   "id": "7ce85bd7-f63b-4038-ae8a-9eaa87cab4f2",
   "metadata": {
    "jp-MarkdownHeadingCollapsed": true
   },
   "source": [
    "### Dataset 2: GNI per capita, Atlas method"
   ]
  },
  {
   "cell_type": "code",
   "execution_count": 24,
   "id": "bf063979-e76f-4e63-b4c4-cb3308100b55",
   "metadata": {},
   "outputs": [],
   "source": [
    "gni = pd.read_csv(\"../data/gni_per_cap_atlas_method_con2021.csv\", index_col=False)"
   ]
  },
  {
   "cell_type": "code",
   "execution_count": 25,
   "id": "fb069aca-9f98-4a11-aefe-3dbb39376b77",
   "metadata": {},
   "outputs": [
    {
     "name": "stdout",
     "output_type": "stream",
     "text": [
      "<class 'pandas.core.frame.DataFrame'>\n",
      "RangeIndex: 191 entries, 0 to 190\n",
      "Columns: 252 entries, country to 2050\n",
      "dtypes: float64(97), object(155)\n",
      "memory usage: 376.2+ KB\n"
     ]
    }
   ],
   "source": [
    "gni.info()"
   ]
  },
  {
   "cell_type": "code",
   "execution_count": 26,
   "id": "37e41c4c-115b-43ba-baa6-a6d42d325bc5",
   "metadata": {},
   "outputs": [
    {
     "data": {
      "text/plain": [
       "country     object\n",
       "1800       float64\n",
       "1801       float64\n",
       "1802       float64\n",
       "1803       float64\n",
       "            ...   \n",
       "2046        object\n",
       "2047        object\n",
       "2048        object\n",
       "2049        object\n",
       "2050        object\n",
       "Length: 252, dtype: object"
      ]
     },
     "execution_count": 26,
     "metadata": {},
     "output_type": "execute_result"
    }
   ],
   "source": [
    "gni.dtypes"
   ]
  },
  {
   "cell_type": "code",
   "execution_count": 27,
   "id": "da4dd572-f9f5-4cb3-9f14-33f0b815d1ed",
   "metadata": {},
   "outputs": [
    {
     "data": {
      "text/html": [
       "<div>\n",
       "<style scoped>\n",
       "    .dataframe tbody tr th:only-of-type {\n",
       "        vertical-align: middle;\n",
       "    }\n",
       "\n",
       "    .dataframe tbody tr th {\n",
       "        vertical-align: top;\n",
       "    }\n",
       "\n",
       "    .dataframe thead th {\n",
       "        text-align: right;\n",
       "    }\n",
       "</style>\n",
       "<table border=\"1\" class=\"dataframe\">\n",
       "  <thead>\n",
       "    <tr style=\"text-align: right;\">\n",
       "      <th></th>\n",
       "      <th>country</th>\n",
       "      <th>1800</th>\n",
       "      <th>1801</th>\n",
       "      <th>1802</th>\n",
       "      <th>1803</th>\n",
       "      <th>1804</th>\n",
       "      <th>1805</th>\n",
       "      <th>1806</th>\n",
       "      <th>1807</th>\n",
       "      <th>1808</th>\n",
       "      <th>...</th>\n",
       "      <th>2041</th>\n",
       "      <th>2042</th>\n",
       "      <th>2043</th>\n",
       "      <th>2044</th>\n",
       "      <th>2045</th>\n",
       "      <th>2046</th>\n",
       "      <th>2047</th>\n",
       "      <th>2048</th>\n",
       "      <th>2049</th>\n",
       "      <th>2050</th>\n",
       "    </tr>\n",
       "  </thead>\n",
       "  <tbody>\n",
       "    <tr>\n",
       "      <th>0</th>\n",
       "      <td>Afghanistan</td>\n",
       "      <td>207.0</td>\n",
       "      <td>207.0</td>\n",
       "      <td>207.0</td>\n",
       "      <td>207.0</td>\n",
       "      <td>207.0</td>\n",
       "      <td>207.0</td>\n",
       "      <td>207.0</td>\n",
       "      <td>207.0</td>\n",
       "      <td>207.0</td>\n",
       "      <td>...</td>\n",
       "      <td>751</td>\n",
       "      <td>767</td>\n",
       "      <td>783</td>\n",
       "      <td>800</td>\n",
       "      <td>817</td>\n",
       "      <td>834</td>\n",
       "      <td>852</td>\n",
       "      <td>870</td>\n",
       "      <td>888</td>\n",
       "      <td>907</td>\n",
       "    </tr>\n",
       "    <tr>\n",
       "      <th>1</th>\n",
       "      <td>Angola</td>\n",
       "      <td>517.0</td>\n",
       "      <td>519.0</td>\n",
       "      <td>522.0</td>\n",
       "      <td>524.0</td>\n",
       "      <td>525.0</td>\n",
       "      <td>528.0</td>\n",
       "      <td>531.0</td>\n",
       "      <td>533.0</td>\n",
       "      <td>536.0</td>\n",
       "      <td>...</td>\n",
       "      <td>2770</td>\n",
       "      <td>2830</td>\n",
       "      <td>2890</td>\n",
       "      <td>2950</td>\n",
       "      <td>3010</td>\n",
       "      <td>3080</td>\n",
       "      <td>3140</td>\n",
       "      <td>3210</td>\n",
       "      <td>3280</td>\n",
       "      <td>3340</td>\n",
       "    </tr>\n",
       "    <tr>\n",
       "      <th>2</th>\n",
       "      <td>Albania</td>\n",
       "      <td>207.0</td>\n",
       "      <td>207.0</td>\n",
       "      <td>207.0</td>\n",
       "      <td>207.0</td>\n",
       "      <td>207.0</td>\n",
       "      <td>207.0</td>\n",
       "      <td>207.0</td>\n",
       "      <td>207.0</td>\n",
       "      <td>207.0</td>\n",
       "      <td>...</td>\n",
       "      <td>9610</td>\n",
       "      <td>9820</td>\n",
       "      <td>10k</td>\n",
       "      <td>10.2k</td>\n",
       "      <td>10.5k</td>\n",
       "      <td>10.7k</td>\n",
       "      <td>10.9k</td>\n",
       "      <td>11.1k</td>\n",
       "      <td>11.4k</td>\n",
       "      <td>11.6k</td>\n",
       "    </tr>\n",
       "    <tr>\n",
       "      <th>3</th>\n",
       "      <td>United Arab Emirates</td>\n",
       "      <td>738.0</td>\n",
       "      <td>740.0</td>\n",
       "      <td>743.0</td>\n",
       "      <td>746.0</td>\n",
       "      <td>749.0</td>\n",
       "      <td>751.0</td>\n",
       "      <td>754.0</td>\n",
       "      <td>757.0</td>\n",
       "      <td>760.0</td>\n",
       "      <td>...</td>\n",
       "      <td>47.9k</td>\n",
       "      <td>48.9k</td>\n",
       "      <td>50k</td>\n",
       "      <td>51k</td>\n",
       "      <td>52.1k</td>\n",
       "      <td>53.2k</td>\n",
       "      <td>54.3k</td>\n",
       "      <td>55.5k</td>\n",
       "      <td>56.7k</td>\n",
       "      <td>57.9k</td>\n",
       "    </tr>\n",
       "    <tr>\n",
       "      <th>4</th>\n",
       "      <td>Argentina</td>\n",
       "      <td>794.0</td>\n",
       "      <td>797.0</td>\n",
       "      <td>799.0</td>\n",
       "      <td>802.0</td>\n",
       "      <td>805.0</td>\n",
       "      <td>808.0</td>\n",
       "      <td>810.0</td>\n",
       "      <td>813.0</td>\n",
       "      <td>816.0</td>\n",
       "      <td>...</td>\n",
       "      <td>12.8k</td>\n",
       "      <td>13.1k</td>\n",
       "      <td>13.4k</td>\n",
       "      <td>13.6k</td>\n",
       "      <td>13.9k</td>\n",
       "      <td>14.2k</td>\n",
       "      <td>14.5k</td>\n",
       "      <td>14.8k</td>\n",
       "      <td>15.2k</td>\n",
       "      <td>15.5k</td>\n",
       "    </tr>\n",
       "  </tbody>\n",
       "</table>\n",
       "<p>5 rows × 252 columns</p>\n",
       "</div>"
      ],
      "text/plain": [
       "                country   1800   1801   1802   1803   1804   1805   1806  \\\n",
       "0           Afghanistan  207.0  207.0  207.0  207.0  207.0  207.0  207.0   \n",
       "1                Angola  517.0  519.0  522.0  524.0  525.0  528.0  531.0   \n",
       "2               Albania  207.0  207.0  207.0  207.0  207.0  207.0  207.0   \n",
       "3  United Arab Emirates  738.0  740.0  743.0  746.0  749.0  751.0  754.0   \n",
       "4             Argentina  794.0  797.0  799.0  802.0  805.0  808.0  810.0   \n",
       "\n",
       "    1807   1808  ...   2041   2042   2043   2044   2045   2046   2047   2048  \\\n",
       "0  207.0  207.0  ...    751    767    783    800    817    834    852    870   \n",
       "1  533.0  536.0  ...   2770   2830   2890   2950   3010   3080   3140   3210   \n",
       "2  207.0  207.0  ...   9610   9820    10k  10.2k  10.5k  10.7k  10.9k  11.1k   \n",
       "3  757.0  760.0  ...  47.9k  48.9k    50k    51k  52.1k  53.2k  54.3k  55.5k   \n",
       "4  813.0  816.0  ...  12.8k  13.1k  13.4k  13.6k  13.9k  14.2k  14.5k  14.8k   \n",
       "\n",
       "    2049   2050  \n",
       "0    888    907  \n",
       "1   3280   3340  \n",
       "2  11.4k  11.6k  \n",
       "3  56.7k  57.9k  \n",
       "4  15.2k  15.5k  \n",
       "\n",
       "[5 rows x 252 columns]"
      ]
     },
     "execution_count": 27,
     "metadata": {},
     "output_type": "execute_result"
    }
   ],
   "source": [
    "gni.head()"
   ]
  },
  {
   "cell_type": "markdown",
   "id": "7e2d971f-66f7-4143-91e5-5e5ec8b01e8f",
   "metadata": {},
   "source": [
    "We notice that the GNI per capita dataset has a string column for \"country\" an string and numeric columns for each year in the range 1800-2050.\n",
    "<br>\n",
    "Since we are working on the 2002-2021 range, we reduce the number of columns on this data frame."
   ]
  },
  {
   "cell_type": "code",
   "execution_count": 28,
   "id": "d9b9fbeb-d9c7-406c-977f-2d92747e89b2",
   "metadata": {},
   "outputs": [],
   "source": [
    "cols = [\"country\"] + [str(y) for y in range(2002, 2022)]\n",
    "gni = gni.loc[:, cols]"
   ]
  },
  {
   "cell_type": "code",
   "execution_count": 29,
   "id": "78fd16ed-45d8-420a-9766-50641a7ef44b",
   "metadata": {},
   "outputs": [
    {
     "name": "stdout",
     "output_type": "stream",
     "text": [
      "<class 'pandas.core.frame.DataFrame'>\n",
      "RangeIndex: 191 entries, 0 to 190\n",
      "Data columns (total 21 columns):\n",
      " #   Column   Non-Null Count  Dtype \n",
      "---  ------   --------------  ----- \n",
      " 0   country  191 non-null    object\n",
      " 1   2002     191 non-null    object\n",
      " 2   2003     191 non-null    object\n",
      " 3   2004     191 non-null    object\n",
      " 4   2005     191 non-null    object\n",
      " 5   2006     191 non-null    object\n",
      " 6   2007     191 non-null    object\n",
      " 7   2008     191 non-null    object\n",
      " 8   2009     191 non-null    object\n",
      " 9   2010     190 non-null    object\n",
      " 10  2011     190 non-null    object\n",
      " 11  2012     190 non-null    object\n",
      " 12  2013     190 non-null    object\n",
      " 13  2014     190 non-null    object\n",
      " 14  2015     190 non-null    object\n",
      " 15  2016     190 non-null    object\n",
      " 16  2017     190 non-null    object\n",
      " 17  2018     190 non-null    object\n",
      " 18  2019     190 non-null    object\n",
      " 19  2020     190 non-null    object\n",
      " 20  2021     190 non-null    object\n",
      "dtypes: object(21)\n",
      "memory usage: 31.5+ KB\n"
     ]
    }
   ],
   "source": [
    "gni.info()"
   ]
  },
  {
   "cell_type": "markdown",
   "id": "aa989a5d-0eee-4408-b7e7-580d5c30d764",
   "metadata": {},
   "source": [
    "It appears that one row has some null data. Before addressing this row, we verify that `gni` has the countries needed to analyze the \"citizenship\" column of our human trafficking data frame. Our analysis does not relate `gni` to `ht`'s \"country_of_exploitation\"."
   ]
  },
  {
   "cell_type": "code",
   "execution_count": 30,
   "id": "8f6ae608-fd05-499b-abfd-706436b384e5",
   "metadata": {},
   "outputs": [
    {
     "data": {
      "text/plain": [
       "array(['Congo, The Democratic Republic of the', \"Côte d'Ivoire\",\n",
       "       'Kyrgyzstan', nan, \"Lao People's Democratic Republic\",\n",
       "       'Micronesia, Federated States of', 'Russian Federation'],\n",
       "      dtype=object)"
      ]
     },
     "execution_count": 30,
     "metadata": {},
     "output_type": "execute_result"
    }
   ],
   "source": [
    "ht[ht[\"citizenship\"].isin(gni[\"country\"].unique()) == False][\"citizenship\"].unique()"
   ]
  },
  {
   "cell_type": "markdown",
   "id": "7f81198f-88ed-413c-879e-b9f8b4c441b8",
   "metadata": {},
   "source": [
    "In doing so, we notice the values in `ht`'s \"citizenship\" that are not in `gni`'s \"country\".\n",
    "<br>\n",
    "To fix this, we look at `gni`'s spreadsheet to find the equivalent names and change the country names on `gni`."
   ]
  },
  {
   "cell_type": "code",
   "execution_count": 31,
   "id": "f484376e-9c44-49d9-aafe-070020c62cdc",
   "metadata": {},
   "outputs": [],
   "source": [
    "map = {\n",
    "    \"Congo, Dem. Rep.\": \"Congo, The Democratic Republic of the\",\n",
    "    \"Cote d'Ivoire\": \"Côte d'Ivoire\",\n",
    "    \"Kyrgyz Republic\": \"Kyrgyzstan\",\n",
    "    \"Lao\": \"Lao People's Democratic Republic\",\n",
    "    \"Micronesia, Fed. Sts.\": \"Micronesia, Federated States of\",\n",
    "    \"Russia\": \"Russian Federation\"\n",
    "}\n",
    "gni[\"country\"].replace(inplace=True, to_replace=map)"
   ]
  },
  {
   "cell_type": "code",
   "execution_count": 32,
   "id": "cb0d0a10-cc87-4555-af00-89fbd95d0108",
   "metadata": {},
   "outputs": [
    {
     "data": {
      "text/plain": [
       "array([nan], dtype=object)"
      ]
     },
     "execution_count": 32,
     "metadata": {},
     "output_type": "execute_result"
    }
   ],
   "source": [
    "ht[ht[\"citizenship\"].isin(gni[\"country\"].unique()) == False][\"citizenship\"].unique()"
   ]
  },
  {
   "cell_type": "markdown",
   "id": "b28c7be1-da79-4739-9b47-3629ce482cb7",
   "metadata": {},
   "source": [
    "And now, the only country name in `ht`'s \"citizenship\" that is not in `gni`'s \"country\" is `nan`.\n",
    "Next, we reduce drop the countries we will not use in `gni`."
   ]
  },
  {
   "cell_type": "code",
   "execution_count": 33,
   "id": "871c1023-4233-4ca1-ad09-3bbfd7450730",
   "metadata": {},
   "outputs": [],
   "source": [
    "gni = gni[gni[\"country\"].isin(ht[\"citizenship\"])]"
   ]
  },
  {
   "cell_type": "code",
   "execution_count": 34,
   "id": "703e6e64-3e70-4e62-99c2-745b74add8f8",
   "metadata": {},
   "outputs": [
    {
     "name": "stdout",
     "output_type": "stream",
     "text": [
      "<class 'pandas.core.frame.DataFrame'>\n",
      "Index: 60 entries, 0 to 184\n",
      "Data columns (total 21 columns):\n",
      " #   Column   Non-Null Count  Dtype \n",
      "---  ------   --------------  ----- \n",
      " 0   country  60 non-null     object\n",
      " 1   2002     60 non-null     object\n",
      " 2   2003     60 non-null     object\n",
      " 3   2004     60 non-null     object\n",
      " 4   2005     60 non-null     object\n",
      " 5   2006     60 non-null     object\n",
      " 6   2007     60 non-null     object\n",
      " 7   2008     60 non-null     object\n",
      " 8   2009     60 non-null     object\n",
      " 9   2010     60 non-null     object\n",
      " 10  2011     60 non-null     object\n",
      " 11  2012     60 non-null     object\n",
      " 12  2013     60 non-null     object\n",
      " 13  2014     60 non-null     object\n",
      " 14  2015     60 non-null     object\n",
      " 15  2016     60 non-null     object\n",
      " 16  2017     60 non-null     object\n",
      " 17  2018     60 non-null     object\n",
      " 18  2019     60 non-null     object\n",
      " 19  2020     60 non-null     object\n",
      " 20  2021     60 non-null     object\n",
      "dtypes: object(21)\n",
      "memory usage: 10.3+ KB\n"
     ]
    }
   ],
   "source": [
    "gni.info()"
   ]
  },
  {
   "cell_type": "markdown",
   "id": "4c4fb895-e3f6-437c-a713-1c4c8de4dc91",
   "metadata": {},
   "source": [
    "Notice how during this dropping process we discarded the row with null values we previously mentioned.\n",
    "<br>\n",
    "Now, we address the fact that our GNI per capita values are object types."
   ]
  },
  {
   "cell_type": "code",
   "execution_count": 35,
   "id": "e4d938a1-96d2-47b4-9dd4-ca07efa9ebde",
   "metadata": {},
   "outputs": [
    {
     "data": {
      "text/html": [
       "<div>\n",
       "<style scoped>\n",
       "    .dataframe tbody tr th:only-of-type {\n",
       "        vertical-align: middle;\n",
       "    }\n",
       "\n",
       "    .dataframe tbody tr th {\n",
       "        vertical-align: top;\n",
       "    }\n",
       "\n",
       "    .dataframe thead th {\n",
       "        text-align: right;\n",
       "    }\n",
       "</style>\n",
       "<table border=\"1\" class=\"dataframe\">\n",
       "  <thead>\n",
       "    <tr style=\"text-align: right;\">\n",
       "      <th></th>\n",
       "      <th>country</th>\n",
       "      <th>2002</th>\n",
       "      <th>2003</th>\n",
       "      <th>2004</th>\n",
       "      <th>2005</th>\n",
       "      <th>2006</th>\n",
       "      <th>2007</th>\n",
       "      <th>2008</th>\n",
       "      <th>2009</th>\n",
       "      <th>2010</th>\n",
       "      <th>...</th>\n",
       "      <th>2012</th>\n",
       "      <th>2013</th>\n",
       "      <th>2014</th>\n",
       "      <th>2015</th>\n",
       "      <th>2016</th>\n",
       "      <th>2017</th>\n",
       "      <th>2018</th>\n",
       "      <th>2019</th>\n",
       "      <th>2020</th>\n",
       "      <th>2021</th>\n",
       "    </tr>\n",
       "  </thead>\n",
       "  <tbody>\n",
       "    <tr>\n",
       "      <th>0</th>\n",
       "      <td>Afghanistan</td>\n",
       "      <td>366</td>\n",
       "      <td>380</td>\n",
       "      <td>369</td>\n",
       "      <td>395</td>\n",
       "      <td>404</td>\n",
       "      <td>449</td>\n",
       "      <td>456</td>\n",
       "      <td>541</td>\n",
       "      <td>607</td>\n",
       "      <td>...</td>\n",
       "      <td>714</td>\n",
       "      <td>728</td>\n",
       "      <td>695</td>\n",
       "      <td>655</td>\n",
       "      <td>611</td>\n",
       "      <td>578</td>\n",
       "      <td>531</td>\n",
       "      <td>530</td>\n",
       "      <td>500</td>\n",
       "      <td>508</td>\n",
       "    </tr>\n",
       "    <tr>\n",
       "      <th>2</th>\n",
       "      <td>Albania</td>\n",
       "      <td>2000</td>\n",
       "      <td>2300</td>\n",
       "      <td>2750</td>\n",
       "      <td>3320</td>\n",
       "      <td>3800</td>\n",
       "      <td>4290</td>\n",
       "      <td>4890</td>\n",
       "      <td>5140</td>\n",
       "      <td>5190</td>\n",
       "      <td>...</td>\n",
       "      <td>4940</td>\n",
       "      <td>5090</td>\n",
       "      <td>5010</td>\n",
       "      <td>4880</td>\n",
       "      <td>4800</td>\n",
       "      <td>4680</td>\n",
       "      <td>5060</td>\n",
       "      <td>5330</td>\n",
       "      <td>5210</td>\n",
       "      <td>5480</td>\n",
       "    </tr>\n",
       "    <tr>\n",
       "      <th>10</th>\n",
       "      <td>Burundi</td>\n",
       "      <td>189</td>\n",
       "      <td>167</td>\n",
       "      <td>157</td>\n",
       "      <td>177</td>\n",
       "      <td>187</td>\n",
       "      <td>211</td>\n",
       "      <td>230</td>\n",
       "      <td>240</td>\n",
       "      <td>262</td>\n",
       "      <td>...</td>\n",
       "      <td>283</td>\n",
       "      <td>291</td>\n",
       "      <td>287</td>\n",
       "      <td>289</td>\n",
       "      <td>289</td>\n",
       "      <td>283</td>\n",
       "      <td>260</td>\n",
       "      <td>245</td>\n",
       "      <td>230</td>\n",
       "      <td>230</td>\n",
       "    </tr>\n",
       "    <tr>\n",
       "      <th>12</th>\n",
       "      <td>Benin</td>\n",
       "      <td>772</td>\n",
       "      <td>836</td>\n",
       "      <td>956</td>\n",
       "      <td>1040</td>\n",
       "      <td>1070</td>\n",
       "      <td>1140</td>\n",
       "      <td>1250</td>\n",
       "      <td>1310</td>\n",
       "      <td>1280</td>\n",
       "      <td>...</td>\n",
       "      <td>1270</td>\n",
       "      <td>1370</td>\n",
       "      <td>1400</td>\n",
       "      <td>1310</td>\n",
       "      <td>1230</td>\n",
       "      <td>1190</td>\n",
       "      <td>1250</td>\n",
       "      <td>1270</td>\n",
       "      <td>1280</td>\n",
       "      <td>1310</td>\n",
       "    </tr>\n",
       "    <tr>\n",
       "      <th>13</th>\n",
       "      <td>Burkina Faso</td>\n",
       "      <td>393</td>\n",
       "      <td>446</td>\n",
       "      <td>511</td>\n",
       "      <td>583</td>\n",
       "      <td>610</td>\n",
       "      <td>632</td>\n",
       "      <td>691</td>\n",
       "      <td>733</td>\n",
       "      <td>773</td>\n",
       "      <td>...</td>\n",
       "      <td>827</td>\n",
       "      <td>863</td>\n",
       "      <td>839</td>\n",
       "      <td>777</td>\n",
       "      <td>756</td>\n",
       "      <td>730</td>\n",
       "      <td>781</td>\n",
       "      <td>785</td>\n",
       "      <td>770</td>\n",
       "      <td>780</td>\n",
       "    </tr>\n",
       "    <tr>\n",
       "      <th>14</th>\n",
       "      <td>Bangladesh</td>\n",
       "      <td>641</td>\n",
       "      <td>641</td>\n",
       "      <td>668</td>\n",
       "      <td>696</td>\n",
       "      <td>710</td>\n",
       "      <td>756</td>\n",
       "      <td>800</td>\n",
       "      <td>877</td>\n",
       "      <td>951</td>\n",
       "      <td>...</td>\n",
       "      <td>1100</td>\n",
       "      <td>1170</td>\n",
       "      <td>1230</td>\n",
       "      <td>1360</td>\n",
       "      <td>1520</td>\n",
       "      <td>1660</td>\n",
       "      <td>1820</td>\n",
       "      <td>1970</td>\n",
       "      <td>2030</td>\n",
       "      <td>2180</td>\n",
       "    </tr>\n",
       "    <tr>\n",
       "      <th>15</th>\n",
       "      <td>Bulgaria</td>\n",
       "      <td>2870</td>\n",
       "      <td>3300</td>\n",
       "      <td>4010</td>\n",
       "      <td>4810</td>\n",
       "      <td>5350</td>\n",
       "      <td>5970</td>\n",
       "      <td>7350</td>\n",
       "      <td>8020</td>\n",
       "      <td>8340</td>\n",
       "      <td>...</td>\n",
       "      <td>8490</td>\n",
       "      <td>8510</td>\n",
       "      <td>8500</td>\n",
       "      <td>8250</td>\n",
       "      <td>8220</td>\n",
       "      <td>8300</td>\n",
       "      <td>8880</td>\n",
       "      <td>9680</td>\n",
       "      <td>9630</td>\n",
       "      <td>10.1k</td>\n",
       "    </tr>\n",
       "    <tr>\n",
       "      <th>19</th>\n",
       "      <td>Belarus</td>\n",
       "      <td>2010</td>\n",
       "      <td>2270</td>\n",
       "      <td>2840</td>\n",
       "      <td>3570</td>\n",
       "      <td>4370</td>\n",
       "      <td>5340</td>\n",
       "      <td>6630</td>\n",
       "      <td>6800</td>\n",
       "      <td>7310</td>\n",
       "      <td>...</td>\n",
       "      <td>7510</td>\n",
       "      <td>7880</td>\n",
       "      <td>8410</td>\n",
       "      <td>7500</td>\n",
       "      <td>6270</td>\n",
       "      <td>5800</td>\n",
       "      <td>5970</td>\n",
       "      <td>6490</td>\n",
       "      <td>6360</td>\n",
       "      <td>6370</td>\n",
       "    </tr>\n",
       "    <tr>\n",
       "      <th>21</th>\n",
       "      <td>Bolivia</td>\n",
       "      <td>1340</td>\n",
       "      <td>1270</td>\n",
       "      <td>1250</td>\n",
       "      <td>1290</td>\n",
       "      <td>1380</td>\n",
       "      <td>1510</td>\n",
       "      <td>1790</td>\n",
       "      <td>1950</td>\n",
       "      <td>2120</td>\n",
       "      <td>...</td>\n",
       "      <td>2550</td>\n",
       "      <td>2900</td>\n",
       "      <td>3120</td>\n",
       "      <td>3290</td>\n",
       "      <td>3380</td>\n",
       "      <td>3370</td>\n",
       "      <td>3510</td>\n",
       "      <td>3590</td>\n",
       "      <td>3180</td>\n",
       "      <td>3310</td>\n",
       "    </tr>\n",
       "    <tr>\n",
       "      <th>22</th>\n",
       "      <td>Brazil</td>\n",
       "      <td>4520</td>\n",
       "      <td>4170</td>\n",
       "      <td>4390</td>\n",
       "      <td>5070</td>\n",
       "      <td>6040</td>\n",
       "      <td>7670</td>\n",
       "      <td>9230</td>\n",
       "      <td>9990</td>\n",
       "      <td>11.5k</td>\n",
       "      <td>...</td>\n",
       "      <td>13.9k</td>\n",
       "      <td>14.3k</td>\n",
       "      <td>13.4k</td>\n",
       "      <td>11.3k</td>\n",
       "      <td>9910</td>\n",
       "      <td>9480</td>\n",
       "      <td>9550</td>\n",
       "      <td>9450</td>\n",
       "      <td>7850</td>\n",
       "      <td>8090</td>\n",
       "    </tr>\n",
       "  </tbody>\n",
       "</table>\n",
       "<p>10 rows × 21 columns</p>\n",
       "</div>"
      ],
      "text/plain": [
       "         country  2002  2003  2004  2005  2006  2007  2008  2009   2010  ...  \\\n",
       "0    Afghanistan   366   380   369   395   404   449   456   541    607  ...   \n",
       "2        Albania  2000  2300  2750  3320  3800  4290  4890  5140   5190  ...   \n",
       "10       Burundi   189   167   157   177   187   211   230   240    262  ...   \n",
       "12         Benin   772   836   956  1040  1070  1140  1250  1310   1280  ...   \n",
       "13  Burkina Faso   393   446   511   583   610   632   691   733    773  ...   \n",
       "14    Bangladesh   641   641   668   696   710   756   800   877    951  ...   \n",
       "15      Bulgaria  2870  3300  4010  4810  5350  5970  7350  8020   8340  ...   \n",
       "19       Belarus  2010  2270  2840  3570  4370  5340  6630  6800   7310  ...   \n",
       "21       Bolivia  1340  1270  1250  1290  1380  1510  1790  1950   2120  ...   \n",
       "22        Brazil  4520  4170  4390  5070  6040  7670  9230  9990  11.5k  ...   \n",
       "\n",
       "     2012   2013   2014   2015  2016  2017  2018  2019  2020   2021  \n",
       "0     714    728    695    655   611   578   531   530   500    508  \n",
       "2    4940   5090   5010   4880  4800  4680  5060  5330  5210   5480  \n",
       "10    283    291    287    289   289   283   260   245   230    230  \n",
       "12   1270   1370   1400   1310  1230  1190  1250  1270  1280   1310  \n",
       "13    827    863    839    777   756   730   781   785   770    780  \n",
       "14   1100   1170   1230   1360  1520  1660  1820  1970  2030   2180  \n",
       "15   8490   8510   8500   8250  8220  8300  8880  9680  9630  10.1k  \n",
       "19   7510   7880   8410   7500  6270  5800  5970  6490  6360   6370  \n",
       "21   2550   2900   3120   3290  3380  3370  3510  3590  3180   3310  \n",
       "22  13.9k  14.3k  13.4k  11.3k  9910  9480  9550  9450  7850   8090  \n",
       "\n",
       "[10 rows x 21 columns]"
      ]
     },
     "execution_count": 35,
     "metadata": {},
     "output_type": "execute_result"
    }
   ],
   "source": [
    "gni.head(10)"
   ]
  },
  {
   "cell_type": "markdown",
   "id": "80f9eabc-bc76-4fa0-916e-330dcf53961f",
   "metadata": {},
   "source": [
    "Seeing the use of \"k\" suffixes, we modify `gni` to have numeric GNI per capita values."
   ]
  },
  {
   "cell_type": "code",
   "execution_count": 36,
   "id": "fd31660e-0b01-412a-8ad9-1aae617164fe",
   "metadata": {},
   "outputs": [],
   "source": [
    "for s in gni.columns[1:]:\n",
    "    gni[s] = gni[s].str.replace(\"k\", \"e3\").str.replace(\"M\", \"e6\").str.replace(\"B\", \"e9\").astype(float)"
   ]
  },
  {
   "cell_type": "markdown",
   "id": "777b2174-ef26-40c0-a323-bcf12edd84af",
   "metadata": {},
   "source": [
    "We select a cell we know has \"k\" suffixes in its GNI per capita data to verify our conversion succeeded."
   ]
  },
  {
   "cell_type": "code",
   "execution_count": 37,
   "id": "d3105454-46d4-40e8-97ed-739d9ae2eb01",
   "metadata": {},
   "outputs": [
    {
     "data": {
      "text/html": [
       "<div>\n",
       "<style scoped>\n",
       "    .dataframe tbody tr th:only-of-type {\n",
       "        vertical-align: middle;\n",
       "    }\n",
       "\n",
       "    .dataframe tbody tr th {\n",
       "        vertical-align: top;\n",
       "    }\n",
       "\n",
       "    .dataframe thead th {\n",
       "        text-align: right;\n",
       "    }\n",
       "</style>\n",
       "<table border=\"1\" class=\"dataframe\">\n",
       "  <thead>\n",
       "    <tr style=\"text-align: right;\">\n",
       "      <th></th>\n",
       "      <th>country</th>\n",
       "      <th>2002</th>\n",
       "      <th>2003</th>\n",
       "      <th>2004</th>\n",
       "      <th>2005</th>\n",
       "      <th>2006</th>\n",
       "      <th>2007</th>\n",
       "      <th>2008</th>\n",
       "      <th>2009</th>\n",
       "      <th>2010</th>\n",
       "      <th>...</th>\n",
       "      <th>2012</th>\n",
       "      <th>2013</th>\n",
       "      <th>2014</th>\n",
       "      <th>2015</th>\n",
       "      <th>2016</th>\n",
       "      <th>2017</th>\n",
       "      <th>2018</th>\n",
       "      <th>2019</th>\n",
       "      <th>2020</th>\n",
       "      <th>2021</th>\n",
       "    </tr>\n",
       "  </thead>\n",
       "  <tbody>\n",
       "    <tr>\n",
       "      <th>22</th>\n",
       "      <td>Brazil</td>\n",
       "      <td>4520.0</td>\n",
       "      <td>4170.0</td>\n",
       "      <td>4390.0</td>\n",
       "      <td>5070.0</td>\n",
       "      <td>6040.0</td>\n",
       "      <td>7670.0</td>\n",
       "      <td>9230.0</td>\n",
       "      <td>9990.0</td>\n",
       "      <td>11500.0</td>\n",
       "      <td>...</td>\n",
       "      <td>13900.0</td>\n",
       "      <td>14300.0</td>\n",
       "      <td>13400.0</td>\n",
       "      <td>11300.0</td>\n",
       "      <td>9910.0</td>\n",
       "      <td>9480.0</td>\n",
       "      <td>9550.0</td>\n",
       "      <td>9450.0</td>\n",
       "      <td>7850.0</td>\n",
       "      <td>8090.0</td>\n",
       "    </tr>\n",
       "  </tbody>\n",
       "</table>\n",
       "<p>1 rows × 21 columns</p>\n",
       "</div>"
      ],
      "text/plain": [
       "   country    2002    2003    2004    2005    2006    2007    2008    2009  \\\n",
       "22  Brazil  4520.0  4170.0  4390.0  5070.0  6040.0  7670.0  9230.0  9990.0   \n",
       "\n",
       "       2010  ...     2012     2013     2014     2015    2016    2017    2018  \\\n",
       "22  11500.0  ...  13900.0  14300.0  13400.0  11300.0  9910.0  9480.0  9550.0   \n",
       "\n",
       "      2019    2020    2021  \n",
       "22  9450.0  7850.0  8090.0  \n",
       "\n",
       "[1 rows x 21 columns]"
      ]
     },
     "execution_count": 37,
     "metadata": {},
     "output_type": "execute_result"
    }
   ],
   "source": [
    "gni[gni[\"country\"] == \"Brazil\"]"
   ]
  },
  {
   "cell_type": "markdown",
   "id": "8f97d7ef-1824-46f1-a529-e159d01f8720",
   "metadata": {},
   "source": [
    "Now, `gni`'s values are numeric."
   ]
  },
  {
   "cell_type": "code",
   "execution_count": 38,
   "id": "a1f7452a-0ce6-4e0e-8be0-da46b58a61cd",
   "metadata": {},
   "outputs": [],
   "source": [
    "gni.to_csv(\"../data/gni_per_capita_clean.csv\", index=False, mode=\"a\")"
   ]
  },
  {
   "cell_type": "markdown",
   "id": "11937b7b-a6c0-41c2-b0be-fd9b1012f3ec",
   "metadata": {
    "jp-MarkdownHeadingCollapsed": true
   },
   "source": [
    "### Dataset 3: Population"
   ]
  },
  {
   "cell_type": "code",
   "execution_count": 39,
   "id": "653ccadb-6a12-420a-8b2b-399bb5cdb159",
   "metadata": {},
   "outputs": [],
   "source": [
    "pop = pd.read_csv(\"../data/population.csv\")"
   ]
  },
  {
   "cell_type": "code",
   "execution_count": 40,
   "id": "b46cedc4-0a11-4f20-8d61-0b3bedef34a1",
   "metadata": {},
   "outputs": [
    {
     "name": "stdout",
     "output_type": "stream",
     "text": [
      "<class 'pandas.core.frame.DataFrame'>\n",
      "RangeIndex: 197 entries, 0 to 196\n",
      "Columns: 302 entries, country to 2100\n",
      "dtypes: object(302)\n",
      "memory usage: 464.9+ KB\n"
     ]
    }
   ],
   "source": [
    "pop.info()"
   ]
  },
  {
   "cell_type": "code",
   "execution_count": 41,
   "id": "8ea5fd5d-2d43-4fc1-ad93-2e51b3852a50",
   "metadata": {},
   "outputs": [
    {
     "data": {
      "text/plain": [
       "country    object\n",
       "1800       object\n",
       "1801       object\n",
       "1802       object\n",
       "1803       object\n",
       "            ...  \n",
       "2096       object\n",
       "2097       object\n",
       "2098       object\n",
       "2099       object\n",
       "2100       object\n",
       "Length: 302, dtype: object"
      ]
     },
     "execution_count": 41,
     "metadata": {},
     "output_type": "execute_result"
    }
   ],
   "source": [
    "pop.dtypes"
   ]
  },
  {
   "cell_type": "code",
   "execution_count": 42,
   "id": "16cab8f4-72fd-4205-b905-33748cc322a3",
   "metadata": {},
   "outputs": [
    {
     "data": {
      "text/html": [
       "<div>\n",
       "<style scoped>\n",
       "    .dataframe tbody tr th:only-of-type {\n",
       "        vertical-align: middle;\n",
       "    }\n",
       "\n",
       "    .dataframe tbody tr th {\n",
       "        vertical-align: top;\n",
       "    }\n",
       "\n",
       "    .dataframe thead th {\n",
       "        text-align: right;\n",
       "    }\n",
       "</style>\n",
       "<table border=\"1\" class=\"dataframe\">\n",
       "  <thead>\n",
       "    <tr style=\"text-align: right;\">\n",
       "      <th></th>\n",
       "      <th>country</th>\n",
       "      <th>1800</th>\n",
       "      <th>1801</th>\n",
       "      <th>1802</th>\n",
       "      <th>1803</th>\n",
       "      <th>1804</th>\n",
       "      <th>1805</th>\n",
       "      <th>1806</th>\n",
       "      <th>1807</th>\n",
       "      <th>1808</th>\n",
       "      <th>...</th>\n",
       "      <th>2091</th>\n",
       "      <th>2092</th>\n",
       "      <th>2093</th>\n",
       "      <th>2094</th>\n",
       "      <th>2095</th>\n",
       "      <th>2096</th>\n",
       "      <th>2097</th>\n",
       "      <th>2098</th>\n",
       "      <th>2099</th>\n",
       "      <th>2100</th>\n",
       "    </tr>\n",
       "  </thead>\n",
       "  <tbody>\n",
       "    <tr>\n",
       "      <th>0</th>\n",
       "      <td>Afghanistan</td>\n",
       "      <td>3.28M</td>\n",
       "      <td>3.28M</td>\n",
       "      <td>3.28M</td>\n",
       "      <td>3.28M</td>\n",
       "      <td>3.28M</td>\n",
       "      <td>3.28M</td>\n",
       "      <td>3.28M</td>\n",
       "      <td>3.28M</td>\n",
       "      <td>3.28M</td>\n",
       "      <td>...</td>\n",
       "      <td>108M</td>\n",
       "      <td>108M</td>\n",
       "      <td>109M</td>\n",
       "      <td>109M</td>\n",
       "      <td>109M</td>\n",
       "      <td>110M</td>\n",
       "      <td>110M</td>\n",
       "      <td>110M</td>\n",
       "      <td>111M</td>\n",
       "      <td>111M</td>\n",
       "    </tr>\n",
       "    <tr>\n",
       "      <th>1</th>\n",
       "      <td>Angola</td>\n",
       "      <td>1.57M</td>\n",
       "      <td>1.57M</td>\n",
       "      <td>1.57M</td>\n",
       "      <td>1.57M</td>\n",
       "      <td>1.57M</td>\n",
       "      <td>1.57M</td>\n",
       "      <td>1.57M</td>\n",
       "      <td>1.57M</td>\n",
       "      <td>1.57M</td>\n",
       "      <td>...</td>\n",
       "      <td>125M</td>\n",
       "      <td>126M</td>\n",
       "      <td>127M</td>\n",
       "      <td>128M</td>\n",
       "      <td>129M</td>\n",
       "      <td>130M</td>\n",
       "      <td>131M</td>\n",
       "      <td>131M</td>\n",
       "      <td>132M</td>\n",
       "      <td>133M</td>\n",
       "    </tr>\n",
       "    <tr>\n",
       "      <th>2</th>\n",
       "      <td>Albania</td>\n",
       "      <td>400k</td>\n",
       "      <td>402k</td>\n",
       "      <td>404k</td>\n",
       "      <td>405k</td>\n",
       "      <td>407k</td>\n",
       "      <td>409k</td>\n",
       "      <td>411k</td>\n",
       "      <td>413k</td>\n",
       "      <td>414k</td>\n",
       "      <td>...</td>\n",
       "      <td>1.35M</td>\n",
       "      <td>1.32M</td>\n",
       "      <td>1.29M</td>\n",
       "      <td>1.26M</td>\n",
       "      <td>1.23M</td>\n",
       "      <td>1.21M</td>\n",
       "      <td>1.18M</td>\n",
       "      <td>1.15M</td>\n",
       "      <td>1.12M</td>\n",
       "      <td>1.1M</td>\n",
       "    </tr>\n",
       "    <tr>\n",
       "      <th>3</th>\n",
       "      <td>Andorra</td>\n",
       "      <td>2650</td>\n",
       "      <td>2650</td>\n",
       "      <td>2650</td>\n",
       "      <td>2650</td>\n",
       "      <td>2650</td>\n",
       "      <td>2650</td>\n",
       "      <td>2650</td>\n",
       "      <td>2650</td>\n",
       "      <td>2650</td>\n",
       "      <td>...</td>\n",
       "      <td>62.5k</td>\n",
       "      <td>62.2k</td>\n",
       "      <td>61.9k</td>\n",
       "      <td>61.7k</td>\n",
       "      <td>61.4k</td>\n",
       "      <td>61.2k</td>\n",
       "      <td>60.9k</td>\n",
       "      <td>60.7k</td>\n",
       "      <td>60.5k</td>\n",
       "      <td>60.2k</td>\n",
       "    </tr>\n",
       "    <tr>\n",
       "      <th>4</th>\n",
       "      <td>United Arab Emirates</td>\n",
       "      <td>40.2k</td>\n",
       "      <td>40.2k</td>\n",
       "      <td>40.2k</td>\n",
       "      <td>40.2k</td>\n",
       "      <td>40.2k</td>\n",
       "      <td>40.2k</td>\n",
       "      <td>40.2k</td>\n",
       "      <td>40.2k</td>\n",
       "      <td>40.2k</td>\n",
       "      <td>...</td>\n",
       "      <td>13.5M</td>\n",
       "      <td>13.5M</td>\n",
       "      <td>13.6M</td>\n",
       "      <td>13.7M</td>\n",
       "      <td>13.8M</td>\n",
       "      <td>13.8M</td>\n",
       "      <td>13.9M</td>\n",
       "      <td>14M</td>\n",
       "      <td>14M</td>\n",
       "      <td>14.1M</td>\n",
       "    </tr>\n",
       "  </tbody>\n",
       "</table>\n",
       "<p>5 rows × 302 columns</p>\n",
       "</div>"
      ],
      "text/plain": [
       "                country   1800   1801   1802   1803   1804   1805   1806  \\\n",
       "0           Afghanistan  3.28M  3.28M  3.28M  3.28M  3.28M  3.28M  3.28M   \n",
       "1                Angola  1.57M  1.57M  1.57M  1.57M  1.57M  1.57M  1.57M   \n",
       "2               Albania   400k   402k   404k   405k   407k   409k   411k   \n",
       "3               Andorra   2650   2650   2650   2650   2650   2650   2650   \n",
       "4  United Arab Emirates  40.2k  40.2k  40.2k  40.2k  40.2k  40.2k  40.2k   \n",
       "\n",
       "    1807   1808  ...   2091   2092   2093   2094   2095   2096   2097   2098  \\\n",
       "0  3.28M  3.28M  ...   108M   108M   109M   109M   109M   110M   110M   110M   \n",
       "1  1.57M  1.57M  ...   125M   126M   127M   128M   129M   130M   131M   131M   \n",
       "2   413k   414k  ...  1.35M  1.32M  1.29M  1.26M  1.23M  1.21M  1.18M  1.15M   \n",
       "3   2650   2650  ...  62.5k  62.2k  61.9k  61.7k  61.4k  61.2k  60.9k  60.7k   \n",
       "4  40.2k  40.2k  ...  13.5M  13.5M  13.6M  13.7M  13.8M  13.8M  13.9M    14M   \n",
       "\n",
       "    2099   2100  \n",
       "0   111M   111M  \n",
       "1   132M   133M  \n",
       "2  1.12M   1.1M  \n",
       "3  60.5k  60.2k  \n",
       "4    14M  14.1M  \n",
       "\n",
       "[5 rows x 302 columns]"
      ]
     },
     "execution_count": 42,
     "metadata": {},
     "output_type": "execute_result"
    }
   ],
   "source": [
    "pop.head()"
   ]
  },
  {
   "cell_type": "markdown",
   "id": "47aad94f-c72f-477c-baad-e8048bcb7f8f",
   "metadata": {},
   "source": [
    "We notice that the population dataset has a string column for \"country\" an string and numeric columns for each year in the range 1800-2100.\n",
    "<br>\n",
    "Since we are working on the 2002-2021 range, we reduce the number of columns on this data frame."
   ]
  },
  {
   "cell_type": "code",
   "execution_count": 43,
   "id": "99de375c-fa88-4ab4-8eec-c5c6367493e1",
   "metadata": {},
   "outputs": [],
   "source": [
    "cols = [\"country\"] + [str(y) for y in range(2002, 2022)]\n",
    "pop = pop.loc[:, cols]"
   ]
  },
  {
   "cell_type": "code",
   "execution_count": 44,
   "id": "3366cada-4dc3-4602-a25d-590cc5accd4e",
   "metadata": {},
   "outputs": [
    {
     "name": "stdout",
     "output_type": "stream",
     "text": [
      "<class 'pandas.core.frame.DataFrame'>\n",
      "Index: 60 entries, 0 to 184\n",
      "Data columns (total 21 columns):\n",
      " #   Column   Non-Null Count  Dtype  \n",
      "---  ------   --------------  -----  \n",
      " 0   country  60 non-null     object \n",
      " 1   2002     60 non-null     float64\n",
      " 2   2003     60 non-null     float64\n",
      " 3   2004     60 non-null     float64\n",
      " 4   2005     60 non-null     float64\n",
      " 5   2006     60 non-null     float64\n",
      " 6   2007     60 non-null     float64\n",
      " 7   2008     60 non-null     float64\n",
      " 8   2009     60 non-null     float64\n",
      " 9   2010     60 non-null     float64\n",
      " 10  2011     60 non-null     float64\n",
      " 11  2012     60 non-null     float64\n",
      " 12  2013     60 non-null     float64\n",
      " 13  2014     60 non-null     float64\n",
      " 14  2015     60 non-null     float64\n",
      " 15  2016     60 non-null     float64\n",
      " 16  2017     60 non-null     float64\n",
      " 17  2018     60 non-null     float64\n",
      " 18  2019     60 non-null     float64\n",
      " 19  2020     60 non-null     float64\n",
      " 20  2021     60 non-null     float64\n",
      "dtypes: float64(20), object(1)\n",
      "memory usage: 10.3+ KB\n"
     ]
    }
   ],
   "source": [
    "gni.info()"
   ]
  },
  {
   "cell_type": "markdown",
   "id": "7bd94532-177c-413c-af5e-31075b74cbf5",
   "metadata": {},
   "source": [
    "Next, we verify that `pop` has the countries needed to analyze the \"country_of_exploitation\" column of our human trafficking data frame. Our analysis does not relate `pop` to `ht`'s \"citizenship\"."
   ]
  },
  {
   "cell_type": "code",
   "execution_count": 45,
   "id": "457caa24-dc92-48bc-be74-31e3e41c9678",
   "metadata": {},
   "outputs": [
    {
     "data": {
      "text/plain": [
       "array([nan, 'Russian Federation', 'Czechia', 'Syrian Arab Republic',\n",
       "       \"Côte d'Ivoire\", 'Hong Kong'], dtype=object)"
      ]
     },
     "execution_count": 45,
     "metadata": {},
     "output_type": "execute_result"
    }
   ],
   "source": [
    "ht[ht[\"country_of_exploitation\"].isin(pop[\"country\"].unique()) == False][\"country_of_exploitation\"].unique()"
   ]
  },
  {
   "cell_type": "markdown",
   "id": "8cab115a-72e4-4acf-a40f-d383d7b5f447",
   "metadata": {},
   "source": [
    "In doing so, we notice the values in `ht`'s \"country_of_exploitation\" that are not in `pop`'s \"country\".\n",
    "<br>\n",
    "To fix this, we look at `pop`'s spreadsheet to find the equivalent names and change the country names on `pop`."
   ]
  },
  {
   "cell_type": "code",
   "execution_count": 46,
   "id": "773a4ad3-1ddf-4ce4-874d-83d79089d432",
   "metadata": {},
   "outputs": [],
   "source": [
    "map = {\n",
    "    \"Russia\": \"Russian Federation\",\n",
    "    \"Czech Republic\": \"Czechia\",\n",
    "    \"Syria\": \"Syrian Arab Republic\",\n",
    "    \"Cote d'Ivoire\": \"Côte d'Ivoire\",\n",
    "    \"Hong Kong, China\": \"Hong Kong\"\n",
    "}\n",
    "pop[\"country\"].replace(inplace=True, to_replace=map)"
   ]
  },
  {
   "cell_type": "code",
   "execution_count": 47,
   "id": "afeaa139-08b7-478c-8edd-6487171dd3ac",
   "metadata": {},
   "outputs": [
    {
     "data": {
      "text/plain": [
       "array([nan], dtype=object)"
      ]
     },
     "execution_count": 47,
     "metadata": {},
     "output_type": "execute_result"
    }
   ],
   "source": [
    "ht[ht[\"country_of_exploitation\"].isin(pop[\"country\"].unique()) == False][\"country_of_exploitation\"].unique()"
   ]
  },
  {
   "cell_type": "markdown",
   "id": "5bf53065-896e-4a0d-94da-a20713467954",
   "metadata": {},
   "source": [
    "And now, the only country name in `ht`'s \"citizenship\" that is not in `pop`'s \"country\" is `nan`.\n",
    "Next, we reduce drop the countries we will not use in `pop`."
   ]
  },
  {
   "cell_type": "code",
   "execution_count": 48,
   "id": "a10a2759-7725-4e5c-b61f-a22d571e19cb",
   "metadata": {},
   "outputs": [],
   "source": [
    "pop = pop[pop[\"country\"].isin(ht[\"country_of_exploitation\"])]"
   ]
  },
  {
   "cell_type": "code",
   "execution_count": 49,
   "id": "55ebe8de-418d-4d93-acc5-05b1f2bc8a5d",
   "metadata": {},
   "outputs": [
    {
     "name": "stdout",
     "output_type": "stream",
     "text": [
      "<class 'pandas.core.frame.DataFrame'>\n",
      "Index: 76 entries, 0 to 194\n",
      "Data columns (total 21 columns):\n",
      " #   Column   Non-Null Count  Dtype \n",
      "---  ------   --------------  ----- \n",
      " 0   country  76 non-null     object\n",
      " 1   2002     76 non-null     object\n",
      " 2   2003     76 non-null     object\n",
      " 3   2004     76 non-null     object\n",
      " 4   2005     76 non-null     object\n",
      " 5   2006     76 non-null     object\n",
      " 6   2007     76 non-null     object\n",
      " 7   2008     76 non-null     object\n",
      " 8   2009     76 non-null     object\n",
      " 9   2010     76 non-null     object\n",
      " 10  2011     76 non-null     object\n",
      " 11  2012     76 non-null     object\n",
      " 12  2013     76 non-null     object\n",
      " 13  2014     76 non-null     object\n",
      " 14  2015     76 non-null     object\n",
      " 15  2016     76 non-null     object\n",
      " 16  2017     76 non-null     object\n",
      " 17  2018     76 non-null     object\n",
      " 18  2019     76 non-null     object\n",
      " 19  2020     76 non-null     object\n",
      " 20  2021     76 non-null     object\n",
      "dtypes: object(21)\n",
      "memory usage: 13.1+ KB\n"
     ]
    }
   ],
   "source": [
    "pop.info()"
   ]
  },
  {
   "cell_type": "markdown",
   "id": "cf90f4f7-d0ea-4257-a113-8093a3cf68db",
   "metadata": {},
   "source": [
    "Now, we address the fact that our GNI per capita values are object types."
   ]
  },
  {
   "cell_type": "code",
   "execution_count": 50,
   "id": "412534ee-0e5d-4145-b70c-5bf168715991",
   "metadata": {},
   "outputs": [
    {
     "data": {
      "text/html": [
       "<div>\n",
       "<style scoped>\n",
       "    .dataframe tbody tr th:only-of-type {\n",
       "        vertical-align: middle;\n",
       "    }\n",
       "\n",
       "    .dataframe tbody tr th {\n",
       "        vertical-align: top;\n",
       "    }\n",
       "\n",
       "    .dataframe thead th {\n",
       "        text-align: right;\n",
       "    }\n",
       "</style>\n",
       "<table border=\"1\" class=\"dataframe\">\n",
       "  <thead>\n",
       "    <tr style=\"text-align: right;\">\n",
       "      <th></th>\n",
       "      <th>country</th>\n",
       "      <th>2002</th>\n",
       "      <th>2003</th>\n",
       "      <th>2004</th>\n",
       "      <th>2005</th>\n",
       "      <th>2006</th>\n",
       "      <th>2007</th>\n",
       "      <th>2008</th>\n",
       "      <th>2009</th>\n",
       "      <th>2010</th>\n",
       "      <th>...</th>\n",
       "      <th>2012</th>\n",
       "      <th>2013</th>\n",
       "      <th>2014</th>\n",
       "      <th>2015</th>\n",
       "      <th>2016</th>\n",
       "      <th>2017</th>\n",
       "      <th>2018</th>\n",
       "      <th>2019</th>\n",
       "      <th>2020</th>\n",
       "      <th>2021</th>\n",
       "    </tr>\n",
       "  </thead>\n",
       "  <tbody>\n",
       "    <tr>\n",
       "      <th>0</th>\n",
       "      <td>Afghanistan</td>\n",
       "      <td>21M</td>\n",
       "      <td>22.6M</td>\n",
       "      <td>23.6M</td>\n",
       "      <td>24.4M</td>\n",
       "      <td>25.4M</td>\n",
       "      <td>25.9M</td>\n",
       "      <td>26.4M</td>\n",
       "      <td>27.4M</td>\n",
       "      <td>28.2M</td>\n",
       "      <td>...</td>\n",
       "      <td>30.5M</td>\n",
       "      <td>31.5M</td>\n",
       "      <td>32.7M</td>\n",
       "      <td>33.8M</td>\n",
       "      <td>34.6M</td>\n",
       "      <td>35.6M</td>\n",
       "      <td>36.7M</td>\n",
       "      <td>37.8M</td>\n",
       "      <td>39M</td>\n",
       "      <td>40.1M</td>\n",
       "    </tr>\n",
       "    <tr>\n",
       "      <th>2</th>\n",
       "      <td>Albania</td>\n",
       "      <td>3.12M</td>\n",
       "      <td>3.09M</td>\n",
       "      <td>3.06M</td>\n",
       "      <td>3.03M</td>\n",
       "      <td>3M</td>\n",
       "      <td>2.98M</td>\n",
       "      <td>2.95M</td>\n",
       "      <td>2.93M</td>\n",
       "      <td>2.91M</td>\n",
       "      <td>...</td>\n",
       "      <td>2.89M</td>\n",
       "      <td>2.89M</td>\n",
       "      <td>2.88M</td>\n",
       "      <td>2.88M</td>\n",
       "      <td>2.88M</td>\n",
       "      <td>2.88M</td>\n",
       "      <td>2.88M</td>\n",
       "      <td>2.87M</td>\n",
       "      <td>2.87M</td>\n",
       "      <td>2.85M</td>\n",
       "    </tr>\n",
       "    <tr>\n",
       "      <th>4</th>\n",
       "      <td>United Arab Emirates</td>\n",
       "      <td>3.63M</td>\n",
       "      <td>3.81M</td>\n",
       "      <td>3.99M</td>\n",
       "      <td>4.28M</td>\n",
       "      <td>4.9M</td>\n",
       "      <td>5.87M</td>\n",
       "      <td>6.99M</td>\n",
       "      <td>7.99M</td>\n",
       "      <td>8.48M</td>\n",
       "      <td>...</td>\n",
       "      <td>8.66M</td>\n",
       "      <td>8.75M</td>\n",
       "      <td>8.84M</td>\n",
       "      <td>8.92M</td>\n",
       "      <td>8.99M</td>\n",
       "      <td>9.07M</td>\n",
       "      <td>9.14M</td>\n",
       "      <td>9.21M</td>\n",
       "      <td>9.29M</td>\n",
       "      <td>9.37M</td>\n",
       "    </tr>\n",
       "    <tr>\n",
       "      <th>5</th>\n",
       "      <td>Argentina</td>\n",
       "      <td>37.9M</td>\n",
       "      <td>38.3M</td>\n",
       "      <td>38.7M</td>\n",
       "      <td>39.1M</td>\n",
       "      <td>39.5M</td>\n",
       "      <td>39.9M</td>\n",
       "      <td>40.3M</td>\n",
       "      <td>40.7M</td>\n",
       "      <td>41.1M</td>\n",
       "      <td>...</td>\n",
       "      <td>42M</td>\n",
       "      <td>42.4M</td>\n",
       "      <td>42.8M</td>\n",
       "      <td>43.3M</td>\n",
       "      <td>43.7M</td>\n",
       "      <td>44.1M</td>\n",
       "      <td>44.4M</td>\n",
       "      <td>44.7M</td>\n",
       "      <td>45M</td>\n",
       "      <td>45.3M</td>\n",
       "    </tr>\n",
       "    <tr>\n",
       "      <th>9</th>\n",
       "      <td>Austria</td>\n",
       "      <td>8.08M</td>\n",
       "      <td>8.12M</td>\n",
       "      <td>8.17M</td>\n",
       "      <td>8.23M</td>\n",
       "      <td>8.27M</td>\n",
       "      <td>8.29M</td>\n",
       "      <td>8.32M</td>\n",
       "      <td>8.34M</td>\n",
       "      <td>8.36M</td>\n",
       "      <td>...</td>\n",
       "      <td>8.43M</td>\n",
       "      <td>8.48M</td>\n",
       "      <td>8.55M</td>\n",
       "      <td>8.64M</td>\n",
       "      <td>8.74M</td>\n",
       "      <td>8.8M</td>\n",
       "      <td>8.84M</td>\n",
       "      <td>8.88M</td>\n",
       "      <td>8.91M</td>\n",
       "      <td>8.92M</td>\n",
       "    </tr>\n",
       "    <tr>\n",
       "      <th>11</th>\n",
       "      <td>Burundi</td>\n",
       "      <td>6.65M</td>\n",
       "      <td>6.86M</td>\n",
       "      <td>7.12M</td>\n",
       "      <td>7.39M</td>\n",
       "      <td>7.66M</td>\n",
       "      <td>7.94M</td>\n",
       "      <td>8.28M</td>\n",
       "      <td>8.71M</td>\n",
       "      <td>9.13M</td>\n",
       "      <td>...</td>\n",
       "      <td>9.8M</td>\n",
       "      <td>10.1M</td>\n",
       "      <td>10.5M</td>\n",
       "      <td>10.7M</td>\n",
       "      <td>10.9M</td>\n",
       "      <td>11.2M</td>\n",
       "      <td>11.5M</td>\n",
       "      <td>11.9M</td>\n",
       "      <td>12.2M</td>\n",
       "      <td>12.6M</td>\n",
       "    </tr>\n",
       "    <tr>\n",
       "      <th>15</th>\n",
       "      <td>Bangladesh</td>\n",
       "      <td>134M</td>\n",
       "      <td>137M</td>\n",
       "      <td>139M</td>\n",
       "      <td>141M</td>\n",
       "      <td>143M</td>\n",
       "      <td>144M</td>\n",
       "      <td>145M</td>\n",
       "      <td>147M</td>\n",
       "      <td>148M</td>\n",
       "      <td>...</td>\n",
       "      <td>152M</td>\n",
       "      <td>154M</td>\n",
       "      <td>156M</td>\n",
       "      <td>158M</td>\n",
       "      <td>160M</td>\n",
       "      <td>162M</td>\n",
       "      <td>164M</td>\n",
       "      <td>166M</td>\n",
       "      <td>167M</td>\n",
       "      <td>169M</td>\n",
       "    </tr>\n",
       "    <tr>\n",
       "      <th>16</th>\n",
       "      <td>Bulgaria</td>\n",
       "      <td>7.97M</td>\n",
       "      <td>7.92M</td>\n",
       "      <td>7.87M</td>\n",
       "      <td>7.82M</td>\n",
       "      <td>7.77M</td>\n",
       "      <td>7.72M</td>\n",
       "      <td>7.67M</td>\n",
       "      <td>7.63M</td>\n",
       "      <td>7.59M</td>\n",
       "      <td>...</td>\n",
       "      <td>7.49M</td>\n",
       "      <td>7.43M</td>\n",
       "      <td>7.37M</td>\n",
       "      <td>7.31M</td>\n",
       "      <td>7.25M</td>\n",
       "      <td>7.18M</td>\n",
       "      <td>7.12M</td>\n",
       "      <td>7.05M</td>\n",
       "      <td>6.98M</td>\n",
       "      <td>6.89M</td>\n",
       "    </tr>\n",
       "    <tr>\n",
       "      <th>17</th>\n",
       "      <td>Bahrain</td>\n",
       "      <td>748k</td>\n",
       "      <td>778k</td>\n",
       "      <td>833k</td>\n",
       "      <td>902k</td>\n",
       "      <td>971k</td>\n",
       "      <td>1.04M</td>\n",
       "      <td>1.11M</td>\n",
       "      <td>1.18M</td>\n",
       "      <td>1.21M</td>\n",
       "      <td>...</td>\n",
       "      <td>1.22M</td>\n",
       "      <td>1.26M</td>\n",
       "      <td>1.31M</td>\n",
       "      <td>1.36M</td>\n",
       "      <td>1.41M</td>\n",
       "      <td>1.46M</td>\n",
       "      <td>1.49M</td>\n",
       "      <td>1.49M</td>\n",
       "      <td>1.48M</td>\n",
       "      <td>1.46M</td>\n",
       "    </tr>\n",
       "    <tr>\n",
       "      <th>19</th>\n",
       "      <td>Bosnia and Herzegovina</td>\n",
       "      <td>4.2M</td>\n",
       "      <td>4.18M</td>\n",
       "      <td>4.14M</td>\n",
       "      <td>4.09M</td>\n",
       "      <td>4.06M</td>\n",
       "      <td>4.01M</td>\n",
       "      <td>3.94M</td>\n",
       "      <td>3.88M</td>\n",
       "      <td>3.81M</td>\n",
       "      <td>...</td>\n",
       "      <td>3.67M</td>\n",
       "      <td>3.62M</td>\n",
       "      <td>3.57M</td>\n",
       "      <td>3.52M</td>\n",
       "      <td>3.48M</td>\n",
       "      <td>3.44M</td>\n",
       "      <td>3.4M</td>\n",
       "      <td>3.36M</td>\n",
       "      <td>3.32M</td>\n",
       "      <td>3.27M</td>\n",
       "    </tr>\n",
       "  </tbody>\n",
       "</table>\n",
       "<p>10 rows × 21 columns</p>\n",
       "</div>"
      ],
      "text/plain": [
       "                   country   2002   2003   2004   2005   2006   2007   2008  \\\n",
       "0              Afghanistan    21M  22.6M  23.6M  24.4M  25.4M  25.9M  26.4M   \n",
       "2                  Albania  3.12M  3.09M  3.06M  3.03M     3M  2.98M  2.95M   \n",
       "4     United Arab Emirates  3.63M  3.81M  3.99M  4.28M   4.9M  5.87M  6.99M   \n",
       "5                Argentina  37.9M  38.3M  38.7M  39.1M  39.5M  39.9M  40.3M   \n",
       "9                  Austria  8.08M  8.12M  8.17M  8.23M  8.27M  8.29M  8.32M   \n",
       "11                 Burundi  6.65M  6.86M  7.12M  7.39M  7.66M  7.94M  8.28M   \n",
       "15              Bangladesh   134M   137M   139M   141M   143M   144M   145M   \n",
       "16                Bulgaria  7.97M  7.92M  7.87M  7.82M  7.77M  7.72M  7.67M   \n",
       "17                 Bahrain   748k   778k   833k   902k   971k  1.04M  1.11M   \n",
       "19  Bosnia and Herzegovina   4.2M  4.18M  4.14M  4.09M  4.06M  4.01M  3.94M   \n",
       "\n",
       "     2009   2010  ...   2012   2013   2014   2015   2016   2017   2018   2019  \\\n",
       "0   27.4M  28.2M  ...  30.5M  31.5M  32.7M  33.8M  34.6M  35.6M  36.7M  37.8M   \n",
       "2   2.93M  2.91M  ...  2.89M  2.89M  2.88M  2.88M  2.88M  2.88M  2.88M  2.87M   \n",
       "4   7.99M  8.48M  ...  8.66M  8.75M  8.84M  8.92M  8.99M  9.07M  9.14M  9.21M   \n",
       "5   40.7M  41.1M  ...    42M  42.4M  42.8M  43.3M  43.7M  44.1M  44.4M  44.7M   \n",
       "9   8.34M  8.36M  ...  8.43M  8.48M  8.55M  8.64M  8.74M   8.8M  8.84M  8.88M   \n",
       "11  8.71M  9.13M  ...   9.8M  10.1M  10.5M  10.7M  10.9M  11.2M  11.5M  11.9M   \n",
       "15   147M   148M  ...   152M   154M   156M   158M   160M   162M   164M   166M   \n",
       "16  7.63M  7.59M  ...  7.49M  7.43M  7.37M  7.31M  7.25M  7.18M  7.12M  7.05M   \n",
       "17  1.18M  1.21M  ...  1.22M  1.26M  1.31M  1.36M  1.41M  1.46M  1.49M  1.49M   \n",
       "19  3.88M  3.81M  ...  3.67M  3.62M  3.57M  3.52M  3.48M  3.44M   3.4M  3.36M   \n",
       "\n",
       "     2020   2021  \n",
       "0     39M  40.1M  \n",
       "2   2.87M  2.85M  \n",
       "4   9.29M  9.37M  \n",
       "5     45M  45.3M  \n",
       "9   8.91M  8.92M  \n",
       "11  12.2M  12.6M  \n",
       "15   167M   169M  \n",
       "16  6.98M  6.89M  \n",
       "17  1.48M  1.46M  \n",
       "19  3.32M  3.27M  \n",
       "\n",
       "[10 rows x 21 columns]"
      ]
     },
     "execution_count": 50,
     "metadata": {},
     "output_type": "execute_result"
    }
   ],
   "source": [
    "pop.head(10)"
   ]
  },
  {
   "cell_type": "markdown",
   "id": "4a04f607-904f-44bf-bcbc-dbbf435c80eb",
   "metadata": {},
   "source": [
    "Seeing the use of \"k\" and \"M\" suffixes, we modify `pop` to have numeric population values."
   ]
  },
  {
   "cell_type": "code",
   "execution_count": 51,
   "id": "37baa3cc-9f46-423b-8539-24ae0e8089c3",
   "metadata": {},
   "outputs": [],
   "source": [
    "for s in pop.columns[1:]:\n",
    "    pop[s] = pop[s].str.replace(\"k\", \"e3\").str.replace(\"M\", \"e6\").str.replace(\"B\", \"e9\").astype(float)"
   ]
  },
  {
   "cell_type": "code",
   "execution_count": 52,
   "id": "4725d4fb-e547-4638-be38-32e9e15d6d05",
   "metadata": {},
   "outputs": [
    {
     "name": "stdout",
     "output_type": "stream",
     "text": [
      "<class 'pandas.core.frame.DataFrame'>\n",
      "Index: 76 entries, 0 to 194\n",
      "Data columns (total 21 columns):\n",
      " #   Column   Non-Null Count  Dtype  \n",
      "---  ------   --------------  -----  \n",
      " 0   country  76 non-null     object \n",
      " 1   2002     76 non-null     float64\n",
      " 2   2003     76 non-null     float64\n",
      " 3   2004     76 non-null     float64\n",
      " 4   2005     76 non-null     float64\n",
      " 5   2006     76 non-null     float64\n",
      " 6   2007     76 non-null     float64\n",
      " 7   2008     76 non-null     float64\n",
      " 8   2009     76 non-null     float64\n",
      " 9   2010     76 non-null     float64\n",
      " 10  2011     76 non-null     float64\n",
      " 11  2012     76 non-null     float64\n",
      " 12  2013     76 non-null     float64\n",
      " 13  2014     76 non-null     float64\n",
      " 14  2015     76 non-null     float64\n",
      " 15  2016     76 non-null     float64\n",
      " 16  2017     76 non-null     float64\n",
      " 17  2018     76 non-null     float64\n",
      " 18  2019     76 non-null     float64\n",
      " 19  2020     76 non-null     float64\n",
      " 20  2021     76 non-null     float64\n",
      "dtypes: float64(20), object(1)\n",
      "memory usage: 13.1+ KB\n"
     ]
    }
   ],
   "source": [
    "pop.info()"
   ]
  },
  {
   "cell_type": "markdown",
   "id": "ba188ad0-9c55-4f4a-8c5d-666a7821a3a0",
   "metadata": {},
   "source": [
    "We select a country we know has \"M\" suffixes in its population data to verify our conversion succeeded."
   ]
  },
  {
   "cell_type": "code",
   "execution_count": 53,
   "id": "31bea43d-9c30-45ec-8a91-55f3f8bbc05e",
   "metadata": {},
   "outputs": [
    {
     "data": {
      "text/html": [
       "<div>\n",
       "<style scoped>\n",
       "    .dataframe tbody tr th:only-of-type {\n",
       "        vertical-align: middle;\n",
       "    }\n",
       "\n",
       "    .dataframe tbody tr th {\n",
       "        vertical-align: top;\n",
       "    }\n",
       "\n",
       "    .dataframe thead th {\n",
       "        text-align: right;\n",
       "    }\n",
       "</style>\n",
       "<table border=\"1\" class=\"dataframe\">\n",
       "  <thead>\n",
       "    <tr style=\"text-align: right;\">\n",
       "      <th></th>\n",
       "      <th>country</th>\n",
       "      <th>2002</th>\n",
       "      <th>2003</th>\n",
       "      <th>2004</th>\n",
       "      <th>2005</th>\n",
       "      <th>2006</th>\n",
       "      <th>2007</th>\n",
       "      <th>2008</th>\n",
       "      <th>2009</th>\n",
       "      <th>2010</th>\n",
       "      <th>...</th>\n",
       "      <th>2012</th>\n",
       "      <th>2013</th>\n",
       "      <th>2014</th>\n",
       "      <th>2015</th>\n",
       "      <th>2016</th>\n",
       "      <th>2017</th>\n",
       "      <th>2018</th>\n",
       "      <th>2019</th>\n",
       "      <th>2020</th>\n",
       "      <th>2021</th>\n",
       "    </tr>\n",
       "  </thead>\n",
       "  <tbody>\n",
       "    <tr>\n",
       "      <th>0</th>\n",
       "      <td>Afghanistan</td>\n",
       "      <td>21000000.0</td>\n",
       "      <td>22600000.0</td>\n",
       "      <td>23600000.0</td>\n",
       "      <td>24400000.0</td>\n",
       "      <td>25400000.0</td>\n",
       "      <td>25900000.0</td>\n",
       "      <td>26400000.0</td>\n",
       "      <td>27400000.0</td>\n",
       "      <td>28200000.0</td>\n",
       "      <td>...</td>\n",
       "      <td>30500000.0</td>\n",
       "      <td>31500000.0</td>\n",
       "      <td>32700000.0</td>\n",
       "      <td>33800000.0</td>\n",
       "      <td>34600000.0</td>\n",
       "      <td>35600000.0</td>\n",
       "      <td>36700000.0</td>\n",
       "      <td>37800000.0</td>\n",
       "      <td>39000000.0</td>\n",
       "      <td>40100000.0</td>\n",
       "    </tr>\n",
       "  </tbody>\n",
       "</table>\n",
       "<p>1 rows × 21 columns</p>\n",
       "</div>"
      ],
      "text/plain": [
       "       country        2002        2003        2004        2005        2006  \\\n",
       "0  Afghanistan  21000000.0  22600000.0  23600000.0  24400000.0  25400000.0   \n",
       "\n",
       "         2007        2008        2009        2010  ...        2012  \\\n",
       "0  25900000.0  26400000.0  27400000.0  28200000.0  ...  30500000.0   \n",
       "\n",
       "         2013        2014        2015        2016        2017        2018  \\\n",
       "0  31500000.0  32700000.0  33800000.0  34600000.0  35600000.0  36700000.0   \n",
       "\n",
       "         2019        2020        2021  \n",
       "0  37800000.0  39000000.0  40100000.0  \n",
       "\n",
       "[1 rows x 21 columns]"
      ]
     },
     "execution_count": 53,
     "metadata": {},
     "output_type": "execute_result"
    }
   ],
   "source": [
    "pop[pop[\"country\"] == \"Afghanistan\"]"
   ]
  },
  {
   "cell_type": "markdown",
   "id": "127b6da6-3e4d-434f-94b1-0394b97ac590",
   "metadata": {},
   "source": [
    "Now, `pop`'s values are numeric."
   ]
  },
  {
   "cell_type": "code",
   "execution_count": 54,
   "id": "ad6a3cfc-61b0-40e6-add7-5af73ddb1798",
   "metadata": {},
   "outputs": [],
   "source": [
    "pop.to_csv(\"../data/population_clean.csv\", index=False, mode=\"a\")"
   ]
  },
  {
   "cell_type": "markdown",
   "id": "97d33bf7-e910-4bd1-9b81-3953a7f6f9e0",
   "metadata": {
    "jp-MarkdownHeadingCollapsed": true
   },
   "source": [
    "### Further data procesing"
   ]
  },
  {
   "cell_type": "markdown",
   "id": "7c1eb9a9-f5e4-4b2b-bed2-f9e79eb757ab",
   "metadata": {
    "jp-MarkdownHeadingCollapsed": true
   },
   "source": [
    "#### Datasets 1 and 2"
   ]
  },
  {
   "cell_type": "code",
   "execution_count": 55,
   "id": "f09d06ed-51b4-493d-9bf4-09a91987300a",
   "metadata": {},
   "outputs": [
    {
     "name": "stdout",
     "output_type": "stream",
     "text": [
      "<class 'pandas.core.frame.DataFrame'>\n",
      "Index: 95739 entries, 0 to 95738\n",
      "Data columns (total 8 columns):\n",
      " #   Column                               Non-Null Count  Dtype  \n",
      "---  ------                               --------------  -----  \n",
      " 0   year_of_registration                 95739 non-null  float64\n",
      " 1   majority_entry                       27267 non-null  object \n",
      " 2   citizenship                          52626 non-null  object \n",
      " 3   country_of_exploitation              72812 non-null  object \n",
      " 4   recruiter_relation_intimate_partner  55952 non-null  float64\n",
      " 5   recruiter_relation_friend            55952 non-null  float64\n",
      " 6   recruiter_relation_family            55952 non-null  float64\n",
      " 7   recruiter_relation_other             55952 non-null  float64\n",
      "dtypes: float64(5), object(3)\n",
      "memory usage: 6.6+ MB\n"
     ]
    }
   ],
   "source": [
    "ht.info()"
   ]
  },
  {
   "cell_type": "markdown",
   "id": "e150c17a-236a-4389-a8db-366e544a2fb8",
   "metadata": {},
   "source": [
    "To answer our first question--Is a victim’s economic background connected to the way they were recruited?--we need a version of our human trafficking data frame that contains rows with at least one recruiter-related situation and non-null \"citizenship\" values. Additionally, we do not need the \"majority_entry\" or \"country_of_exploitation\" columns."
   ]
  },
  {
   "cell_type": "code",
   "execution_count": 56,
   "id": "8d5c3d4e-07e9-4d29-88cc-5062cff67636",
   "metadata": {},
   "outputs": [],
   "source": [
    "ht_gni = ht[ht[\"citizenship\"].notnull() & (\n",
    "    (ht[\"recruiter_relation_family\"] == 1) |\n",
    "    (ht[\"recruiter_relation_friend\"] == 1) |\n",
    "    (ht[\"recruiter_relation_intimate_partner\"] == 1) |\n",
    "    (ht[\"recruiter_relation_other\"] == 1)\n",
    ")].copy()"
   ]
  },
  {
   "cell_type": "code",
   "execution_count": 57,
   "id": "a8a233c5-30ad-444f-8e46-029fad6a185a",
   "metadata": {},
   "outputs": [],
   "source": [
    "ht_gni.drop(inplace=True, columns=[\"majority_entry\", \"country_of_exploitation\"])"
   ]
  },
  {
   "cell_type": "code",
   "execution_count": 58,
   "id": "79ec2d46-ce60-4081-918f-353ee5458820",
   "metadata": {},
   "outputs": [
    {
     "name": "stdout",
     "output_type": "stream",
     "text": [
      "<class 'pandas.core.frame.DataFrame'>\n",
      "Index: 10532 entries, 11654 to 95375\n",
      "Data columns (total 6 columns):\n",
      " #   Column                               Non-Null Count  Dtype  \n",
      "---  ------                               --------------  -----  \n",
      " 0   year_of_registration                 10532 non-null  float64\n",
      " 1   citizenship                          10532 non-null  object \n",
      " 2   recruiter_relation_intimate_partner  10532 non-null  float64\n",
      " 3   recruiter_relation_friend            10532 non-null  float64\n",
      " 4   recruiter_relation_family            10532 non-null  float64\n",
      " 5   recruiter_relation_other             10532 non-null  float64\n",
      "dtypes: float64(5), object(1)\n",
      "memory usage: 576.0+ KB\n"
     ]
    }
   ],
   "source": [
    "ht_gni.info()"
   ]
  },
  {
   "cell_type": "markdown",
   "id": "c0759b09-3199-400c-bbae-00c1b16ebcc2",
   "metadata": {},
   "source": [
    "And we use `ht_gni`'s \"year_of_registration\" and \"citizenship\" columns to link each row to an economic prosperity metric, coming from our GNI per capita data frame."
   ]
  },
  {
   "cell_type": "code",
   "execution_count": 59,
   "id": "3ab18953-14d4-4cb7-8647-750b7742a80f",
   "metadata": {},
   "outputs": [
    {
     "name": "stdout",
     "output_type": "stream",
     "text": [
      "<class 'pandas.core.frame.DataFrame'>\n",
      "Index: 60 entries, 0 to 184\n",
      "Data columns (total 21 columns):\n",
      " #   Column   Non-Null Count  Dtype  \n",
      "---  ------   --------------  -----  \n",
      " 0   country  60 non-null     object \n",
      " 1   2002     60 non-null     float64\n",
      " 2   2003     60 non-null     float64\n",
      " 3   2004     60 non-null     float64\n",
      " 4   2005     60 non-null     float64\n",
      " 5   2006     60 non-null     float64\n",
      " 6   2007     60 non-null     float64\n",
      " 7   2008     60 non-null     float64\n",
      " 8   2009     60 non-null     float64\n",
      " 9   2010     60 non-null     float64\n",
      " 10  2011     60 non-null     float64\n",
      " 11  2012     60 non-null     float64\n",
      " 12  2013     60 non-null     float64\n",
      " 13  2014     60 non-null     float64\n",
      " 14  2015     60 non-null     float64\n",
      " 15  2016     60 non-null     float64\n",
      " 16  2017     60 non-null     float64\n",
      " 17  2018     60 non-null     float64\n",
      " 18  2019     60 non-null     float64\n",
      " 19  2020     60 non-null     float64\n",
      " 20  2021     60 non-null     float64\n",
      "dtypes: float64(20), object(1)\n",
      "memory usage: 10.3+ KB\n"
     ]
    }
   ],
   "source": [
    "gni.info()"
   ]
  },
  {
   "cell_type": "code",
   "execution_count": 60,
   "id": "509880f4-7974-4a32-92ad-85abc1a09476",
   "metadata": {},
   "outputs": [],
   "source": [
    "ht_gni[\"gni_per_capita\"] = 0\n",
    "for i, r in ht_gni.iterrows():\n",
    "    try:\n",
    "        ht_gni.at[i, \"gni_per_capita\"] = gni.loc[gni[\"country\"] == r[\"citizenship\"], str(int(r[\"year_of_registration\"]))].values[0]\n",
    "    except:\n",
    "        continue  # Ignoring null values."
   ]
  },
  {
   "cell_type": "code",
   "execution_count": 61,
   "id": "dceca365-816f-4abc-b9b3-dd69a750a8f6",
   "metadata": {},
   "outputs": [
    {
     "name": "stdout",
     "output_type": "stream",
     "text": [
      "<class 'pandas.core.frame.DataFrame'>\n",
      "Index: 10532 entries, 11654 to 95375\n",
      "Data columns (total 7 columns):\n",
      " #   Column                               Non-Null Count  Dtype  \n",
      "---  ------                               --------------  -----  \n",
      " 0   year_of_registration                 10532 non-null  float64\n",
      " 1   citizenship                          10532 non-null  object \n",
      " 2   recruiter_relation_intimate_partner  10532 non-null  float64\n",
      " 3   recruiter_relation_friend            10532 non-null  float64\n",
      " 4   recruiter_relation_family            10532 non-null  float64\n",
      " 5   recruiter_relation_other             10532 non-null  float64\n",
      " 6   gni_per_capita                       10532 non-null  int64  \n",
      "dtypes: float64(5), int64(1), object(1)\n",
      "memory usage: 916.3+ KB\n"
     ]
    }
   ],
   "source": [
    "ht_gni.info()"
   ]
  },
  {
   "cell_type": "code",
   "execution_count": 62,
   "id": "e19d53f8-1b65-4e11-a5d3-71458c9c025c",
   "metadata": {},
   "outputs": [
    {
     "data": {
      "text/html": [
       "<div>\n",
       "<style scoped>\n",
       "    .dataframe tbody tr th:only-of-type {\n",
       "        vertical-align: middle;\n",
       "    }\n",
       "\n",
       "    .dataframe tbody tr th {\n",
       "        vertical-align: top;\n",
       "    }\n",
       "\n",
       "    .dataframe thead th {\n",
       "        text-align: right;\n",
       "    }\n",
       "</style>\n",
       "<table border=\"1\" class=\"dataframe\">\n",
       "  <thead>\n",
       "    <tr style=\"text-align: right;\">\n",
       "      <th></th>\n",
       "      <th>year_of_registration</th>\n",
       "      <th>citizenship</th>\n",
       "      <th>recruiter_relation_intimate_partner</th>\n",
       "      <th>recruiter_relation_friend</th>\n",
       "      <th>recruiter_relation_family</th>\n",
       "      <th>recruiter_relation_other</th>\n",
       "      <th>gni_per_capita</th>\n",
       "    </tr>\n",
       "  </thead>\n",
       "  <tbody>\n",
       "    <tr>\n",
       "      <th>11654</th>\n",
       "      <td>2012.0</td>\n",
       "      <td>Sri Lanka</td>\n",
       "      <td>0.0</td>\n",
       "      <td>0.0</td>\n",
       "      <td>0.0</td>\n",
       "      <td>1.0</td>\n",
       "      <td>3810</td>\n",
       "    </tr>\n",
       "    <tr>\n",
       "      <th>11655</th>\n",
       "      <td>2012.0</td>\n",
       "      <td>Sri Lanka</td>\n",
       "      <td>0.0</td>\n",
       "      <td>0.0</td>\n",
       "      <td>0.0</td>\n",
       "      <td>1.0</td>\n",
       "      <td>3810</td>\n",
       "    </tr>\n",
       "    <tr>\n",
       "      <th>11656</th>\n",
       "      <td>2012.0</td>\n",
       "      <td>Sri Lanka</td>\n",
       "      <td>0.0</td>\n",
       "      <td>0.0</td>\n",
       "      <td>0.0</td>\n",
       "      <td>1.0</td>\n",
       "      <td>3810</td>\n",
       "    </tr>\n",
       "    <tr>\n",
       "      <th>11658</th>\n",
       "      <td>2012.0</td>\n",
       "      <td>Sri Lanka</td>\n",
       "      <td>0.0</td>\n",
       "      <td>0.0</td>\n",
       "      <td>0.0</td>\n",
       "      <td>1.0</td>\n",
       "      <td>3810</td>\n",
       "    </tr>\n",
       "    <tr>\n",
       "      <th>11659</th>\n",
       "      <td>2012.0</td>\n",
       "      <td>Sri Lanka</td>\n",
       "      <td>0.0</td>\n",
       "      <td>0.0</td>\n",
       "      <td>0.0</td>\n",
       "      <td>1.0</td>\n",
       "      <td>3810</td>\n",
       "    </tr>\n",
       "  </tbody>\n",
       "</table>\n",
       "</div>"
      ],
      "text/plain": [
       "       year_of_registration citizenship  recruiter_relation_intimate_partner  \\\n",
       "11654                2012.0   Sri Lanka                                  0.0   \n",
       "11655                2012.0   Sri Lanka                                  0.0   \n",
       "11656                2012.0   Sri Lanka                                  0.0   \n",
       "11658                2012.0   Sri Lanka                                  0.0   \n",
       "11659                2012.0   Sri Lanka                                  0.0   \n",
       "\n",
       "       recruiter_relation_friend  recruiter_relation_family  \\\n",
       "11654                        0.0                        0.0   \n",
       "11655                        0.0                        0.0   \n",
       "11656                        0.0                        0.0   \n",
       "11658                        0.0                        0.0   \n",
       "11659                        0.0                        0.0   \n",
       "\n",
       "       recruiter_relation_other  gni_per_capita  \n",
       "11654                       1.0            3810  \n",
       "11655                       1.0            3810  \n",
       "11656                       1.0            3810  \n",
       "11658                       1.0            3810  \n",
       "11659                       1.0            3810  "
      ]
     },
     "execution_count": 62,
     "metadata": {},
     "output_type": "execute_result"
    }
   ],
   "source": [
    "ht_gni.head()"
   ]
  },
  {
   "cell_type": "markdown",
   "id": "c3b8f455-2127-455a-8d0b-8cd7fd27e5af",
   "metadata": {},
   "source": [
    "And we verify the GNI values on `ht_gni` by querying `gni`."
   ]
  },
  {
   "cell_type": "code",
   "execution_count": 63,
   "id": "ad33ea14-f8d5-45bf-91a6-fd30db3ac6a7",
   "metadata": {},
   "outputs": [
    {
     "data": {
      "text/html": [
       "<div>\n",
       "<style scoped>\n",
       "    .dataframe tbody tr th:only-of-type {\n",
       "        vertical-align: middle;\n",
       "    }\n",
       "\n",
       "    .dataframe tbody tr th {\n",
       "        vertical-align: top;\n",
       "    }\n",
       "\n",
       "    .dataframe thead th {\n",
       "        text-align: right;\n",
       "    }\n",
       "</style>\n",
       "<table border=\"1\" class=\"dataframe\">\n",
       "  <thead>\n",
       "    <tr style=\"text-align: right;\">\n",
       "      <th></th>\n",
       "      <th>country</th>\n",
       "      <th>2002</th>\n",
       "      <th>2003</th>\n",
       "      <th>2004</th>\n",
       "      <th>2005</th>\n",
       "      <th>2006</th>\n",
       "      <th>2007</th>\n",
       "      <th>2008</th>\n",
       "      <th>2009</th>\n",
       "      <th>2010</th>\n",
       "      <th>...</th>\n",
       "      <th>2012</th>\n",
       "      <th>2013</th>\n",
       "      <th>2014</th>\n",
       "      <th>2015</th>\n",
       "      <th>2016</th>\n",
       "      <th>2017</th>\n",
       "      <th>2018</th>\n",
       "      <th>2019</th>\n",
       "      <th>2020</th>\n",
       "      <th>2021</th>\n",
       "    </tr>\n",
       "  </thead>\n",
       "  <tbody>\n",
       "    <tr>\n",
       "      <th>101</th>\n",
       "      <td>Sri Lanka</td>\n",
       "      <td>1220.0</td>\n",
       "      <td>1310.0</td>\n",
       "      <td>1390.0</td>\n",
       "      <td>1530.0</td>\n",
       "      <td>1690.0</td>\n",
       "      <td>1920.0</td>\n",
       "      <td>2170.0</td>\n",
       "      <td>2410.0</td>\n",
       "      <td>2870.0</td>\n",
       "      <td>...</td>\n",
       "      <td>3810.0</td>\n",
       "      <td>3910.0</td>\n",
       "      <td>4020.0</td>\n",
       "      <td>4180.0</td>\n",
       "      <td>4230.0</td>\n",
       "      <td>4220.0</td>\n",
       "      <td>4210.0</td>\n",
       "      <td>4090.0</td>\n",
       "      <td>3720.0</td>\n",
       "      <td>3850.0</td>\n",
       "    </tr>\n",
       "  </tbody>\n",
       "</table>\n",
       "<p>1 rows × 21 columns</p>\n",
       "</div>"
      ],
      "text/plain": [
       "       country    2002    2003    2004    2005    2006    2007    2008  \\\n",
       "101  Sri Lanka  1220.0  1310.0  1390.0  1530.0  1690.0  1920.0  2170.0   \n",
       "\n",
       "       2009    2010  ...    2012    2013    2014    2015    2016    2017  \\\n",
       "101  2410.0  2870.0  ...  3810.0  3910.0  4020.0  4180.0  4230.0  4220.0   \n",
       "\n",
       "       2018    2019    2020    2021  \n",
       "101  4210.0  4090.0  3720.0  3850.0  \n",
       "\n",
       "[1 rows x 21 columns]"
      ]
     },
     "execution_count": 63,
     "metadata": {},
     "output_type": "execute_result"
    }
   ],
   "source": [
    "gni[gni[\"country\"] == \"Sri Lanka\"]"
   ]
  },
  {
   "cell_type": "markdown",
   "id": "b780ef8f-7140-4423-acef-df0b22e0ee21",
   "metadata": {},
   "source": [
    "Having added the \"gni_per_capita\" column into `ht_gni`, we no longer need its \"citizenship\" and \"year_of_registration\" columns."
   ]
  },
  {
   "cell_type": "code",
   "execution_count": 64,
   "id": "062785c3-f088-414b-8193-57d6706ad492",
   "metadata": {},
   "outputs": [],
   "source": [
    "ht_gni.drop(inplace=True, columns=[\"citizenship\", \"year_of_registration\"])"
   ]
  },
  {
   "cell_type": "code",
   "execution_count": 65,
   "id": "71489da3-c8c5-4c11-97a8-8add9f9ea607",
   "metadata": {},
   "outputs": [
    {
     "name": "stdout",
     "output_type": "stream",
     "text": [
      "<class 'pandas.core.frame.DataFrame'>\n",
      "Index: 10532 entries, 11654 to 95375\n",
      "Data columns (total 5 columns):\n",
      " #   Column                               Non-Null Count  Dtype  \n",
      "---  ------                               --------------  -----  \n",
      " 0   recruiter_relation_intimate_partner  10532 non-null  float64\n",
      " 1   recruiter_relation_friend            10532 non-null  float64\n",
      " 2   recruiter_relation_family            10532 non-null  float64\n",
      " 3   recruiter_relation_other             10532 non-null  float64\n",
      " 4   gni_per_capita                       10532 non-null  int64  \n",
      "dtypes: float64(4), int64(1)\n",
      "memory usage: 751.7 KB\n"
     ]
    }
   ],
   "source": [
    "ht_gni.info()"
   ]
  },
  {
   "cell_type": "markdown",
   "id": "c5536135-6c55-4600-9b1d-81a3f27c3e4e",
   "metadata": {},
   "source": [
    "Now, `ht_gni` has the essential data to help us answer our first question."
   ]
  },
  {
   "cell_type": "code",
   "execution_count": 66,
   "id": "e933941a-2013-48f2-ab46-3766fdcdebc3",
   "metadata": {},
   "outputs": [],
   "source": [
    "ht_gni.to_csv(\"../data/ht_gni_clean.csv\", index=False, mode=\"a\")"
   ]
  },
  {
   "cell_type": "markdown",
   "id": "74135a03-82f2-41de-8ea3-a02274cce478",
   "metadata": {
    "jp-MarkdownHeadingCollapsed": true
   },
   "source": [
    "#### Datasets 1 and 3"
   ]
  },
  {
   "cell_type": "code",
   "execution_count": 67,
   "id": "8abb1182-0a17-47be-b353-97925c1fb37f",
   "metadata": {},
   "outputs": [
    {
     "name": "stdout",
     "output_type": "stream",
     "text": [
      "<class 'pandas.core.frame.DataFrame'>\n",
      "Index: 95739 entries, 0 to 95738\n",
      "Data columns (total 8 columns):\n",
      " #   Column                               Non-Null Count  Dtype  \n",
      "---  ------                               --------------  -----  \n",
      " 0   year_of_registration                 95739 non-null  float64\n",
      " 1   majority_entry                       27267 non-null  object \n",
      " 2   citizenship                          52626 non-null  object \n",
      " 3   country_of_exploitation              72812 non-null  object \n",
      " 4   recruiter_relation_intimate_partner  55952 non-null  float64\n",
      " 5   recruiter_relation_friend            55952 non-null  float64\n",
      " 6   recruiter_relation_family            55952 non-null  float64\n",
      " 7   recruiter_relation_other             55952 non-null  float64\n",
      "dtypes: float64(5), object(3)\n",
      "memory usage: 6.6+ MB\n"
     ]
    }
   ],
   "source": [
    "ht.info()"
   ]
  },
  {
   "cell_type": "markdown",
   "id": "fc22b14e-d370-4ddc-a569-ec12b87e968b",
   "metadata": {},
   "source": [
    "To answer our second question--Is a victim’s majority at entry connected to the country of exploitation’s population?--we need a version of our human trafficking data frame that contains rows with non-null \"majority_entry\" and \"country_of_exploitation\" values. We will not need any recruiter-related or \"citizenship\" columns to answer this question."
   ]
  },
  {
   "cell_type": "code",
   "execution_count": 68,
   "id": "60f7770a-0bb5-4359-a451-548e5f77e9a3",
   "metadata": {},
   "outputs": [],
   "source": [
    "ht_pop = ht[ht[\"majority_entry\"].notnull() & ht[\"country_of_exploitation\"].notnull()].copy()"
   ]
  },
  {
   "cell_type": "code",
   "execution_count": 69,
   "id": "11575a2f-c78e-4713-92e6-18150195a72c",
   "metadata": {},
   "outputs": [],
   "source": [
    "ht_pop.drop(inplace=True, columns=[\n",
    "    \"citizenship\",\n",
    "    \"recruiter_relation_intimate_partner\",\n",
    "    \"recruiter_relation_friend\",\n",
    "    \"recruiter_relation_family\",\n",
    "    \"recruiter_relation_other\"\n",
    "])"
   ]
  },
  {
   "cell_type": "code",
   "execution_count": 70,
   "id": "6f0ec88e-3abe-41f9-b5e6-e96362e67425",
   "metadata": {},
   "outputs": [
    {
     "name": "stdout",
     "output_type": "stream",
     "text": [
      "<class 'pandas.core.frame.DataFrame'>\n",
      "Index: 22865 entries, 1085 to 95407\n",
      "Data columns (total 3 columns):\n",
      " #   Column                   Non-Null Count  Dtype  \n",
      "---  ------                   --------------  -----  \n",
      " 0   year_of_registration     22865 non-null  float64\n",
      " 1   majority_entry           22865 non-null  object \n",
      " 2   country_of_exploitation  22865 non-null  object \n",
      "dtypes: float64(1), object(2)\n",
      "memory usage: 714.5+ KB\n"
     ]
    }
   ],
   "source": [
    "ht_pop.info()"
   ]
  },
  {
   "cell_type": "markdown",
   "id": "5c110068-6e90-496f-9ad6-14debd2b40f4",
   "metadata": {},
   "source": [
    "And we use `ht_pop`'s \"year_of_registration\" and \"countr_of_exploitation\" columns to link each row to a population metric, coming from our population data frame."
   ]
  },
  {
   "cell_type": "code",
   "execution_count": 71,
   "id": "9462c4d1-46c9-437c-988f-40ffafa067db",
   "metadata": {},
   "outputs": [
    {
     "name": "stdout",
     "output_type": "stream",
     "text": [
      "<class 'pandas.core.frame.DataFrame'>\n",
      "Index: 76 entries, 0 to 194\n",
      "Data columns (total 21 columns):\n",
      " #   Column   Non-Null Count  Dtype  \n",
      "---  ------   --------------  -----  \n",
      " 0   country  76 non-null     object \n",
      " 1   2002     76 non-null     float64\n",
      " 2   2003     76 non-null     float64\n",
      " 3   2004     76 non-null     float64\n",
      " 4   2005     76 non-null     float64\n",
      " 5   2006     76 non-null     float64\n",
      " 6   2007     76 non-null     float64\n",
      " 7   2008     76 non-null     float64\n",
      " 8   2009     76 non-null     float64\n",
      " 9   2010     76 non-null     float64\n",
      " 10  2011     76 non-null     float64\n",
      " 11  2012     76 non-null     float64\n",
      " 12  2013     76 non-null     float64\n",
      " 13  2014     76 non-null     float64\n",
      " 14  2015     76 non-null     float64\n",
      " 15  2016     76 non-null     float64\n",
      " 16  2017     76 non-null     float64\n",
      " 17  2018     76 non-null     float64\n",
      " 18  2019     76 non-null     float64\n",
      " 19  2020     76 non-null     float64\n",
      " 20  2021     76 non-null     float64\n",
      "dtypes: float64(20), object(1)\n",
      "memory usage: 13.1+ KB\n"
     ]
    }
   ],
   "source": [
    "pop.info()"
   ]
  },
  {
   "cell_type": "code",
   "execution_count": 72,
   "id": "332028c2-6177-4255-8675-878877d80ce7",
   "metadata": {},
   "outputs": [],
   "source": [
    "ht_pop[\"population\"] = 0\n",
    "for i, r in ht_pop.iterrows():\n",
    "    try:\n",
    "        ht_pop.at[i, \"population\"] = pop.loc[pop[\"country\"] == r[\"country_of_exploitation\"], str(int(r[\"year_of_registration\"]))].values[0]\n",
    "    except:\n",
    "        continue  # Ignoring null values."
   ]
  },
  {
   "cell_type": "code",
   "execution_count": 73,
   "id": "5a541fac-e727-48d1-8d36-f751c9f04b04",
   "metadata": {},
   "outputs": [
    {
     "name": "stdout",
     "output_type": "stream",
     "text": [
      "<class 'pandas.core.frame.DataFrame'>\n",
      "Index: 22865 entries, 1085 to 95407\n",
      "Data columns (total 4 columns):\n",
      " #   Column                   Non-Null Count  Dtype  \n",
      "---  ------                   --------------  -----  \n",
      " 0   year_of_registration     22865 non-null  float64\n",
      " 1   majority_entry           22865 non-null  object \n",
      " 2   country_of_exploitation  22865 non-null  object \n",
      " 3   population               22865 non-null  int64  \n",
      "dtypes: float64(1), int64(1), object(2)\n",
      "memory usage: 1.4+ MB\n"
     ]
    }
   ],
   "source": [
    "ht_pop.info()"
   ]
  },
  {
   "cell_type": "code",
   "execution_count": 74,
   "id": "1635b338-3e6c-406c-88a5-9df08ed097dc",
   "metadata": {},
   "outputs": [
    {
     "data": {
      "text/html": [
       "<div>\n",
       "<style scoped>\n",
       "    .dataframe tbody tr th:only-of-type {\n",
       "        vertical-align: middle;\n",
       "    }\n",
       "\n",
       "    .dataframe tbody tr th {\n",
       "        vertical-align: top;\n",
       "    }\n",
       "\n",
       "    .dataframe thead th {\n",
       "        text-align: right;\n",
       "    }\n",
       "</style>\n",
       "<table border=\"1\" class=\"dataframe\">\n",
       "  <thead>\n",
       "    <tr style=\"text-align: right;\">\n",
       "      <th></th>\n",
       "      <th>year_of_registration</th>\n",
       "      <th>majority_entry</th>\n",
       "      <th>country_of_exploitation</th>\n",
       "      <th>population</th>\n",
       "    </tr>\n",
       "  </thead>\n",
       "  <tbody>\n",
       "    <tr>\n",
       "      <th>1085</th>\n",
       "      <td>2002.0</td>\n",
       "      <td>Minor</td>\n",
       "      <td>North Macedonia</td>\n",
       "      <td>2060000</td>\n",
       "    </tr>\n",
       "    <tr>\n",
       "      <th>1086</th>\n",
       "      <td>2002.0</td>\n",
       "      <td>Minor</td>\n",
       "      <td>North Macedonia</td>\n",
       "      <td>2060000</td>\n",
       "    </tr>\n",
       "    <tr>\n",
       "      <th>1087</th>\n",
       "      <td>2002.0</td>\n",
       "      <td>Minor</td>\n",
       "      <td>North Macedonia</td>\n",
       "      <td>2060000</td>\n",
       "    </tr>\n",
       "    <tr>\n",
       "      <th>1088</th>\n",
       "      <td>2002.0</td>\n",
       "      <td>Minor</td>\n",
       "      <td>North Macedonia</td>\n",
       "      <td>2060000</td>\n",
       "    </tr>\n",
       "    <tr>\n",
       "      <th>1089</th>\n",
       "      <td>2002.0</td>\n",
       "      <td>Minor</td>\n",
       "      <td>North Macedonia</td>\n",
       "      <td>2060000</td>\n",
       "    </tr>\n",
       "  </tbody>\n",
       "</table>\n",
       "</div>"
      ],
      "text/plain": [
       "      year_of_registration majority_entry country_of_exploitation  population\n",
       "1085                2002.0          Minor         North Macedonia     2060000\n",
       "1086                2002.0          Minor         North Macedonia     2060000\n",
       "1087                2002.0          Minor         North Macedonia     2060000\n",
       "1088                2002.0          Minor         North Macedonia     2060000\n",
       "1089                2002.0          Minor         North Macedonia     2060000"
      ]
     },
     "execution_count": 74,
     "metadata": {},
     "output_type": "execute_result"
    }
   ],
   "source": [
    "ht_pop.head()"
   ]
  },
  {
   "cell_type": "markdown",
   "id": "36523828-400c-426b-b7bc-c283f11b444f",
   "metadata": {},
   "source": [
    "And we verify the population on `ht_pop` by querying `pop`."
   ]
  },
  {
   "cell_type": "code",
   "execution_count": 75,
   "id": "726259fa-b38d-43f6-9573-ef0c80fdc300",
   "metadata": {},
   "outputs": [
    {
     "data": {
      "text/html": [
       "<div>\n",
       "<style scoped>\n",
       "    .dataframe tbody tr th:only-of-type {\n",
       "        vertical-align: middle;\n",
       "    }\n",
       "\n",
       "    .dataframe tbody tr th {\n",
       "        vertical-align: top;\n",
       "    }\n",
       "\n",
       "    .dataframe thead th {\n",
       "        text-align: right;\n",
       "    }\n",
       "</style>\n",
       "<table border=\"1\" class=\"dataframe\">\n",
       "  <thead>\n",
       "    <tr style=\"text-align: right;\">\n",
       "      <th></th>\n",
       "      <th>country</th>\n",
       "      <th>2002</th>\n",
       "      <th>2003</th>\n",
       "      <th>2004</th>\n",
       "      <th>2005</th>\n",
       "      <th>2006</th>\n",
       "      <th>2007</th>\n",
       "      <th>2008</th>\n",
       "      <th>2009</th>\n",
       "      <th>2010</th>\n",
       "      <th>...</th>\n",
       "      <th>2012</th>\n",
       "      <th>2013</th>\n",
       "      <th>2014</th>\n",
       "      <th>2015</th>\n",
       "      <th>2016</th>\n",
       "      <th>2017</th>\n",
       "      <th>2018</th>\n",
       "      <th>2019</th>\n",
       "      <th>2020</th>\n",
       "      <th>2021</th>\n",
       "    </tr>\n",
       "  </thead>\n",
       "  <tbody>\n",
       "    <tr>\n",
       "      <th>115</th>\n",
       "      <td>North Macedonia</td>\n",
       "      <td>2060000.0</td>\n",
       "      <td>2070000.0</td>\n",
       "      <td>2080000.0</td>\n",
       "      <td>2080000.0</td>\n",
       "      <td>2080000.0</td>\n",
       "      <td>2080000.0</td>\n",
       "      <td>2090000.0</td>\n",
       "      <td>2090000.0</td>\n",
       "      <td>2090000.0</td>\n",
       "      <td>...</td>\n",
       "      <td>2100000.0</td>\n",
       "      <td>2100000.0</td>\n",
       "      <td>2110000.0</td>\n",
       "      <td>2110000.0</td>\n",
       "      <td>2110000.0</td>\n",
       "      <td>2110000.0</td>\n",
       "      <td>2110000.0</td>\n",
       "      <td>2110000.0</td>\n",
       "      <td>2110000.0</td>\n",
       "      <td>2100000.0</td>\n",
       "    </tr>\n",
       "  </tbody>\n",
       "</table>\n",
       "<p>1 rows × 21 columns</p>\n",
       "</div>"
      ],
      "text/plain": [
       "             country       2002       2003       2004       2005       2006  \\\n",
       "115  North Macedonia  2060000.0  2070000.0  2080000.0  2080000.0  2080000.0   \n",
       "\n",
       "          2007       2008       2009       2010  ...       2012       2013  \\\n",
       "115  2080000.0  2090000.0  2090000.0  2090000.0  ...  2100000.0  2100000.0   \n",
       "\n",
       "          2014       2015       2016       2017       2018       2019  \\\n",
       "115  2110000.0  2110000.0  2110000.0  2110000.0  2110000.0  2110000.0   \n",
       "\n",
       "          2020       2021  \n",
       "115  2110000.0  2100000.0  \n",
       "\n",
       "[1 rows x 21 columns]"
      ]
     },
     "execution_count": 75,
     "metadata": {},
     "output_type": "execute_result"
    }
   ],
   "source": [
    "pop[pop[\"country\"] == \"North Macedonia\"]"
   ]
  },
  {
   "cell_type": "markdown",
   "id": "4b5e5946-6b5a-44e2-935b-f5e29a072948",
   "metadata": {},
   "source": [
    "Having added the \"population\" column into `ht_pop`, we no longer need its \"country_of_exploitation\" and \"year_of_registration\" columns."
   ]
  },
  {
   "cell_type": "code",
   "execution_count": 76,
   "id": "44be7bb4-b823-4057-9959-c5f39671d730",
   "metadata": {},
   "outputs": [],
   "source": [
    "ht_pop.drop(inplace=True, columns=[\"country_of_exploitation\", \"year_of_registration\"])"
   ]
  },
  {
   "cell_type": "code",
   "execution_count": 77,
   "id": "30238ca1-1c10-4c95-a245-86b50405d809",
   "metadata": {},
   "outputs": [
    {
     "name": "stdout",
     "output_type": "stream",
     "text": [
      "<class 'pandas.core.frame.DataFrame'>\n",
      "Index: 22865 entries, 1085 to 95407\n",
      "Data columns (total 2 columns):\n",
      " #   Column          Non-Null Count  Dtype \n",
      "---  ------          --------------  ----- \n",
      " 0   majority_entry  22865 non-null  object\n",
      " 1   population      22865 non-null  int64 \n",
      "dtypes: int64(1), object(1)\n",
      "memory usage: 1.0+ MB\n"
     ]
    }
   ],
   "source": [
    "ht_pop.info()"
   ]
  },
  {
   "cell_type": "markdown",
   "id": "8835bb0c-b507-4d95-95ee-0ef95291015a",
   "metadata": {},
   "source": [
    "Now, `ht_pop` has the essential data to help us answer our second question."
   ]
  },
  {
   "cell_type": "code",
   "execution_count": 78,
   "id": "ae2b7c6f-5153-4694-8ee3-e19a57f979f6",
   "metadata": {},
   "outputs": [],
   "source": [
    "ht_pop.to_csv(\"../data/ht_pop_clean.csv\", index=False, mode=\"a\")"
   ]
  },
  {
   "cell_type": "markdown",
   "id": "0de61869-1844-416e-bf2e-47f30457f41e",
   "metadata": {
    "jp-MarkdownHeadingCollapsed": true
   },
   "source": [
    "## Exploratory data analysis"
   ]
  },
  {
   "cell_type": "markdown",
   "id": "322d64b5-377c-4b38-a6fd-00f239676a87",
   "metadata": {
    "jp-MarkdownHeadingCollapsed": true
   },
   "source": [
    "### Is a victim’s economic background connected to the way they were recruited?"
   ]
  },
  {
   "cell_type": "markdown",
   "id": "da5baa07-6c70-4f06-99bd-aad2e6097cf2",
   "metadata": {},
   "source": [
    "To get closer to an answer, we use our processed `ht_gni` data frame. It contains victims' recruitment-related data along the GNI per capita value of the victim's country of citizenship on the year the victim entered human trafficking.\n",
    "<br>\n",
    "We interpret a GNI per capita, Atlas method value, as a measurement of a country's economic prosperity."
   ]
  },
  {
   "cell_type": "code",
   "execution_count": 79,
   "id": "394b7fa9-0ad0-4fe6-8af8-8f41d9a8fafa",
   "metadata": {},
   "outputs": [
    {
     "name": "stdout",
     "output_type": "stream",
     "text": [
      "<class 'pandas.core.frame.DataFrame'>\n",
      "Index: 10532 entries, 11654 to 95375\n",
      "Data columns (total 5 columns):\n",
      " #   Column                               Non-Null Count  Dtype  \n",
      "---  ------                               --------------  -----  \n",
      " 0   recruiter_relation_intimate_partner  10532 non-null  float64\n",
      " 1   recruiter_relation_friend            10532 non-null  float64\n",
      " 2   recruiter_relation_family            10532 non-null  float64\n",
      " 3   recruiter_relation_other             10532 non-null  float64\n",
      " 4   gni_per_capita                       10532 non-null  int64  \n",
      "dtypes: float64(4), int64(1)\n",
      "memory usage: 751.7 KB\n"
     ]
    }
   ],
   "source": [
    "ht_gni.info()"
   ]
  },
  {
   "cell_type": "code",
   "execution_count": 80,
   "id": "293f9319-b928-44ca-9948-cf43a1c9c2ad",
   "metadata": {},
   "outputs": [
    {
     "data": {
      "text/html": [
       "<div>\n",
       "<style scoped>\n",
       "    .dataframe tbody tr th:only-of-type {\n",
       "        vertical-align: middle;\n",
       "    }\n",
       "\n",
       "    .dataframe tbody tr th {\n",
       "        vertical-align: top;\n",
       "    }\n",
       "\n",
       "    .dataframe thead th {\n",
       "        text-align: right;\n",
       "    }\n",
       "</style>\n",
       "<table border=\"1\" class=\"dataframe\">\n",
       "  <thead>\n",
       "    <tr style=\"text-align: right;\">\n",
       "      <th></th>\n",
       "      <th>recruiter_relation_intimate_partner</th>\n",
       "      <th>recruiter_relation_friend</th>\n",
       "      <th>recruiter_relation_family</th>\n",
       "      <th>recruiter_relation_other</th>\n",
       "      <th>gni_per_capita</th>\n",
       "    </tr>\n",
       "  </thead>\n",
       "  <tbody>\n",
       "    <tr>\n",
       "      <th>11654</th>\n",
       "      <td>0.0</td>\n",
       "      <td>0.0</td>\n",
       "      <td>0.0</td>\n",
       "      <td>1.0</td>\n",
       "      <td>3810</td>\n",
       "    </tr>\n",
       "    <tr>\n",
       "      <th>11655</th>\n",
       "      <td>0.0</td>\n",
       "      <td>0.0</td>\n",
       "      <td>0.0</td>\n",
       "      <td>1.0</td>\n",
       "      <td>3810</td>\n",
       "    </tr>\n",
       "    <tr>\n",
       "      <th>11656</th>\n",
       "      <td>0.0</td>\n",
       "      <td>0.0</td>\n",
       "      <td>0.0</td>\n",
       "      <td>1.0</td>\n",
       "      <td>3810</td>\n",
       "    </tr>\n",
       "    <tr>\n",
       "      <th>11658</th>\n",
       "      <td>0.0</td>\n",
       "      <td>0.0</td>\n",
       "      <td>0.0</td>\n",
       "      <td>1.0</td>\n",
       "      <td>3810</td>\n",
       "    </tr>\n",
       "    <tr>\n",
       "      <th>11659</th>\n",
       "      <td>0.0</td>\n",
       "      <td>0.0</td>\n",
       "      <td>0.0</td>\n",
       "      <td>1.0</td>\n",
       "      <td>3810</td>\n",
       "    </tr>\n",
       "  </tbody>\n",
       "</table>\n",
       "</div>"
      ],
      "text/plain": [
       "       recruiter_relation_intimate_partner  recruiter_relation_friend  \\\n",
       "11654                                  0.0                        0.0   \n",
       "11655                                  0.0                        0.0   \n",
       "11656                                  0.0                        0.0   \n",
       "11658                                  0.0                        0.0   \n",
       "11659                                  0.0                        0.0   \n",
       "\n",
       "       recruiter_relation_family  recruiter_relation_other  gni_per_capita  \n",
       "11654                        0.0                       1.0            3810  \n",
       "11655                        0.0                       1.0            3810  \n",
       "11656                        0.0                       1.0            3810  \n",
       "11658                        0.0                       1.0            3810  \n",
       "11659                        0.0                       1.0            3810  "
      ]
     },
     "execution_count": 80,
     "metadata": {},
     "output_type": "execute_result"
    }
   ],
   "source": [
    "ht_gni.head()"
   ]
  },
  {
   "cell_type": "markdown",
   "id": "1607e4eb-049b-45a4-9592-ac61545f1c75",
   "metadata": {},
   "source": [
    "We analyze each recruitment situation, starting with the cases where the recruiter is a victim's intimate partner."
   ]
  },
  {
   "cell_type": "code",
   "execution_count": 81,
   "id": "4de97223-d83e-4a94-98fd-fc9f4ea273ef",
   "metadata": {},
   "outputs": [],
   "source": [
    "ht_gni_partner = ht_gni.loc[ht_gni[\"recruiter_relation_intimate_partner\"] == 1, \"gni_per_capita\"]"
   ]
  },
  {
   "cell_type": "code",
   "execution_count": 82,
   "id": "52ff96cf-959b-46b0-99b3-57d4a246446b",
   "metadata": {},
   "outputs": [
    {
     "data": {
      "text/plain": [
       "count     1030.000000\n",
       "mean     64256.883495\n",
       "std       4594.609498\n",
       "min       1340.000000\n",
       "25%      63500.000000\n",
       "50%      64600.000000\n",
       "75%      66100.000000\n",
       "max      67200.000000\n",
       "Name: gni_per_capita, dtype: float64"
      ]
     },
     "execution_count": 82,
     "metadata": {},
     "output_type": "execute_result"
    }
   ],
   "source": [
    "ht_gni_partner.describe()"
   ]
  },
  {
   "cell_type": "code",
   "execution_count": 83,
   "id": "0f9f0c29-7fc8-496f-b8c4-bd212e5adac5",
   "metadata": {},
   "outputs": [],
   "source": [
    "import matplotlib.pyplot as plt\n",
    "import seaborn as sns\n",
    "from seaborn import color_palette\n",
    "import warnings\n",
    "warnings.simplefilter(action=\"ignore\", category=FutureWarning)"
   ]
  },
  {
   "cell_type": "code",
   "execution_count": 84,
   "id": "50958211-4d69-4bad-a59d-cfaa7b3ca8ca",
   "metadata": {},
   "outputs": [
    {
     "data": {
      "image/png": "[encoded data removed]",
      "text/plain": [
       "<Figure size 640x480 with 1 Axes>"
      ]
     },
     "metadata": {},
     "output_type": "display_data"
    }
   ],
   "source": [
    "sns.boxplot(x=ht_gni_partner, color=sns.color_palette(\"colorblind\")[0], orient=\"h\", medianprops={\"color\": \"red\"})\n",
    "plt.title(\"Wealth of the victims' country of citizenship (2002-2021)\")\n",
    "plt.xlabel(\"GNI per capita on the year the victim entered trafficking\")\n",
    "plt.ylabel(\"Victims recruited by intimate partners\");"
   ]
  },
  {
   "cell_type": "markdown",
   "id": "b6f843d5-59e2-4be6-91d8-ae9746ad3b29",
   "metadata": {},
   "source": [
    "Most victims recruited by intimate partners are citizens of wealthy countries.\n",
    "<br>\n",
    "Next, we examine the cases where the recruiter is a friend."
   ]
  },
  {
   "cell_type": "code",
   "execution_count": 85,
   "id": "317621a7-5b8d-449a-bd85-62552a1c9386",
   "metadata": {},
   "outputs": [],
   "source": [
    "ht_gni_friend = ht_gni.loc[ht_gni[\"recruiter_relation_friend\"] == 1, \"gni_per_capita\"]"
   ]
  },
  {
   "cell_type": "code",
   "execution_count": 86,
   "id": "839867ee-468e-498c-88be-9335521de040",
   "metadata": {},
   "outputs": [
    {
     "data": {
      "text/plain": [
       "count     2322.000000\n",
       "mean     11536.325581\n",
       "std      20205.433548\n",
       "min        398.000000\n",
       "25%       2940.000000\n",
       "50%       3830.000000\n",
       "75%       6270.000000\n",
       "max      67200.000000\n",
       "Name: gni_per_capita, dtype: float64"
      ]
     },
     "execution_count": 86,
     "metadata": {},
     "output_type": "execute_result"
    }
   ],
   "source": [
    "ht_gni_friend.describe()"
   ]
  },
  {
   "cell_type": "code",
   "execution_count": 87,
   "id": "267aab2a-f76b-4933-98af-b8902d2886ba",
   "metadata": {},
   "outputs": [
    {
     "data": {
      "image/png": "[encoded data removed]",
      "text/plain": [
       "<Figure size 640x480 with 1 Axes>"
      ]
     },
     "metadata": {},
     "output_type": "display_data"
    }
   ],
   "source": [
    "sns.boxplot(x=ht_gni_friend, color=sns.color_palette(\"colorblind\")[1], orient=\"h\", medianprops={\"color\": \"red\"})\n",
    "plt.title(\"Wealth of the victims' country of citizenship (2002-2021)\")\n",
    "plt.xlabel(\"GNI per capita on the year the victim entered trafficking\")\n",
    "plt.ylabel(\"Victims recruited by friends\");"
   ]
  },
  {
   "cell_type": "markdown",
   "id": "032d0094-d599-4cbd-8b22-20fc2c53984c",
   "metadata": {},
   "source": [
    "Most victims recruited by friends are citizens of poorer countries.\n",
    "<br>\n",
    "Next, we analyze the cases where the recruiter is a family member."
   ]
  },
  {
   "cell_type": "code",
   "execution_count": 88,
   "id": "0e445f67-486f-4201-9b9f-ee11875a1632",
   "metadata": {},
   "outputs": [],
   "source": [
    "ht_gni_family = ht_gni.loc[ht_gni[\"recruiter_relation_family\"] == 1, \"gni_per_capita\"]"
   ]
  },
  {
   "cell_type": "code",
   "execution_count": 89,
   "id": "6131cc4c-343a-4cb7-985d-ce907ad99dbb",
   "metadata": {},
   "outputs": [
    {
     "data": {
      "text/plain": [
       "count     2322.000000\n",
       "mean     11536.325581\n",
       "std      20205.433548\n",
       "min        398.000000\n",
       "25%       2940.000000\n",
       "50%       3830.000000\n",
       "75%       6270.000000\n",
       "max      67200.000000\n",
       "Name: gni_per_capita, dtype: float64"
      ]
     },
     "execution_count": 89,
     "metadata": {},
     "output_type": "execute_result"
    }
   ],
   "source": [
    "ht_gni_friend.describe()"
   ]
  },
  {
   "cell_type": "code",
   "execution_count": 90,
   "id": "06eeb6d2-2d69-4945-8a36-00b50ad32101",
   "metadata": {},
   "outputs": [
    {
     "data": {
      "image/png": "[encoded data removed]",
      "text/plain": [
       "<Figure size 640x480 with 1 Axes>"
      ]
     },
     "metadata": {},
     "output_type": "display_data"
    }
   ],
   "source": [
    "sns.boxplot(x=ht_gni_family, color=sns.color_palette(\"colorblind\")[2], orient=\"h\", medianprops={\"color\": \"red\"})\n",
    "plt.title(\"Wealth of the victims' country of citizenship (2002-2021)\")\n",
    "plt.xlabel(\"GNI per capita on the year the victim entered trafficking\")\n",
    "plt.ylabel(\"Victims recruited by family members\");"
   ]
  },
  {
   "cell_type": "markdown",
   "id": "9e4871bc-abd9-4927-af01-290eb95fef89",
   "metadata": {},
   "source": [
    "Victims recruited by family members are predominantly citizens from poorer countries, but it is not an uncommon occurrence for citizens of wealthier countries.\n",
    "<br>\n",
    "Lastly, we examine the cases conducted by \"other\" recruiters--traffickers, smugglers, contractors, etc."
   ]
  },
  {
   "cell_type": "code",
   "execution_count": 91,
   "id": "748cca96-f808-47d3-aeff-ca9214d5ab8f",
   "metadata": {},
   "outputs": [],
   "source": [
    "ht_gni_other = ht_gni.loc[ht_gni[\"recruiter_relation_other\"] == 1, \"gni_per_capita\"]"
   ]
  },
  {
   "cell_type": "code",
   "execution_count": 92,
   "id": "34ddbe4f-7d43-4bff-878b-a137f52d7991",
   "metadata": {},
   "outputs": [
    {
     "data": {
      "text/plain": [
       "count     5962.000000\n",
       "mean      8858.756793\n",
       "std      15147.541778\n",
       "min        510.000000\n",
       "25%       2940.000000\n",
       "50%       3830.000000\n",
       "75%       9560.000000\n",
       "max      67200.000000\n",
       "Name: gni_per_capita, dtype: float64"
      ]
     },
     "execution_count": 92,
     "metadata": {},
     "output_type": "execute_result"
    }
   ],
   "source": [
    "ht_gni_other.describe()"
   ]
  },
  {
   "cell_type": "code",
   "execution_count": 93,
   "id": "beeb3a60-5b9b-4d27-8b74-14565eb18867",
   "metadata": {},
   "outputs": [
    {
     "data": {
      "image/png": "[encoded data removed]",
      "text/plain": [
       "<Figure size 640x480 with 1 Axes>"
      ]
     },
     "metadata": {},
     "output_type": "display_data"
    }
   ],
   "source": [
    "sns.boxplot(x=ht_gni_other, color=sns.color_palette(\"colorblind\")[4], orient=\"h\", medianprops={\"color\": \"red\"})\n",
    "plt.title(\"Wealth of the victims' country of citizenship (2002-2021)\")\n",
    "plt.xlabel(\"GNI per capita on the year the victim entered trafficking\")\n",
    "plt.ylabel(\"Victims recruited by \\\"other\\\" recruiters\");"
   ]
  },
  {
   "cell_type": "markdown",
   "id": "ac988e2d-45b2-4077-b6b3-4227505f95b6",
   "metadata": {},
   "source": [
    "Most victims recruited by \"other\" recruiters are citizens of poorer countries.\n",
    "<br>\n",
    "Note how most distributions have outliers and are skewed, establishing a connection between victim-recruiter relationships and the victim's socioeconomic background. Among these distributions, the least extreme was the one representing victims recruited by family members. Still, its median was heavily leaning toward the lower end of the GNI per capita spectrum."
   ]
  },
  {
   "cell_type": "markdown",
   "id": "d70a3f37-0cc7-49ea-b892-e967549e5c86",
   "metadata": {
    "jp-MarkdownHeadingCollapsed": true
   },
   "source": [
    "### Is a victim’s majority at entry connected to the country of exploitation’s population?"
   ]
  },
  {
   "cell_type": "markdown",
   "id": "34b649dd-c116-465d-897e-7b752b70124b",
   "metadata": {},
   "source": [
    "To get closer to an answer, we use our processed `ht_pop` data frame. It contains victims' majority data--minor or adult--along the population of the victim's country of citizenship on the year the victim entered human trafficking.\n",
    "<br>\n",
    "As a reminder, the age at which a victim was was "
   ]
  },
  {
   "cell_type": "code",
   "execution_count": 94,
   "id": "79101c57-1609-4637-be08-0964036416f6",
   "metadata": {},
   "outputs": [
    {
     "name": "stdout",
     "output_type": "stream",
     "text": [
      "<class 'pandas.core.frame.DataFrame'>\n",
      "Index: 22865 entries, 1085 to 95407\n",
      "Data columns (total 2 columns):\n",
      " #   Column          Non-Null Count  Dtype \n",
      "---  ------          --------------  ----- \n",
      " 0   majority_entry  22865 non-null  object\n",
      " 1   population      22865 non-null  int64 \n",
      "dtypes: int64(1), object(1)\n",
      "memory usage: 1.0+ MB\n"
     ]
    }
   ],
   "source": [
    "ht_pop.info()"
   ]
  },
  {
   "cell_type": "code",
   "execution_count": 95,
   "id": "e934b9eb-d41c-4049-80b1-515160065316",
   "metadata": {},
   "outputs": [
    {
     "data": {
      "text/html": [
       "<div>\n",
       "<style scoped>\n",
       "    .dataframe tbody tr th:only-of-type {\n",
       "        vertical-align: middle;\n",
       "    }\n",
       "\n",
       "    .dataframe tbody tr th {\n",
       "        vertical-align: top;\n",
       "    }\n",
       "\n",
       "    .dataframe thead th {\n",
       "        text-align: right;\n",
       "    }\n",
       "</style>\n",
       "<table border=\"1\" class=\"dataframe\">\n",
       "  <thead>\n",
       "    <tr style=\"text-align: right;\">\n",
       "      <th></th>\n",
       "      <th>majority_entry</th>\n",
       "      <th>population</th>\n",
       "    </tr>\n",
       "  </thead>\n",
       "  <tbody>\n",
       "    <tr>\n",
       "      <th>1085</th>\n",
       "      <td>Minor</td>\n",
       "      <td>2060000</td>\n",
       "    </tr>\n",
       "    <tr>\n",
       "      <th>1086</th>\n",
       "      <td>Minor</td>\n",
       "      <td>2060000</td>\n",
       "    </tr>\n",
       "    <tr>\n",
       "      <th>1087</th>\n",
       "      <td>Minor</td>\n",
       "      <td>2060000</td>\n",
       "    </tr>\n",
       "    <tr>\n",
       "      <th>1088</th>\n",
       "      <td>Minor</td>\n",
       "      <td>2060000</td>\n",
       "    </tr>\n",
       "    <tr>\n",
       "      <th>1089</th>\n",
       "      <td>Minor</td>\n",
       "      <td>2060000</td>\n",
       "    </tr>\n",
       "  </tbody>\n",
       "</table>\n",
       "</div>"
      ],
      "text/plain": [
       "     majority_entry  population\n",
       "1085          Minor     2060000\n",
       "1086          Minor     2060000\n",
       "1087          Minor     2060000\n",
       "1088          Minor     2060000\n",
       "1089          Minor     2060000"
      ]
     },
     "execution_count": 95,
     "metadata": {},
     "output_type": "execute_result"
    }
   ],
   "source": [
    "ht_pop.head()"
   ]
  },
  {
   "cell_type": "markdown",
   "id": "2b4c7eb1-6650-4249-99ed-8a616dd09bde",
   "metadata": {},
   "source": [
    "We start by examining the situations where the victims entered trafficking as minors."
   ]
  },
  {
   "cell_type": "code",
   "execution_count": 96,
   "id": "a6ceabd2-d321-4b06-97cb-de511398103e",
   "metadata": {},
   "outputs": [],
   "source": [
    "ht_pop_minor = ht_pop.loc[ht_pop[\"majority_entry\"] == \"Minor\", \"population\"]"
   ]
  },
  {
   "cell_type": "code",
   "execution_count": 97,
   "id": "eab6ffaf-9c5e-4a39-8dff-c5ba68caf1e0",
   "metadata": {},
   "outputs": [
    {
     "data": {
      "text/plain": [
       "count    1.778700e+04\n",
       "mean     2.812954e+08\n",
       "std      1.491155e+08\n",
       "min      2.060000e+06\n",
       "25%      3.250000e+08\n",
       "50%      3.300000e+08\n",
       "75%      3.340000e+08\n",
       "max      1.420000e+09\n",
       "Name: population, dtype: float64"
      ]
     },
     "execution_count": 97,
     "metadata": {},
     "output_type": "execute_result"
    }
   ],
   "source": [
    "ht_pop_minor.describe()"
   ]
  },
  {
   "cell_type": "code",
   "execution_count": 98,
   "id": "4cad5372-fdba-4332-ba3d-d124fd766bc0",
   "metadata": {},
   "outputs": [],
   "source": [
    "import numpy as np"
   ]
  },
  {
   "cell_type": "code",
   "execution_count": 99,
   "id": "4956eb55-054f-40a6-b61b-20fcd0e211c7",
   "metadata": {},
   "outputs": [
    {
     "data": {
      "image/png": "[encoded data removed]",
      "text/plain": [
       "<Figure size 640x480 with 1 Axes>"
      ]
     },
     "metadata": {},
     "output_type": "display_data"
    }
   ],
   "source": [
    "sns.boxplot(x=ht_pop_minor, color=sns.color_palette(\"colorblind\")[7], orient=\"h\", medianprops={\"color\": \"red\"})\n",
    "plt.title(\"Population of the victims' country of exploitation (2002-2021)\")\n",
    "plt.xlabel(\"Population on the year the victim entered trafficking\")\n",
    "plt.ylabel(\"Minor victims\");"
   ]
  },
  {
   "cell_type": "markdown",
   "id": "b72aaca4-4d5d-43a3-a7af-71714cb6d013",
   "metadata": {},
   "source": [
    "There are two important observations regarding this box plot. First, the whiskers are short that they are not visible. Second, the box is so narrow that it cannot be seen without zooming in; the observed red line is the custom-colored median marker.\n",
    "<br>\n",
    "From these observations, we understand that this distribution's variance is very, very low, and that almost all reported victims who entered trafficking as minors are being exploited in countries with a very specific population.\n",
    "<br>\n",
    "So, we explore this anomaly. Our first step is to identify the countries of exploitation for these specific victims."
   ]
  },
  {
   "cell_type": "code",
   "execution_count": 100,
   "id": "61dee701-f17b-4e89-a642-9e5c66987ca2",
   "metadata": {},
   "outputs": [],
   "source": [
    "exploitation_countries = ht[(\n",
    "    ht[\"year_of_registration\"].notnull() &\n",
    "    (ht[\"majority_entry\"] == \"Minor\") &\n",
    "    ht[\"country_of_exploitation\"].notnull()\n",
    ")][\"country_of_exploitation\"].unique()"
   ]
  },
  {
   "cell_type": "code",
   "execution_count": 101,
   "id": "0ad626d7-fd9b-464a-8861-2e46e3dbdbbb",
   "metadata": {},
   "outputs": [
    {
     "data": {
      "text/plain": [
       "array(['North Macedonia', 'Serbia', 'Russian Federation', 'Ghana',\n",
       "       'Albania', 'Bulgaria', 'Malaysia', 'Romania', 'Uganda', 'Senegal',\n",
       "       'Sierra Leone', 'Thailand', 'Kazakhstan', 'Haiti', 'Ukraine',\n",
       "       'Argentina', 'Morocco', 'Egypt', 'Indonesia',\n",
       "       'Syrian Arab Republic', 'United Arab Emirates', 'Saudi Arabia',\n",
       "       'Singapore', 'Afghanistan', 'Belarus', 'South Africa',\n",
       "       'United States', 'Mexico', 'Philippines', 'Cambodia', 'Kenya',\n",
       "       'Vietnam', 'China', 'Mali', 'India', 'Bangladesh', 'Gabon',\n",
       "       'Libya', 'Nigeria', 'Niger'], dtype=object)"
      ]
     },
     "execution_count": 101,
     "metadata": {},
     "output_type": "execute_result"
    }
   ],
   "source": [
    "exploitation_countries"
   ]
  },
  {
   "cell_type": "markdown",
   "id": "274e8a46-9a9d-4212-a517-ccc18726f58e",
   "metadata": {},
   "source": [
    "Next, we query the number of victims that entered trafficking when minors, per country. We relate this metric to the name of the country and its average population of that country between 2002 and 2021."
   ]
  },
  {
   "cell_type": "code",
   "execution_count": 102,
   "id": "208ceef2-32e4-496c-a55b-cc4932748938",
   "metadata": {},
   "outputs": [],
   "source": [
    "exploitation_countries_count = []"
   ]
  },
  {
   "cell_type": "code",
   "execution_count": 103,
   "id": "527a1874-cdbb-4b09-bcf1-1e79911e8ffb",
   "metadata": {},
   "outputs": [],
   "source": [
    "for country in exploitation_countries:\n",
    "    query = ht[(\n",
    "        ht[\"year_of_registration\"].notnull() &\n",
    "        (ht[\"majority_entry\"] == \"Minor\") &\n",
    "        (ht[\"country_of_exploitation\"] == country)\n",
    "    )]\n",
    "    minors_count = int(query[\"majority_entry\"].value_counts())\n",
    "    mean_population = int(pop.loc[pop[\"country\"] == country, \"2002\":\"2021\"].mean(axis=1))\n",
    "    exploitation_countries_count.append((minors_count, mean_population, country))"
   ]
  },
  {
   "cell_type": "code",
   "execution_count": 104,
   "id": "fa857bad-07b9-4421-8066-9f72e25639be",
   "metadata": {},
   "outputs": [],
   "source": [
    "exploitation_countries_count.sort()"
   ]
  },
  {
   "cell_type": "code",
   "execution_count": 105,
   "id": "47b74942-83a6-4403-acda-9e1a31992f6b",
   "metadata": {},
   "outputs": [
    {
     "data": {
      "text/plain": [
       "[(1, 97320000, 'Philippines'),\n",
       " (2, 168950000, 'Nigeria'),\n",
       " (5, 5177000, 'Singapore'),\n",
       " (5, 20140000, 'Syrian Arab Republic'),\n",
       " (6, 7438000, 'United Arab Emirates'),\n",
       " (6, 17075000, 'Kazakhstan'),\n",
       " (10, 42990000, 'Kenya'),\n",
       " (11, 2937000, 'Albania'),\n",
       " (11, 18090000, 'Niger'),\n",
       " (13, 7618500, 'Serbia'),\n",
       " (14, 20310000, 'Romania'),\n",
       " (16, 88950000, 'Vietnam'),\n",
       " (17, 29935000, 'Saudi Arabia'),\n",
       " (17, 33155000, 'Morocco'),\n",
       " (17, 1360500000, 'China'),\n",
       " (18, 41735000, 'Argentina'),\n",
       " (21, 53155000, 'South Africa'),\n",
       " (25, 2094500, 'North Macedonia'),\n",
       " (27, 91065000, 'Egypt'),\n",
       " (28, 16495000, 'Mali'),\n",
       " (30, 1820500, 'Gabon'),\n",
       " (31, 114700000, 'Mexico'),\n",
       " (32, 6153500, 'Libya'),\n",
       " (33, 9780000, 'Belarus'),\n",
       " (42, 7478500, 'Bulgaria'),\n",
       " (46, 29220000, 'Malaysia'),\n",
       " (58, 30320000, 'Afghanistan'),\n",
       " (65, 6739000, 'Sierra Leone'),\n",
       " (67, 144350000, 'Russian Federation'),\n",
       " (90, 151800000, 'Bangladesh'),\n",
       " (106, 1262000000, 'India'),\n",
       " (126, 45610000, 'Ukraine'),\n",
       " (131, 34485000, 'Uganda'),\n",
       " (162, 248100000, 'Indonesia'),\n",
       " (263, 68570000, 'Thailand'),\n",
       " (337, 10061500, 'Haiti'),\n",
       " (356, 13240000, 'Senegal'),\n",
       " (556, 26655000, 'Ghana'),\n",
       " (822, 14645000, 'Cambodia'),\n",
       " (14164, 314600000, 'United States')]"
      ]
     },
     "execution_count": 105,
     "metadata": {},
     "output_type": "execute_result"
    }
   ],
   "source": [
    "exploitation_countries_count"
   ]
  },
  {
   "cell_type": "markdown",
   "id": "69d51793-33ac-4f81-be7d-741b69d89adc",
   "metadata": {},
   "source": [
    "From this analysis, we learn that the overwhelming majority of reports indicate the U.S. is the most frequent country of exploitation for victims who were minors when entering trafficking. However, we cannot be sure these numbers portay reality. It is possible, for a myriad of reasons, that these specific victims, whose country of exploitation is the U.S., are more likely to have their situation reported.\n",
    "<br>\n",
    "Having analyzed the previous anomaly, we now examine the situations where the victims entered trafficking as adults."
   ]
  },
  {
   "cell_type": "code",
   "execution_count": 106,
   "id": "1a46aa61-b4bf-4325-a7cd-ad8681f9ea72",
   "metadata": {},
   "outputs": [],
   "source": [
    "ht_pop_adult = ht_pop.loc[ht_pop[\"majority_entry\"] == \"Adult\", \"population\"]"
   ]
  },
  {
   "cell_type": "code",
   "execution_count": 107,
   "id": "a623fd38-1ceb-4504-abaf-999e92d93c99",
   "metadata": {},
   "outputs": [
    {
     "data": {
      "text/plain": [
       "count    5.078000e+03\n",
       "mean     1.535711e+08\n",
       "std      1.137482e+08\n",
       "min      1.310000e+06\n",
       "25%      3.210000e+07\n",
       "50%      1.450000e+08\n",
       "75%      2.590000e+08\n",
       "max      1.420000e+09\n",
       "Name: population, dtype: float64"
      ]
     },
     "execution_count": 107,
     "metadata": {},
     "output_type": "execute_result"
    }
   ],
   "source": [
    "ht_pop_adult.describe()"
   ]
  },
  {
   "cell_type": "code",
   "execution_count": 108,
   "id": "1bd574ac-086d-4d5e-861c-de0f3cd6d545",
   "metadata": {},
   "outputs": [
    {
     "data": {
      "image/png": "[encoded data removed]",
      "text/plain": [
       "<Figure size 640x480 with 1 Axes>"
      ]
     },
     "metadata": {},
     "output_type": "display_data"
    }
   ],
   "source": [
    "sns.boxplot(x=ht_pop_adult, color=sns.color_palette(\"colorblind\")[8], orient=\"h\", medianprops={\"color\": \"red\"})\n",
    "plt.title(\"Population of the victims' country of exploitation (2002-2021)\")\n",
    "plt.xlabel(\"Population on the year the victim entered trafficking\")\n",
    "plt.ylabel(\"Adult victims\");"
   ]
  },
  {
   "cell_type": "markdown",
   "id": "df51ce13-8577-40b4-bcd7-1114cf3e3c29",
   "metadata": {},
   "source": [
    "Unlike the previous distribution, this distribution displays a clear relationship between entering human trafficking as an adult and being exploited in countries with low populations."
   ]
  },
  {
   "cell_type": "markdown",
   "id": "382a33b5-0422-4874-b8b8-123f840aa258",
   "metadata": {},
   "source": [
    "## Results"
   ]
  },
  {
   "cell_type": "markdown",
   "id": "613c54b2-1af6-40c3-983f-9a77f52f49cf",
   "metadata": {
    "jp-MarkdownHeadingCollapsed": true
   },
   "source": [
    "### Is a victim’s economic background connected to the way they were recruited?"
   ]
  },
  {
   "cell_type": "markdown",
   "id": "b9e4bcde-0fa4-4848-a108-674647091863",
   "metadata": {},
   "source": [
    "Like before, we examine each recruitment situation individually and starting with the cases where the recruiter is a victim's intimate partner."
   ]
  },
  {
   "cell_type": "code",
   "execution_count": 109,
   "id": "d9914ceb-d463-4cac-8d14-b29cd493d7a3",
   "metadata": {},
   "outputs": [
    {
     "name": "stdout",
     "output_type": "stream",
     "text": [
      "<class 'pandas.core.frame.DataFrame'>\n",
      "Index: 10532 entries, 11654 to 95375\n",
      "Data columns (total 5 columns):\n",
      " #   Column                               Non-Null Count  Dtype  \n",
      "---  ------                               --------------  -----  \n",
      " 0   recruiter_relation_intimate_partner  10532 non-null  float64\n",
      " 1   recruiter_relation_friend            10532 non-null  float64\n",
      " 2   recruiter_relation_family            10532 non-null  float64\n",
      " 3   recruiter_relation_other             10532 non-null  float64\n",
      " 4   gni_per_capita                       10532 non-null  int64  \n",
      "dtypes: float64(4), int64(1)\n",
      "memory usage: 751.7 KB\n"
     ]
    }
   ],
   "source": [
    "ht_gni.info()"
   ]
  },
  {
   "cell_type": "code",
   "execution_count": 110,
   "id": "d9f22e48-3436-4c8c-a45d-bc5170b7cd0b",
   "metadata": {},
   "outputs": [
    {
     "data": {
      "image/png": "[encoded data removed]",
      "text/plain": [
       "<Figure size 640x480 with 1 Axes>"
      ]
     },
     "metadata": {},
     "output_type": "display_data"
    }
   ],
   "source": [
    "sns.histplot(x=ht_gni_partner, color=sns.color_palette(\"colorblind\")[0], alpha=1, bins=50, legend=False)\n",
    "plt.title(\"Wealth of the victims' country of citizenship (2002-2021)\")\n",
    "plt.xlabel(\"GNI per capita on the year the victim entered trafficking\")\n",
    "plt.ylabel(\"Victims recruited by intimate partners\")\n",
    "plt.savefig(\"../images/ht_gni_partner_hist.png\");"
   ]
  },
  {
   "cell_type": "markdown",
   "id": "1322ddd2-40a8-47a2-b085-6331b5e8316a",
   "metadata": {},
   "source": [
    "As seen in its box plot, most victims recruited by intimate partners are citizens of wealthy countries.\n",
    "<br>\n",
    "We continue with the cases where victims were recruited by friends."
   ]
  },
  {
   "cell_type": "code",
   "execution_count": 111,
   "id": "774c6be7-1530-4835-bfe2-1d65c48328ad",
   "metadata": {},
   "outputs": [
    {
     "data": {
      "image/png": "[encoded data removed]",
      "text/plain": [
       "<Figure size 640x480 with 1 Axes>"
      ]
     },
     "metadata": {},
     "output_type": "display_data"
    }
   ],
   "source": [
    "sns.histplot(x=ht_gni_friend, color=sns.color_palette(\"colorblind\")[1], alpha=1, bins=50, legend=False)\n",
    "plt.title(\"Wealth of the victims' country of citizenship (2002-2021)\")\n",
    "plt.xlabel(\"GNI per capita on the year the victim entered trafficking\")\n",
    "plt.ylabel(\"Victims recruited by friends\")\n",
    "plt.savefig(\"../images/ht_gni_friend_hist.png\");"
   ]
  },
  {
   "cell_type": "markdown",
   "id": "b0f1bc31-9852-40b6-8867-ce27dd8bbec9",
   "metadata": {},
   "source": [
    "As seen in its box plot, most victims recruited by friends are citizens of poorer countries.\n",
    "<br>\n",
    "Next, we plot the cases of victims recruited by family members."
   ]
  },
  {
   "cell_type": "code",
   "execution_count": 112,
   "id": "ff1ac34d-5c57-40f9-ba1c-d9bf2f389c08",
   "metadata": {},
   "outputs": [
    {
     "data": {
      "image/png": "[encoded data removed]",
      "text/plain": [
       "<Figure size 640x480 with 1 Axes>"
      ]
     },
     "metadata": {},
     "output_type": "display_data"
    }
   ],
   "source": [
    "sns.histplot(x=ht_gni_family, color=sns.color_palette(\"colorblind\")[2], alpha=1, bins=50, legend=False)\n",
    "plt.title(\"Wealth of the victims' country of citizenship (2002-2021)\")\n",
    "plt.xlabel(\"GNI per capita on the year the victim entered trafficking\")\n",
    "plt.ylabel(\"Victims recruited by family members\")\n",
    "plt.savefig(\"../images/ht_gni_family_hist.png\");"
   ]
  },
  {
   "cell_type": "markdown",
   "id": "7aad07c7-d04c-4a47-8ad9-d34040ca8db8",
   "metadata": {},
   "source": [
    "As seen in its box plot, victims recruited by family members are predominantly citizens from poorer countries, but it is not an uncommon occurrence for citizens of wealthier countries.\n",
    "Lastly, we plot the cases of victims recruited by \"other\" recruiters."
   ]
  },
  {
   "cell_type": "code",
   "execution_count": 113,
   "id": "4e7b8b35-ceb4-4f61-a0b0-df029819b7fc",
   "metadata": {},
   "outputs": [
    {
     "data": {
      "image/png": "[encoded data removed]",
      "text/plain": [
       "<Figure size 640x480 with 1 Axes>"
      ]
     },
     "metadata": {},
     "output_type": "display_data"
    }
   ],
   "source": [
    "sns.histplot(x=ht_gni_other, color=sns.color_palette(\"colorblind\")[4], alpha=1, bins=50, legend=False)\n",
    "plt.title(\"Wealth of the victims' country of citizenship (2002-2021)\")\n",
    "plt.xlabel(\"GNI per capita on the year the victim entered trafficking\")\n",
    "plt.ylabel(\"Victims recruited by \\\"other\\\" recruiters\")\n",
    "plt.savefig(\"../images/ht_gni_other_hist.png\");"
   ]
  },
  {
   "cell_type": "markdown",
   "id": "6958ae5f-d0da-4729-90ee-25541a0eeace",
   "metadata": {},
   "source": [
    "As seen in its box plot, most victims recruited by \"other\" recruiters are citizens of poorer countries.\n",
    "<br>\n",
    "Naturally, our histograms complement their box plot counterparts. However, unlike our box plots, these histograms provide us with deeper insights:\n",
    "* The number of victims recruited by intimate partners spread somewhat uniformly among wealthier sub economies.\n",
    "* The number of victims recruited by friends and \"other\" recruiters spikes on very specific poorer sub economies.\n",
    "* The number of victims recruited by family members is almost non-existent outside of very specific wealthier and poorer, uniform sub economies.\n",
    "\n",
    "Finally, the best visualization to summarize our findings, to avoid cluttering and convey the variance and center of our distributions, may be a graph of the combined box plots."
   ]
  },
  {
   "cell_type": "code",
   "execution_count": 114,
   "id": "5255ee37-2f40-46a5-ae51-cee3a425375e",
   "metadata": {},
   "outputs": [
    {
     "data": {
      "image/png": "[encoded data removed]",
      "text/plain": [
       "<Figure size 640x480 with 1 Axes>"
      ]
     },
     "metadata": {},
     "output_type": "display_data"
    }
   ],
   "source": [
    "sns.boxplot(data=[ht_gni_partner, ht_gni_friend, ht_gni_family, ht_gni_other],\n",
    "            palette=sns.color_palette(\"colorblind\")[0:3] + sns.color_palette(\"colorblind\")[4:],\n",
    "            orient=\"h\",\n",
    "            medianprops={\"color\": \"red\"})\n",
    "labels = [\"Partners\", \"Friends\", \"Family\", \"Other\"]\n",
    "plt.yticks(range(len(labels)), labels)\n",
    "plt.title(\"Wealth of the victims' country of citizenship (2002-2021)\")\n",
    "plt.xlabel(\"GNI per capita on the year the victim entered trafficking\")\n",
    "plt.ylabel(\"Victims recruited by\")\n",
    "plt.savefig(\"../images/ht_gni_all_box.png\");"
   ]
  },
  {
   "cell_type": "markdown",
   "id": "fbfd1a09-2857-44e6-9b96-8f067dee3e72",
   "metadata": {
    "jp-MarkdownHeadingCollapsed": true
   },
   "source": [
    "### Is a victim’s majority at entry connected to the country of exploitation’s population?"
   ]
  },
  {
   "cell_type": "markdown",
   "id": "2c1217e6-fd98-4120-8c65-985522e4e028",
   "metadata": {},
   "source": [
    "As we did before, we examine each majority situation, starting with victims who entered trafficking as minors."
   ]
  },
  {
   "cell_type": "code",
   "execution_count": 115,
   "id": "b03da440-8ab0-42ac-aeba-ea8be452e422",
   "metadata": {},
   "outputs": [
    {
     "data": {
      "image/png": "[encoded data removed]",
      "text/plain": [
       "<Figure size 640x480 with 1 Axes>"
      ]
     },
     "metadata": {},
     "output_type": "display_data"
    }
   ],
   "source": [
    "sns.histplot(x=ht_pop_minor, color=sns.color_palette(\"colorblind\")[7], alpha=1, bins=50, legend=False)\n",
    "plt.title(\"Population of the victims' country of exploitation (2002-2021)\")\n",
    "plt.xlabel(\"Population on the year the victim entered trafficking\")\n",
    "plt.ylabel(\"Minor victims\")\n",
    "plt.savefig(\"../images/ht_pop_minor_hist.png\");"
   ]
  },
  {
   "cell_type": "markdown",
   "id": "9076ab09-c284-4dd8-90e4-27c240c3f351",
   "metadata": {},
   "source": [
    "As previously analyzed, the overwhelming majority of victims who entered trafficking as minors were exploited in the U.S. As a reminder of the analysis, this may not reflect reality.\n",
    "<br>\n",
    "Next, we plot the cases of victims who entered trafficking as adults."
   ]
  },
  {
   "cell_type": "code",
   "execution_count": 116,
   "id": "cc5c3cca-c997-4f1a-a640-b70f903ed1c5",
   "metadata": {},
   "outputs": [
    {
     "data": {
      "image/png": "[encoded data removed]",
      "text/plain": [
       "<Figure size 640x480 with 1 Axes>"
      ]
     },
     "metadata": {},
     "output_type": "display_data"
    }
   ],
   "source": [
    "sns.histplot(x=ht_pop_adult, color=sns.color_palette(\"colorblind\")[8], alpha=1, bins=50, legend=False)\n",
    "plt.title(\"Population of the victims' country of exploitation (2002-2021)\")\n",
    "plt.xlabel(\"Population on the year the victim entered trafficking\")\n",
    "plt.ylabel(\"Adult victims\")\n",
    "plt.savefig(\"../images/ht_pop_adult_hist.png\");"
   ]
  },
  {
   "cell_type": "markdown",
   "id": "3ed88b94-8df5-4b57-9b8b-27f2cba7b859",
   "metadata": {},
   "source": [
    "And a zoom-in into the 0, 10M range may help us better understand the population profiles of these countries of exploitation."
   ]
  },
  {
   "cell_type": "code",
   "execution_count": 117,
   "id": "508cd809-86d7-4135-bb46-c84f9d1d9d24",
   "metadata": {},
   "outputs": [
    {
     "data": {
      "image/png": "[encoded data removed]",
      "text/plain": [
       "<Figure size 640x480 with 1 Axes>"
      ]
     },
     "metadata": {},
     "output_type": "display_data"
    }
   ],
   "source": [
    "sns.histplot(x=ht_pop_adult, color=sns.color_palette(\"colorblind\")[8], alpha=1, bins=200, legend=False)\n",
    "plt.title(\"Population of the victims' country of exploitation (2002-2021)\")\n",
    "plt.xlabel(\"Population on the year the victim entered trafficking\")\n",
    "plt.ylabel(\"Adult victims\")\n",
    "plt.xlim(0, 1e7)\n",
    "plt.savefig(\"../images/ht_pop_adult_hist.png\");"
   ]
  },
  {
   "cell_type": "markdown",
   "id": "951fe2ab-5e0d-4c3c-b030-7e480443193f",
   "metadata": {},
   "source": [
    "As seen in these histogram, the majority of victims who entered trafficking as adults were exploited in countries with low populations.\n",
    "<br>\n",
    "And again, the most effective way to capture the variance and center of these situations may be by using a graph of the combined box plots."
   ]
  },
  {
   "cell_type": "code",
   "execution_count": 118,
   "id": "ea502b21-564c-4d70-85ba-2a2a4e234b49",
   "metadata": {},
   "outputs": [
    {
     "data": {
      "image/png": "[encoded data removed]",
      "text/plain": [
       "<Figure size 640x480 with 1 Axes>"
      ]
     },
     "metadata": {},
     "output_type": "display_data"
    }
   ],
   "source": [
    "sns.boxplot(data=[ht_pop_minor, ht_pop_adult],\n",
    "            palette=sns.color_palette(\"colorblind\")[7:],\n",
    "            orient=\"h\",\n",
    "            medianprops={\"color\": \"red\"}\n",
    "           )\n",
    "labels = [\"Minor victims\", \"Adult victims\"]\n",
    "plt.yticks(range(len(labels)), labels)\n",
    "plt.title(\"Population of the victims' country of exploitation (2002-2021)\")\n",
    "plt.xlabel(\"Population on the year the victim entered trafficking\")\n",
    "plt.ylabel(\"Majority of victims\")\n",
    "plt.savefig(\"../images/ht_pop_all_hist.png\", bbox_inches='tight');"
   ]
  },
  {
   "cell_type": "markdown",
   "id": "8d25570d-3679-4f9c-b5d0-88f978443f1b",
   "metadata": {},
   "source": [
    "The lack of a box and whiskers in a box plot, also called whisker plot, is not pleasant to the eye but effectively communicates the little variance in the distribution of these cases."
   ]
  },
  {
   "cell_type": "markdown",
   "id": "efa42e6b-9658-49c3-bfab-cdce92eb99e2",
   "metadata": {
    "jp-MarkdownHeadingCollapsed": true
   },
   "source": [
    "## Analysis and conclusion"
   ]
  },
  {
   "cell_type": "markdown",
   "id": "9ed995d7-3eb6-4520-80ff-1e676a8920ed",
   "metadata": {},
   "source": [
    "### Almost all victims recruited by intimate partners are citizens of wealthier countries"
   ]
  },
  {
   "cell_type": "markdown",
   "id": "f9afe406-005d-4fc1-be46-2ee6aeb75687",
   "metadata": {},
   "source": [
    "A key piece of information to complement this observation is the existence of \"lover boys\". Lover boys are online traffickers that target vulnerable persons, aim to establish romantic relationships, and control and exploit their victims [7]. Hence, it is possible that victims reporting intimate partners as traffickers were actually scammed by lover boys, more appropriately classified under the \"other\" recruiters category.\n",
    "<br>\n",
    "Having mentioned that, a possible explanation to this phenomenon is that citizens from wealthier countries have different needs than citizens from poorer backgrounds. The most common vulnerabilities of victims from developing countries are sick relatives, defaulted loans, or the risk of violence [4]. These are needs on the bottom levels of the Maslow's hierarchy of needs. On the other hand, we can connect the needs of citizens from wealthier countries to the top levels of the pyramid. Hence, victims from wealthier economic backgrounds are more susceptible to being controlled under the guise of love and belonging, esteem, and self-actualization."
   ]
  },
  {
   "cell_type": "markdown",
   "id": "46c9257f-d71d-4a70-b995-82a9cc7a580f",
   "metadata": {},
   "source": [
    "### The majority of victims recruited by friends and \"other\" recruiters are citizens of poorer countries"
   ]
  },
  {
   "cell_type": "markdown",
   "id": "9c5da7b9-2f4f-4428-92a4-a7e0eb0b1738",
   "metadata": {},
   "source": [
    "One possible explanation to the connection between \"other\" recruiters and victims from less wealthy countries is the already established idea that traffickers exploit vulnerabilities--sick relatives, defaulted loans, emotional instability--to gain control over and exploit victims [4][5]. And such vulnerabilities are most common in developing countries [4].\n",
    "<br>\n",
    "On the same note, it is well documented that traffickers may pretend to establish friendships with victims during the recruitment stage [4]. This means that a portion of victims recruited by \"friends\" were most likely recruited by \"other\" recruiters. Regarding the other portion of authentic friend recruiter reports, a possible explanation is that friend recruiters, potentially living under the same economic circumstances as victims, experience hardship and resort to exploit others to alleviate their own circumstances."
   ]
  },
  {
   "cell_type": "markdown",
   "id": "6d2c5da5-8aa8-4d58-bede-64bca062687d",
   "metadata": {},
   "source": [
    "### Victims recruited by family members are very common in poorer countries and not uncommon in wealthier countries"
   ]
  },
  {
   "cell_type": "markdown",
   "id": "b5fda6e7-4610-461a-abbd-2a49a0ce371b",
   "metadata": {},
   "source": [
    "One possible explanation to this phenomenon is an observation made in developing countries: Senior family members handing junior family members, most often their daughter, to traffickers in exchange of having their debts forgiven [4]. In these cases, young victims, presumably minors under the custody of family members, faced the vulnerability of being controlled by a family member. With those cases in mind, it is not hard to imagine similar situations--for a myriad of reasons, including debt forgiveness--occurring in wealthier countries."
   ]
  },
  {
   "cell_type": "markdown",
   "id": "8abfebd7-92af-472c-9144-cd87a48e9d7e",
   "metadata": {},
   "source": [
    "### Reportedly, most victims entering trafficking as minors are exploited in the U.S."
   ]
  },
  {
   "cell_type": "markdown",
   "id": "8de73240-0c1a-401c-9e7c-57db1f6bf9ff",
   "metadata": {},
   "source": [
    "Originally, the intention was to make a connection between the majority, minor or adult, of a victim at entry, early in the recruitment process, and the population of their country of exploitation. However, unlike our previous examinations, the data at hand was not useful to draw conclusions on this situation. The selected reports--with non-null \"year_of_registration\", \"majority_entry\", and \"country_of_exploitation\"--included ~21k cases. Nevertheless, ~14k of these reports came from the U.S., which drastically impacted the sample's variance and median. Because of this, and because of less believable situations in the sample--only one reported case in the Philippines from 2002 to 2021--the only observation we can make is that, reportedly, most victims entering trafficking as minors were exploited in the U.S."
   ]
  },
  {
   "cell_type": "markdown",
   "id": "daa01470-7b17-4fb3-82a8-9ee8f97474f5",
   "metadata": {},
   "source": [
    "### Most victims entering trafficking as adults are exploited in countries with lower populations"
   ]
  },
  {
   "cell_type": "markdown",
   "id": "adeb4ba7-e899-4314-8257-29bd6a119614",
   "metadata": {},
   "source": [
    "From our examination, the victims who entered trafficking as adults were exploited in countries that had a median population of 145M, and it was not uncommon to see large numbers of cases accummulated in countries with ~10M citizens. In this case, the U.S. cases did not eclipse the sample. Note, however, the relatively small number of reports coming from highly populated countries, like India and China, which make countries with ~145M citizens look like low-populated.\n",
    "<br>\n",
    "A potential explanation to our observation--that most victims entering trafficking as adults are exploited in countries with lower populations--is the lack of human capital in low-populated countries. For instance, it is common knowledge that in some wealthy and low populated countries in the Middle East, construction human capital is often foreign--note we are not implying that situations like these immediately represent human trafficking."
   ]
  },
  {
   "cell_type": "markdown",
   "id": "7cf199a2-849e-4b0d-bba3-592c5243a5a6",
   "metadata": {},
   "source": [
    "## References"
   ]
  },
  {
   "cell_type": "markdown",
   "id": "bf2d7fef-4f9a-4f9c-8ad9-7adaecd394f8",
   "metadata": {},
   "source": [
    "[1] Counter Trafficking Data Collaborative, \"The Global K-anonymized Dataset\". 2023. https://www.ctdatacollaborative.org/sites/g/files/tmzbdl2011/files/The%20Global%20K-anon%20Dataset%2015%20July%202021.xlsx.\n",
    "<br>\n",
    "[2] Counter Trafficking Data Collaborative, \"Counter Trafficking Data Collaborative (CTDC) K-anonymized Data Codebook\". 2021. https://www.ctdatacollaborative.org/sites/g/files/tmzbdl2011/files/CTDCk_codebook_v7_1.pdf.\n",
    "<br>\n",
    "[3] Counter Trafficking Data Collaborative, \"The Global K-anonymized Data Dictionary\". 2021. https://www.ctdatacollaborative.org/sites/g/files/tmzbdl2011/files/CTDC%20Global%20K-anon%20Dataset%20DATA%20DICTIONARY%20version%2020210825.xlsx.\n",
    "<br>\n",
    "[4] C. Fraser, \"An analysis of the emerging role of social media in human trafficking: Examples from labour and human organ trading,\" International Journal of Development Issues, vol. 15, no. 2, pp. 98-112, 2016. https://doi.org/10.1108/IJDI-12-2015-0076.\n",
    "<br>\n",
    "[5] UNODC, Global Report on Tra\u001d",
    "cking in Persons 2020. 2020. https://www.unodc.org/documents/data-and-analysis/tip/2021/GLOTiP_2020_Chapter5.pdf.\n",
    "<br>\n",
    "[6] UNODC, Global Report on Tra\u001d",
    "cking in Persons 2022. 2020. https://www.unodc.org/documents/data-and-analysis/glotip/2022/GLOTiP_2022_web.pdf.\n",
    "<br>\n",
    "[7] P. Campana, \"Online and technology-facilitated trafficking in human beings\", Council of Europe. 2022. https://rm.coe.int/online-and-technology-facilitated-trafficking-in-human-beings-summary-/1680a5e10c."
   ]
  }
 ],
 "metadata": {
  "kernelspec": {
   "display_name": "Python 3 (ipykernel)",
   "language": "python",
   "name": "python3"
  },
  "language_info": {
   "codemirror_mode": {
    "name": "ipython",
    "version": 3
   },
   "file_extension": ".py",
   "mimetype": "text/x-python",
   "name": "python",
   "nbconvert_exporter": "python",
   "pygments_lexer": "ipython3",
   "version": "3.11.8"
  }
 },
 "nbformat": 4,
 "nbformat_minor": 5
}
