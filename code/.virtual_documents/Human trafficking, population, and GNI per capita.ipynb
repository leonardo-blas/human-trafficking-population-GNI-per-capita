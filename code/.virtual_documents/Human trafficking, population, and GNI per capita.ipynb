




















import pandas as pd


ht = pd.read_excel("../data/The Global K-anon Dataset 15 July 2021.xlsx")


ht.info()





cols = [
    "yearOfRegistration",
    "ageBroad",
    "majorityStatus",
    "majorityStatusAtExploit",
    "majorityEntry",
    "citizenship",
    "CountryOfExploitation",
    "recruiterRelationIntimatePartner",
    "recruiterRelationFriend",
    "recruiterRelationFamily",
    "recruiterRelationOther"
]
ht = ht.loc[:, cols]


ht.info()





ht.columns = [
    "year_of_registration",
    "age_broad",
    "majority_status",
    "majority_status_at_exploit",
    "majority_entry",
    "citizenship",
    "country_of_exploitation",
    "recruiter_relation_intimate_partner",
    "recruiter_relation_friend",
    "recruiter_relation_family",
    "recruiter_relation_other"
]


ht.info()





ht = ht[ht["year_of_registration"].notnull()]


ht.info()





filter = (
    (ht["majority_entry"] != "Minor") &
    (
        ht["age_broad"].isin(["0--8", "9--17"]) |
        (ht["majority_status"] == "Minor") |
        (ht["majority_status_at_exploit"] == "Minor")
    )
)
ht.loc[filter, "majority_entry"] = "Minor"


ht["majority_entry"].info()





ht.drop(inplace=True, columns=["age_broad", "majority_status", "majority_status_at_exploit"])


ht.info()


ht.head()





import pycountry


map = {c.alpha_2: c.common_name if hasattr(c, "common_name") else c.name for c in pycountry.countries}
ht["citizenship"].replace(inplace=True, to_replace=map)
ht["country_of_exploitation"].replace(inplace=True, to_replace=map)


ht.sample(5)








gni = pd.read_csv("../data/gni_per_cap_atlas_method_con2021.csv", index_col=False)


gni.info()


gni.dtypes


gni.head()





cols = ["country"] + [str(y) for y in range(2002, 2022)]
gni = gni.loc[:, cols]


gni.info()





ht[ht["citizenship"].isin(gni["country"].unique()) == False]["citizenship"].unique()





map = {
    "Congo, Dem. Rep.": "Congo, The Democratic Republic of the",
    "Cote d'Ivoire": "Côte d'Ivoire",
    "Kyrgyz Republic": "Kyrgyzstan",
    "Lao": "Lao People's Democratic Republic",
    "Micronesia, Fed. Sts.": "Micronesia, Federated States of",
    "Russia": "Russian Federation"
}
gni["country"].replace(inplace=True, to_replace=map)


ht[ht["citizenship"].isin(gni["country"].unique()) == False]["citizenship"].unique()





gni = gni[gni["country"].isin(ht["citizenship"])]


gni.info()





gni.head(10)





for s in gni.columns[1:]:
    gni[s] = gni[s].str.replace("k", "e3").str.replace("M", "e6").str.replace("B", "e9").astype(float)





gni[gni["country"] == "Brazil"]





gni.to_csv("../data/gni_per_capita_clean.csv", index=False, mode="a")





pop = pd.read_csv("../data/population.csv")


pop.info()


pop.dtypes


pop.head()





cols = ["country"] + [str(y) for y in range(2002, 2022)]
pop = pop.loc[:, cols]


gni.info()





ht[ht["country_of_exploitation"].isin(pop["country"].unique()) == False]["country_of_exploitation"].unique()





map = {
    "Russia": "Russian Federation",
    "Czech Republic": "Czechia",
    "Syria": "Syrian Arab Republic",
    "Cote d'Ivoire": "Côte d'Ivoire",
    "Hong Kong, China": "Hong Kong"
}
pop["country"].replace(inplace=True, to_replace=map)


ht[ht["country_of_exploitation"].isin(pop["country"].unique()) == False]["country_of_exploitation"].unique()





pop = pop[pop["country"].isin(ht["country_of_exploitation"])]


pop.info()





pop.head(10)





for s in pop.columns[1:]:
    pop[s] = pop[s].str.replace("k", "e3").str.replace("M", "e6").str.replace("B", "e9").astype(float)


pop.info()





pop[pop["country"] == "Afghanistan"]





pop.to_csv("../data/population_clean.csv", index=False, mode="a")








ht.info()





ht_gni = ht[ht["citizenship"].notnull() & (
    (ht["recruiter_relation_family"] == 1) |
    (ht["recruiter_relation_friend"] == 1) |
    (ht["recruiter_relation_intimate_partner"] == 1) |
    (ht["recruiter_relation_other"] == 1)
)].copy()


ht_gni.drop(inplace=True, columns=["majority_entry", "country_of_exploitation"])


ht_gni.info()





gni.info()


ht_gni["gni_per_capita"] = 0
for i, r in ht_gni.iterrows():
    try:
        ht_gni.at[i, "gni_per_capita"] = gni.loc[gni["country"] == r["citizenship"], str(int(r["year_of_registration"]))].values[0]
    except:
        continue  # Ignoring null values.


ht_gni.info()


ht_gni.head()





gni[gni["country"] == "Sri Lanka"]





ht_gni.drop(inplace=True, columns=["citizenship", "year_of_registration"])


ht_gni.info()





ht_gni.to_csv("../data/ht_gni_clean.csv", index=False, mode="a")





ht.info()





ht_pop = ht[ht["majority_entry"].notnull() & ht["country_of_exploitation"].notnull()].copy()


ht_pop.drop(inplace=True, columns=[
    "citizenship",
    "recruiter_relation_intimate_partner",
    "recruiter_relation_friend",
    "recruiter_relation_family",
    "recruiter_relation_other"
])


ht_pop.info()





pop.info()


ht_pop["population"] = 0
for i, r in ht_pop.iterrows():
    try:
        ht_pop.at[i, "population"] = pop.loc[pop["country"] == r["country_of_exploitation"], str(int(r["year_of_registration"]))].values[0]
    except:
        continue  # Ignoring null values.


ht_pop.info()


ht_pop.head()





pop[pop["country"] == "North Macedonia"]





ht_pop.drop(inplace=True, columns=["country_of_exploitation", "year_of_registration"])


ht_pop.info()





ht_pop.to_csv("../data/ht_pop_clean.csv", index=False, mode="a")











ht_gni.info()


ht_gni.head()





ht_gni_partner = ht_gni.loc[ht_gni["recruiter_relation_intimate_partner"] == 1, "gni_per_capita"]


ht_gni_partner.describe()


import matplotlib.pyplot as plt
import seaborn as sns
from seaborn import color_palette
import warnings
warnings.simplefilter(action="ignore", category=FutureWarning)


sns.boxplot(x=ht_gni_partner, color=sns.color_palette("colorblind")[0], orient="h", medianprops={"color": "red"})
plt.title("Wealth of the victims' country of citizenship (2002-2021)")
plt.xlabel("GNI per capita on the year the victim entered trafficking")
plt.ylabel("Victims recruited by intimate partners");





ht_gni_friend = ht_gni.loc[ht_gni["recruiter_relation_friend"] == 1, "gni_per_capita"]


ht_gni_friend.describe()


sns.boxplot(x=ht_gni_friend, color=sns.color_palette("colorblind")[1], orient="h", medianprops={"color": "red"})
plt.title("Wealth of the victims' country of citizenship (2002-2021)")
plt.xlabel("GNI per capita on the year the victim entered trafficking")
plt.ylabel("Victims recruited by friends");





ht_gni_family = ht_gni.loc[ht_gni["recruiter_relation_family"] == 1, "gni_per_capita"]


ht_gni_friend.describe()


sns.boxplot(x=ht_gni_family, color=sns.color_palette("colorblind")[2], orient="h", medianprops={"color": "red"})
plt.title("Wealth of the victims' country of citizenship (2002-2021)")
plt.xlabel("GNI per capita on the year the victim entered trafficking")
plt.ylabel("Victims recruited by family members");





ht_gni_other = ht_gni.loc[ht_gni["recruiter_relation_other"] == 1, "gni_per_capita"]


ht_gni_other.describe()


sns.boxplot(x=ht_gni_other, color=sns.color_palette("colorblind")[4], orient="h", medianprops={"color": "red"})
plt.title("Wealth of the victims' country of citizenship (2002-2021)")
plt.xlabel("GNI per capita on the year the victim entered trafficking")
plt.ylabel("Victims recruited by \"other\" recruiters");











ht_pop.info()


ht_pop.head()





ht_pop_minor = ht_pop.loc[ht_pop["majority_entry"] == "Minor", "population"]


ht_pop_minor.describe()


import numpy as np


sns.boxplot(x=ht_pop_minor, color=sns.color_palette("colorblind")[7], orient="h", medianprops={"color": "red"})
plt.title("Population of the victims' country of exploitation (2002-2021)")
plt.xlabel("Population on the year the victim entered trafficking")
plt.ylabel("Minor victims");





exploitation_countries = ht[(
    ht["year_of_registration"].notnull() &
    (ht["majority_entry"] == "Minor") &
    ht["country_of_exploitation"].notnull()
)]["country_of_exploitation"].unique()


exploitation_countries





exploitation_countries_count = []


for country in exploitation_countries:
    query = ht[(
        ht["year_of_registration"].notnull() &
        (ht["majority_entry"] == "Minor") &
        (ht["country_of_exploitation"] == country)
    )]
    minors_count = int(query["majority_entry"].value_counts())
    mean_population = int(pop.loc[pop["country"] == country, "2002":"2021"].mean(axis=1))
    exploitation_countries_count.append((minors_count, mean_population, country))


exploitation_countries_count.sort()


exploitation_countries_count





ht_pop_adult = ht_pop.loc[ht_pop["majority_entry"] == "Adult", "population"]


ht_pop_adult.describe()


sns.boxplot(x=ht_pop_adult, color=sns.color_palette("colorblind")[8], orient="h", medianprops={"color": "red"})
plt.title("Population of the victims' country of exploitation (2002-2021)")
plt.xlabel("Population on the year the victim entered trafficking")
plt.ylabel("Adult victims");














ht_gni.info()


sns.histplot(x=ht_gni_partner, color=sns.color_palette("colorblind")[0], alpha=1, bins=50, legend=False)
plt.title("Wealth of the victims' country of citizenship (2002-2021)")
plt.xlabel("GNI per capita on the year the victim entered trafficking")
plt.ylabel("Victims recruited by intimate partners")
plt.savefig("../images/ht_gni_partner_hist.png");





sns.histplot(x=ht_gni_friend, color=sns.color_palette("colorblind")[1], alpha=1, bins=50, legend=False)
plt.title("Wealth of the victims' country of citizenship (2002-2021)")
plt.xlabel("GNI per capita on the year the victim entered trafficking")
plt.ylabel("Victims recruited by friends")
plt.savefig("../images/ht_gni_friend_hist.png");





sns.histplot(x=ht_gni_family, color=sns.color_palette("colorblind")[2], alpha=1, bins=50, legend=False)
plt.title("Wealth of the victims' country of citizenship (2002-2021)")
plt.xlabel("GNI per capita on the year the victim entered trafficking")
plt.ylabel("Victims recruited by family members")
plt.savefig("../images/ht_gni_family_hist.png");





sns.histplot(x=ht_gni_other, color=sns.color_palette("colorblind")[4], alpha=1, bins=50, legend=False)
plt.title("Wealth of the victims' country of citizenship (2002-2021)")
plt.xlabel("GNI per capita on the year the victim entered trafficking")
plt.ylabel("Victims recruited by \"other\" recruiters")
plt.savefig("../images/ht_gni_other_hist.png");





sns.boxplot(data=[ht_gni_partner, ht_gni_friend, ht_gni_family, ht_gni_other],
            palette=sns.color_palette("colorblind")[0:3] + sns.color_palette("colorblind")[4:],
            orient="h",
            medianprops={"color": "red"})
labels = ["Partners", "Friends", "Family", "Other"]
plt.yticks(range(len(labels)), labels)
plt.title("Wealth of the victims' country of citizenship (2002-2021)")
plt.xlabel("GNI per capita on the year the victim entered trafficking")
plt.ylabel("Victims recruited by")
plt.savefig("../images/ht_gni_all_box.png");








sns.histplot(x=ht_pop_minor, color=sns.color_palette("colorblind")[7], alpha=1, bins=50, legend=False)
plt.title("Population of the victims' country of exploitation (2002-2021)")
plt.xlabel("Population on the year the victim entered trafficking")
plt.ylabel("Minor victims")
plt.savefig("../images/ht_pop_minor_hist.png");





sns.histplot(x=ht_pop_adult, color=sns.color_palette("colorblind")[8], alpha=1, bins=50, legend=False)
plt.title("Population of the victims' country of exploitation (2002-2021)")
plt.xlabel("Population on the year the victim entered trafficking")
plt.ylabel("Adult victims")
plt.savefig("../images/ht_pop_adult_hist.png");





sns.histplot(x=ht_pop_adult, color=sns.color_palette("colorblind")[8], alpha=1, bins=200, legend=False)
plt.title("Population of the victims' country of exploitation (2002-2021)")
plt.xlabel("Population on the year the victim entered trafficking")
plt.ylabel("Adult victims")
plt.xlim(0, 1e7)
plt.savefig("../images/ht_pop_adult_hist.png");





sns.boxplot(data=[ht_pop_minor, ht_pop_adult],
            palette=sns.color_palette("colorblind")[7:],
            orient="h",
            medianprops={"color": "red"}
           )
labels = ["Minor victims", "Adult victims"]
plt.yticks(range(len(labels)), labels)
plt.title("Population of the victims' country of exploitation (2002-2021)")
plt.xlabel("Population on the year the victim entered trafficking")
plt.ylabel("Majority of victims")
plt.savefig("../images/ht_pop_all_hist.png", bbox_inches='tight');










































